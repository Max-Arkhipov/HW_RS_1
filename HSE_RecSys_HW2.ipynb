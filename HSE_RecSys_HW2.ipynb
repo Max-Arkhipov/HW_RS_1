{
 "cells": [
  {
   "cell_type": "markdown",
   "id": "93831896-683d-4946-8cae-7aff56608a65",
   "metadata": {},
   "source": [
    "## ДЗ №2. Матричные факторизации"
   ]
  },
  {
   "cell_type": "markdown",
   "id": "03b424ec-3791-4113-a672-25ef7cfa704d",
   "metadata": {},
   "source": [
    "#### В этой домашке вам предстоит реализовать некоторые базовые модели матричной факторизации\n",
    "\n",
    "#### Дата выдачи: 17.02.25\n",
    "\n",
    "#### Мягкий дедлайн: 02.03.25 23:59 MSK\n",
    "\n",
    "#### Жесткий дедлайн: 09.03.25 23:59 MSK"
   ]
  },
  {
   "cell_type": "markdown",
   "id": "d8f4b315-75b8-4225-953c-5510c584ff2b",
   "metadata": {},
   "source": [
    "В этом задании мы будем работать с классическим для рекоендательных систем датасетом [MovieLens 1M](https://grouplens.org/datasets/movielens/1m/). Датасет содержит рейтинги оценки для 4000 фильмов от 6000 пользователей. Более подробное описание можете найти на странице с датасетом и в README файле"
   ]
  },
  {
   "cell_type": "code",
   "execution_count": 1,
   "id": "f5a85f84-4854-4249-963d-143d08bb7e36",
   "metadata": {},
   "outputs": [
    {
     "name": "stdout",
     "output_type": "stream",
     "text": [
      "zsh:1: command not found: wget\n",
      "unzip:  cannot find or open ml-1m.zip, ml-1m.zip.zip or ml-1m.zip.ZIP.\n",
      "SUMMARY\n",
      "================================================================================\n",
      "\n",
      "These files contain 1,000,209 anonymous ratings of approximately 3,900 movies \n",
      "made by 6,040 MovieLens users who joined MovieLens in 2000.\n",
      "\n",
      "USAGE LICENSE\n",
      "================================================================================\n",
      "\n",
      "Neither the University of Minnesota nor any of the researchers\n",
      "involved can guarantee the correctness of the data, its suitability\n",
      "for any particular purpose, or the validity of results based on the\n",
      "use of the data set.  The data set may be used for any research\n",
      "purposes under the following conditions:\n",
      "\n",
      "     * The user may not state or imply any endorsement from the\n",
      "       University of Minnesota or the GroupLens Research Group.\n",
      "\n",
      "     * The user must acknowledge the use of the data set in\n",
      "       publications resulting from the use of the data set\n",
      "       (see below for citation information).\n",
      "\n",
      "     * The user may not redistribute the data without separate\n",
      "       permission.\n",
      "\n",
      "     * The user may not use this information for any commercial or\n",
      "       revenue-bearing purposes without first obtaining permission\n",
      "       from a faculty member of the GroupLens Research Project at the\n",
      "       University of Minnesota.\n",
      "\n",
      "If you have any further questions or comments, please contact GroupLens\n",
      "<grouplens-info@cs.umn.edu>. \n",
      "\n",
      "CITATION\n",
      "================================================================================\n",
      "\n",
      "To acknowledge use of the dataset in publications, please cite the following\n",
      "paper:\n",
      "\n",
      "F. Maxwell Harper and Joseph A. Konstan. 2015. The MovieLens Datasets: History\n",
      "and Context. ACM Transactions on Interactive Intelligent Systems (TiiS) 5, 4,\n",
      "Article 19 (December 2015), 19 pages. DOI=http://dx.doi.org/10.1145/2827872\n",
      "\n",
      "\n",
      "ACKNOWLEDGEMENTS\n",
      "================================================================================\n",
      "\n",
      "Thanks to Shyong Lam and Jon Herlocker for cleaning up and generating the data\n",
      "set.\n",
      "\n",
      "FURTHER INFORMATION ABOUT THE GROUPLENS RESEARCH PROJECT\n",
      "================================================================================\n",
      "\n",
      "The GroupLens Research Project is a research group in the Department of \n",
      "Computer Science and Engineering at the University of Minnesota. Members of \n",
      "the GroupLens Research Project are involved in many research projects related \n",
      "to the fields of information filtering, collaborative filtering, and \n",
      "recommender systems. The project is lead by professors John Riedl and Joseph \n",
      "Konstan. The project began to explore automated collaborative filtering in \n",
      "1992, but is most well known for its world wide trial of an automated \n",
      "collaborative filtering system for Usenet news in 1996. Since then the project \n",
      "has expanded its scope to research overall information filtering solutions, \n",
      "integrating in content-based methods as well as improving current collaborative \n",
      "filtering technology.\n",
      "\n",
      "Further information on the GroupLens Research project, including research \n",
      "publications, can be found at the following web site:\n",
      "        \n",
      "        http://www.grouplens.org/\n",
      "\n",
      "GroupLens Research currently operates a movie recommender based on \n",
      "collaborative filtering:\n",
      "\n",
      "        http://www.movielens.org/\n",
      "\n",
      "RATINGS FILE DESCRIPTION\n",
      "================================================================================\n",
      "\n",
      "All ratings are contained in the file \"ratings.dat\" and are in the\n",
      "following format:\n",
      "\n",
      "UserID::MovieID::Rating::Timestamp\n",
      "\n",
      "- UserIDs range between 1 and 6040 \n",
      "- MovieIDs range between 1 and 3952\n",
      "- Ratings are made on a 5-star scale (whole-star ratings only)\n",
      "- Timestamp is represented in seconds since the epoch as returned by time(2)\n",
      "- Each user has at least 20 ratings\n",
      "\n",
      "USERS FILE DESCRIPTION\n",
      "================================================================================\n",
      "\n",
      "User information is in the file \"users.dat\" and is in the following\n",
      "format:\n",
      "\n",
      "UserID::Gender::Age::Occupation::Zip-code\n",
      "\n",
      "All demographic information is provided voluntarily by the users and is\n",
      "not checked for accuracy.  Only users who have provided some demographic\n",
      "information are included in this data set.\n",
      "\n",
      "- Gender is denoted by a \"M\" for male and \"F\" for female\n",
      "- Age is chosen from the following ranges:\n",
      "\n",
      "\t*  1:  \"Under 18\"\n",
      "\t* 18:  \"18-24\"\n",
      "\t* 25:  \"25-34\"\n",
      "\t* 35:  \"35-44\"\n",
      "\t* 45:  \"45-49\"\n",
      "\t* 50:  \"50-55\"\n",
      "\t* 56:  \"56+\"\n",
      "\n",
      "- Occupation is chosen from the following choices:\n",
      "\n",
      "\t*  0:  \"other\" or not specified\n",
      "\t*  1:  \"academic/educator\"\n",
      "\t*  2:  \"artist\"\n",
      "\t*  3:  \"clerical/admin\"\n",
      "\t*  4:  \"college/grad student\"\n",
      "\t*  5:  \"customer service\"\n",
      "\t*  6:  \"doctor/health care\"\n",
      "\t*  7:  \"executive/managerial\"\n",
      "\t*  8:  \"farmer\"\n",
      "\t*  9:  \"homemaker\"\n",
      "\t* 10:  \"K-12 student\"\n",
      "\t* 11:  \"lawyer\"\n",
      "\t* 12:  \"programmer\"\n",
      "\t* 13:  \"retired\"\n",
      "\t* 14:  \"sales/marketing\"\n",
      "\t* 15:  \"scientist\"\n",
      "\t* 16:  \"self-employed\"\n",
      "\t* 17:  \"technician/engineer\"\n",
      "\t* 18:  \"tradesman/craftsman\"\n",
      "\t* 19:  \"unemployed\"\n",
      "\t* 20:  \"writer\"\n",
      "\n",
      "MOVIES FILE DESCRIPTION\n",
      "================================================================================\n",
      "\n",
      "Movie information is in the file \"movies.dat\" and is in the following\n",
      "format:\n",
      "\n",
      "MovieID::Title::Genres\n",
      "\n",
      "- Titles are identical to titles provided by the IMDB (including\n",
      "year of release)\n",
      "- Genres are pipe-separated and are selected from the following genres:\n",
      "\n",
      "\t* Action\n",
      "\t* Adventure\n",
      "\t* Animation\n",
      "\t* Children's\n",
      "\t* Comedy\n",
      "\t* Crime\n",
      "\t* Documentary\n",
      "\t* Drama\n",
      "\t* Fantasy\n",
      "\t* Film-Noir\n",
      "\t* Horror\n",
      "\t* Musical\n",
      "\t* Mystery\n",
      "\t* Romance\n",
      "\t* Sci-Fi\n",
      "\t* Thriller\n",
      "\t* War\n",
      "\t* Western\n",
      "\n",
      "- Some MovieIDs do not correspond to a movie due to accidental duplicate\n",
      "entries and/or test entries\n",
      "- Movies are mostly entered by hand, so errors and inconsistencies may exist\n"
     ]
    }
   ],
   "source": [
    "!wget https://files.grouplens.org/datasets/movielens/ml-1m.zip\n",
    "!unzip ml-1m.zip\n",
    "!cat ml-1m/README"
   ]
  },
  {
   "cell_type": "code",
   "execution_count": 2,
   "id": "669137ca-f0f9-48d4-ae04-e42a4b0f8d14",
   "metadata": {},
   "outputs": [],
   "source": [
    "import pandas as pd\n",
    "import numpy as np\n",
    "from typing import Union"
   ]
  },
  {
   "cell_type": "code",
   "execution_count": 3,
   "id": "ed65b0ae-ce2d-437a-9739-e7981011089f",
   "metadata": {},
   "outputs": [
    {
     "data": {
      "text/html": [
       "<div>\n",
       "<style scoped>\n",
       "    .dataframe tbody tr th:only-of-type {\n",
       "        vertical-align: middle;\n",
       "    }\n",
       "\n",
       "    .dataframe tbody tr th {\n",
       "        vertical-align: top;\n",
       "    }\n",
       "\n",
       "    .dataframe thead th {\n",
       "        text-align: right;\n",
       "    }\n",
       "</style>\n",
       "<table border=\"1\" class=\"dataframe\">\n",
       "  <thead>\n",
       "    <tr style=\"text-align: right;\">\n",
       "      <th></th>\n",
       "      <th>user_id</th>\n",
       "      <th>item_id</th>\n",
       "      <th>rating</th>\n",
       "      <th>datetime</th>\n",
       "    </tr>\n",
       "  </thead>\n",
       "  <tbody>\n",
       "    <tr>\n",
       "      <th>0</th>\n",
       "      <td>1</td>\n",
       "      <td>1193</td>\n",
       "      <td>5</td>\n",
       "      <td>2000-12-31 22:12:40</td>\n",
       "    </tr>\n",
       "    <tr>\n",
       "      <th>1</th>\n",
       "      <td>1</td>\n",
       "      <td>661</td>\n",
       "      <td>3</td>\n",
       "      <td>2000-12-31 22:35:09</td>\n",
       "    </tr>\n",
       "    <tr>\n",
       "      <th>2</th>\n",
       "      <td>1</td>\n",
       "      <td>914</td>\n",
       "      <td>3</td>\n",
       "      <td>2000-12-31 22:32:48</td>\n",
       "    </tr>\n",
       "    <tr>\n",
       "      <th>3</th>\n",
       "      <td>1</td>\n",
       "      <td>3408</td>\n",
       "      <td>4</td>\n",
       "      <td>2000-12-31 22:04:35</td>\n",
       "    </tr>\n",
       "    <tr>\n",
       "      <th>4</th>\n",
       "      <td>1</td>\n",
       "      <td>2355</td>\n",
       "      <td>5</td>\n",
       "      <td>2001-01-06 23:38:11</td>\n",
       "    </tr>\n",
       "  </tbody>\n",
       "</table>\n",
       "</div>"
      ],
      "text/plain": [
       "   user_id  item_id  rating            datetime\n",
       "0        1     1193       5 2000-12-31 22:12:40\n",
       "1        1      661       3 2000-12-31 22:35:09\n",
       "2        1      914       3 2000-12-31 22:32:48\n",
       "3        1     3408       4 2000-12-31 22:04:35\n",
       "4        1     2355       5 2001-01-06 23:38:11"
      ]
     },
     "execution_count": 3,
     "metadata": {},
     "output_type": "execute_result"
    }
   ],
   "source": [
    "df = pd.read_csv(\"ml-1m/ratings.dat\", sep='::', names=['user_id', 'item_id', 'rating', 'timestamp'], engine='python')\n",
    "df['datetime'] = pd.to_datetime(df['timestamp'], unit='s')\n",
    "df.drop('timestamp', axis=1, inplace=True)\n",
    "df.head()"
   ]
  },
  {
   "cell_type": "code",
   "execution_count": 4,
   "id": "4988d476-542e-4a32-9c45-7a16bc2a5db5",
   "metadata": {},
   "outputs": [],
   "source": [
    "value_counts = df['item_id'].value_counts()\n",
    "filtered_values = value_counts[value_counts > 20].index\n",
    "df = df[df['item_id'].isin(filtered_values)].copy()"
   ]
  },
  {
   "cell_type": "code",
   "execution_count": 5,
   "id": "1e05bd3b-ab2f-4c02-9a97-a4153e9550bc",
   "metadata": {},
   "outputs": [
    {
     "data": {
      "text/plain": [
       "((787420, 4), (207432, 4))"
      ]
     },
     "execution_count": 5,
     "metadata": {},
     "output_type": "execute_result"
    }
   ],
   "source": [
    "train_end = '2000-12-01'\n",
    "df_train = df[df['datetime'] < train_end].copy()\n",
    "df_test = df[df['datetime'] >= train_end].copy()\n",
    "df_train.shape, df_test.shape"
   ]
  },
  {
   "cell_type": "code",
   "execution_count": 6,
   "id": "414b8ed7-20d6-4778-9d60-f9c8ccbfa7e3",
   "metadata": {},
   "outputs": [
    {
     "data": {
      "text/plain": [
       "(106471, 4)"
      ]
     },
     "execution_count": 6,
     "metadata": {},
     "output_type": "execute_result"
    }
   ],
   "source": [
    "train_users = df_train['user_id'].unique()\n",
    "train_items = df_train['item_id'].unique()\n",
    "\n",
    "df_test = df_test[df_test['user_id'].isin(train_users)]\n",
    "df_test = df_test[df_test['item_id'].isin(train_items)]\n",
    "df_test.shape"
   ]
  },
  {
   "cell_type": "code",
   "execution_count": 7,
   "id": "19f53d61-990c-4626-a470-7eefd06d2ec7",
   "metadata": {},
   "outputs": [],
   "source": [
    "from sklearn.preprocessing import LabelEncoder\n",
    "\n",
    "user_le = LabelEncoder()\n",
    "item_le = LabelEncoder()\n",
    "\n",
    "df_train['user_id'] = user_le.fit_transform(df_train['user_id'])\n",
    "df_train['item_id'] = item_le.fit_transform(df_train['item_id'])\n",
    "\n",
    "df_test['user_id'] = user_le.transform(df_test['user_id'])\n",
    "df_test['item_id'] = item_le.transform(df_test['item_id'])"
   ]
  },
  {
   "cell_type": "code",
   "execution_count": 8,
   "id": "f4ef3e2f-792d-4511-b4d0-74495d9cb30b",
   "metadata": {},
   "outputs": [
    {
     "data": {
      "text/plain": [
       "(3010, 3009)"
      ]
     },
     "execution_count": 8,
     "metadata": {},
     "output_type": "execute_result"
    }
   ],
   "source": [
    "df_train['user_id'].nunique(), df_train['user_id'].max()\n",
    "df_train['item_id'].nunique(), df_train['item_id'].max()"
   ]
  },
  {
   "cell_type": "code",
   "execution_count": 9,
   "id": "c861c986",
   "metadata": {},
   "outputs": [
    {
     "data": {
      "text/plain": [
       "5365"
      ]
     },
     "execution_count": 9,
     "metadata": {},
     "output_type": "execute_result"
    }
   ],
   "source": [
    "df_train['user_id'].nunique()"
   ]
  },
  {
   "cell_type": "code",
   "execution_count": 10,
   "id": "30b1d18a",
   "metadata": {},
   "outputs": [
    {
     "data": {
      "text/plain": [
       "1147"
      ]
     },
     "execution_count": 10,
     "metadata": {},
     "output_type": "execute_result"
    }
   ],
   "source": [
    "df_test['user_id'].nunique()"
   ]
  },
  {
   "cell_type": "code",
   "execution_count": 11,
   "id": "067d6758",
   "metadata": {},
   "outputs": [],
   "source": [
    "users = df['user_id'].unique()\n",
    "items = df['item_id'].unique()\n",
    "\n",
    "user_map = {user: i for i, user in enumerate(users)}\n",
    "item_map = {item: i for i, item in enumerate(items)}\n",
    "\n",
    "matrix = np.zeros((len(users), len(items)))\n",
    "\n",
    "for _, row in df.iterrows():\n",
    "    matrix[user_map[row['user_id']], item_map[row['item_id']]] = row['rating']"
   ]
  },
  {
   "cell_type": "code",
   "execution_count": 12,
   "id": "a525d85c",
   "metadata": {},
   "outputs": [
    {
     "data": {
      "text/plain": [
       "array([[5., 3., 3., ..., 0., 0., 0.],\n",
       "       [5., 0., 0., ..., 0., 0., 0.],\n",
       "       [0., 0., 0., ..., 0., 0., 0.],\n",
       "       ...,\n",
       "       [0., 0., 0., ..., 0., 0., 0.],\n",
       "       [0., 3., 4., ..., 0., 0., 0.],\n",
       "       [4., 0., 0., ..., 0., 0., 0.]])"
      ]
     },
     "execution_count": 12,
     "metadata": {},
     "output_type": "execute_result"
    }
   ],
   "source": [
    "matrix"
   ]
  },
  {
   "cell_type": "code",
   "execution_count": 13,
   "id": "680f993b",
   "metadata": {},
   "outputs": [
    {
     "data": {
      "text/plain": [
       "(6040, 3011)"
      ]
     },
     "execution_count": 13,
     "metadata": {},
     "output_type": "execute_result"
    }
   ],
   "source": [
    "matrix.shape"
   ]
  },
  {
   "cell_type": "markdown",
   "id": "3d356df8-9157-4752-b30d-dc80aba5e53c",
   "metadata": {},
   "source": [
    "##### Задание 1. Напишем функцию, которая превратит датафрейм в матрицу интеракций. В функции df_to_matrix реализуйте функцию, которая принимает датафрейм и возвращает np.array матрицу интеракций. В функции df_to_coo реализуйте функцию, которая принимает датафрейм и возвращает разреженную матрицу интеракций в coo_array формате"
   ]
  },
  {
   "cell_type": "code",
   "execution_count": 14,
   "id": "d38a7bb7-7f2d-4957-8dac-6397af9b1645",
   "metadata": {},
   "outputs": [],
   "source": [
    "import pandas as pd\n",
    "import numpy as np\n",
    "\n",
    "def df_to_matrix(df: pd.DataFrame) -> np.ndarray:\n",
    "    \n",
    "    users = df['user_id'].astype('category').cat.codes\n",
    "    items = df['item_id'].astype('category').cat.codes\n",
    "    \n",
    "    matrix = np.zeros((users.max() + 1, items.max() + 1))\n",
    "    matrix[users, items] = df['rating'].values\n",
    "    \n",
    "    return matrix"
   ]
  },
  {
   "cell_type": "code",
   "execution_count": 15,
   "id": "794b646d-a560-42dd-a466-87cad2589271",
   "metadata": {},
   "outputs": [],
   "source": [
    "from scipy.sparse import coo_array\n",
    "\n",
    "def df_to_coo(df: pd.DataFrame) -> coo_array:\n",
    "\n",
    "    users = df['user_id'].astype('category').cat.codes\n",
    "    items = df['item_id'].astype('category').cat.codes\n",
    "\n",
    "    return coo_array((df['rating'], (users, items)))"
   ]
  },
  {
   "cell_type": "code",
   "execution_count": 16,
   "id": "30f9c218-0419-41b2-a112-c2214fad1d99",
   "metadata": {},
   "outputs": [],
   "source": [
    "interactions = df_to_matrix(df_train)\n",
    "coo_interactions = df_to_coo(df_train)"
   ]
  },
  {
   "cell_type": "code",
   "execution_count": 17,
   "id": "96b57a7a-0551-4f75-8047-fb9904ac93df",
   "metadata": {},
   "outputs": [],
   "source": [
    "assert (interactions != 0).sum() == df_train.shape[0]\n",
    "assert interactions[0, 2994] == 3\n",
    "assert interactions[2369, 1203] == 5\n",
    "assert interactions[1557, 459] == 3\n",
    "assert np.allclose(coo_interactions.toarray(), interactions)"
   ]
  },
  {
   "cell_type": "markdown",
   "id": "93b3862a-e62a-4ebe-a70c-29102e9f99fd",
   "metadata": {},
   "source": [
    "##### Задание 2.1. Рассмотрим [SVD](https://en.wikipedia.org/wiki/Singular_value_decomposition). Возьмите готовую реализуцию алгоритма из numpy.linalg или из scipy.linalg и примените алгоритм к матрицам интеракций, полученным в первом задании. Для работы со sparse матрицей обычная реализация svd не подойдет и нужно будет воспользоваться scipy.sparse.linalg.svds. Вам нужно разложить матрицу интеракций на 3 матрицы U, S, V, а затем перемножить их и восстановить изначальную матрицу. При полном разложении исходная матрица должна восстанавливаться максимально хорошо"
   ]
  },
  {
   "cell_type": "code",
   "execution_count": 18,
   "id": "49d2f125",
   "metadata": {},
   "outputs": [],
   "source": [
    "import numpy as np\n",
    "from scipy.sparse import coo_array\n",
    "from scipy.sparse.linalg import svds\n",
    "from numpy.linalg import svd\n",
    "from typing import Union\n",
    "\n",
    "def make_svd(interactions: Union[np.ndarray, coo_array], \n",
    "             n_singular_values: int = -1):\n",
    "\n",
    "    if isinstance(interactions, np.ndarray):\n",
    "        U, S, Vt = svd(interactions, full_matrices=False)\n",
    "        if n_singular_values != -1:\n",
    "            U = U[:, :n_singular_values]\n",
    "            S = S[:n_singular_values]\n",
    "            Vt = Vt[:n_singular_values, :]\n",
    "    \n",
    "    elif isinstance(interactions, coo_array):\n",
    "        interactions = interactions.astype(float)\n",
    "        if n_singular_values == -1:\n",
    "            n_singular_values = min(interactions.shape) - 1\n",
    "        U, S, Vt = svds(interactions, k=n_singular_values)\n",
    "    \n",
    "    return U, np.diag(S), Vt\n"
   ]
  },
  {
   "cell_type": "code",
   "execution_count": 19,
   "id": "5c5fecd4-4739-4f6b-9c9c-44bde8b66a34",
   "metadata": {},
   "outputs": [],
   "source": [
    "U, S, V = make_svd(interactions)\n",
    "assert np.allclose(U @ S @ V, interactions)"
   ]
  },
  {
   "cell_type": "code",
   "execution_count": 20,
   "id": "c5a5f59e-3832-4a7d-95b4-856531582bbd",
   "metadata": {},
   "outputs": [],
   "source": [
    "U1, S1, V1 = make_svd(interactions, 10)\n",
    "U, S, V = make_svd(coo_interactions, 10)\n",
    "assert np.allclose(U1 @ S1 @ V1, U @ S @ V)"
   ]
  },
  {
   "cell_type": "markdown",
   "id": "9443daa6-e9f1-414a-8107-5a3016452929",
   "metadata": {},
   "source": [
    "##### Задание 2.2. Теперь попробуем сделать рекомендации с помощью SVD. Мы научились восстанавливать исходную матрицу с помощью разложения, теперь же мы хотим порекомендовать пользователю айтемы, которые будут для него максимально релевантны(в восстановленной матрице у них будет самый высокий скор). Для каждого пользователя нужно будет найти индексы айтемов, которые имеют максимальный скор. При этом стоит обратить внимание, что мы не хотим рекомендовать пользователю айтемы, с которыми он уже взаимодействовал"
   ]
  },
  {
   "cell_type": "code",
   "execution_count": 21,
   "id": "2aaf0a83",
   "metadata": {},
   "outputs": [],
   "source": [
    "import numpy as np\n",
    "from scipy.sparse import coo_matrix\n",
    "from scipy.sparse.linalg import svds\n",
    "from numpy.linalg import svd\n",
    "from typing import Union\n",
    "\n",
    "def make_svd_recommendations(interactions: Union[np.ndarray, coo_matrix], \n",
    "                             n_singular_values: int = -1, \n",
    "                             top_k: int = 100):\n",
    "\n",
    "    U, S, Vt = make_svd(interactions, n_singular_values)\n",
    "    reconstructed_matrix = U @ S @ Vt\n",
    "    interactions_mask = interactions > 0 if isinstance(interactions, np.ndarray) else interactions.toarray() > 0\n",
    "    reconstructed_matrix[interactions_mask] = -np.inf\n",
    "    recommendations = np.argsort(-reconstructed_matrix, axis=1)[:, :top_k]\n",
    "    \n",
    "    return recommendations\n"
   ]
  },
  {
   "cell_type": "code",
   "execution_count": 22,
   "id": "ec72f3dd-c8f2-4434-b84e-ef016c4773a1",
   "metadata": {},
   "outputs": [],
   "source": [
    "recs = make_svd_recommendations(interactions, -1, 100)\n",
    "assert recs.shape == (interactions.shape[0], 100)"
   ]
  },
  {
   "cell_type": "code",
   "execution_count": 23,
   "id": "5be9cbdc",
   "metadata": {},
   "outputs": [
    {
     "data": {
      "text/plain": [
       "(5365, 100)"
      ]
     },
     "execution_count": 23,
     "metadata": {},
     "output_type": "execute_result"
    }
   ],
   "source": [
    "recs.shape"
   ]
  },
  {
   "cell_type": "code",
   "execution_count": 24,
   "id": "f2ec1199",
   "metadata": {},
   "outputs": [
    {
     "data": {
      "text/plain": [
       "array([[   7,   13,    4, ..., 2102, 1277, 2706],\n",
       "       [   2,    1,   32, ...,  766, 1031,  130],\n",
       "       [  10,    3,   20, ...,  493,  770, 1184],\n",
       "       ...,\n",
       "       [  96, 2861,   38, ...,  239, 2290,  596],\n",
       "       [  10,   80,  573, ..., 1691, 2282, 1038],\n",
       "       [   2,    7,    3, ...,  297, 1899, 2596]])"
      ]
     },
     "execution_count": 24,
     "metadata": {},
     "output_type": "execute_result"
    }
   ],
   "source": [
    "recs"
   ]
  },
  {
   "cell_type": "markdown",
   "id": "f5d0b788-855a-4fd9-8cbb-38c0dd289ef5",
   "metadata": {},
   "source": [
    "##### Задание 2.3. Теперь давайте посмотрим как будет зависеть качетво рекомендаций, от количества сингулярных чисел, которые мы возьмем в SVD разложении. Переберите n_singular_values из списка [1, 10, 50, 200, 1000] и посмотрите как будет изменяться метрика NDCG на тестовом датасете для таких рекомендаций и как будет меняться время вычисления. Для каждого графики зависимости метрики NDCG от n_singular_values и времени работы алгоритма от n_singular_values(Время работы будет меняться только для sparse-матрицы, стоит запускать алгоритм именно для нее)"
   ]
  },
  {
   "cell_type": "code",
   "execution_count": 25,
   "id": "8921c174",
   "metadata": {},
   "outputs": [
    {
     "name": "stderr",
     "output_type": "stream",
     "text": [
      "/var/folders/34/9lmn_1px5cs289tjl5rn7cs80000gn/T/ipykernel_65197/1139884798.py:1: DeprecationWarning: DataFrameGroupBy.apply operated on the grouping columns. This behavior is deprecated, and in a future version of pandas the grouping columns will be excluded from the operation. Either pass `include_groups=False` to exclude the groupings or explicitly select the grouping columns after groupby to silence this warning.\n",
      "  test_grouped = df_test.groupby('user_id').apply(\n"
     ]
    }
   ],
   "source": [
    "test_grouped = df_test.groupby('user_id').apply(\n",
    "    lambda x: dict([(t1, t2) for t1, t2 in sorted(zip(x.item_id, x.rating), key=lambda x: x[1])])\n",
    "    ).reset_index()\n",
    "\n",
    "test_grouped.rename({0:'item_ratings'}, axis=1, inplace=True)"
   ]
  },
  {
   "cell_type": "code",
   "execution_count": 26,
   "id": "17afa6a2",
   "metadata": {},
   "outputs": [
    {
     "data": {
      "text/html": [
       "<div>\n",
       "<style scoped>\n",
       "    .dataframe tbody tr th:only-of-type {\n",
       "        vertical-align: middle;\n",
       "    }\n",
       "\n",
       "    .dataframe tbody tr th {\n",
       "        vertical-align: top;\n",
       "    }\n",
       "\n",
       "    .dataframe thead th {\n",
       "        text-align: right;\n",
       "    }\n",
       "</style>\n",
       "<table border=\"1\" class=\"dataframe\">\n",
       "  <thead>\n",
       "    <tr style=\"text-align: right;\">\n",
       "      <th></th>\n",
       "      <th>user_id</th>\n",
       "      <th>item_ratings</th>\n",
       "    </tr>\n",
       "  </thead>\n",
       "  <tbody>\n",
       "    <tr>\n",
       "      <th>0</th>\n",
       "      <td>0</td>\n",
       "      <td>{959: 2, 2992: 3, 3004: 3, 1242: 3, 2251: 3, 9...</td>\n",
       "    </tr>\n",
       "    <tr>\n",
       "      <th>1</th>\n",
       "      <td>1</td>\n",
       "      <td>{3005: 3, 2346: 3, 2490: 3, 2742: 3, 2747: 3, ...</td>\n",
       "    </tr>\n",
       "    <tr>\n",
       "      <th>2</th>\n",
       "      <td>3</td>\n",
       "      <td>{2995: 1, 839: 1, 1848: 3, 2780: 3, 961: 4, 92...</td>\n",
       "    </tr>\n",
       "    <tr>\n",
       "      <th>3</th>\n",
       "      <td>4</td>\n",
       "      <td>{580: 5, 665: 5, 666: 5, 1203: 5, 510: 5, 2097...</td>\n",
       "    </tr>\n",
       "    <tr>\n",
       "      <th>4</th>\n",
       "      <td>6</td>\n",
       "      <td>{1526: 1, 1536: 1, 742: 1, 162: 1, 525: 1, 113...</td>\n",
       "    </tr>\n",
       "    <tr>\n",
       "      <th>...</th>\n",
       "      <td>...</td>\n",
       "      <td>...</td>\n",
       "    </tr>\n",
       "    <tr>\n",
       "      <th>1142</th>\n",
       "      <td>5325</td>\n",
       "      <td>{496: 2, 1084: 2, 2791: 2, 1032: 2, 134: 2, 21...</td>\n",
       "    </tr>\n",
       "    <tr>\n",
       "      <th>1143</th>\n",
       "      <td>5326</td>\n",
       "      <td>{2394: 2, 2411: 2, 664: 3, 2610: 3, 850: 3, 16...</td>\n",
       "    </tr>\n",
       "    <tr>\n",
       "      <th>1144</th>\n",
       "      <td>5340</td>\n",
       "      <td>{1111: 1, 2939: 1, 1527: 2, 676: 2, 682: 2, 13...</td>\n",
       "    </tr>\n",
       "    <tr>\n",
       "      <th>1145</th>\n",
       "      <td>5352</td>\n",
       "      <td>{2279: 4}</td>\n",
       "    </tr>\n",
       "    <tr>\n",
       "      <th>1146</th>\n",
       "      <td>5364</td>\n",
       "      <td>{2588: 3, 947: 3, 126: 3, 1307: 3, 1532: 4, 19...</td>\n",
       "    </tr>\n",
       "  </tbody>\n",
       "</table>\n",
       "<p>1147 rows × 2 columns</p>\n",
       "</div>"
      ],
      "text/plain": [
       "      user_id                                       item_ratings\n",
       "0           0  {959: 2, 2992: 3, 3004: 3, 1242: 3, 2251: 3, 9...\n",
       "1           1  {3005: 3, 2346: 3, 2490: 3, 2742: 3, 2747: 3, ...\n",
       "2           3  {2995: 1, 839: 1, 1848: 3, 2780: 3, 961: 4, 92...\n",
       "3           4  {580: 5, 665: 5, 666: 5, 1203: 5, 510: 5, 2097...\n",
       "4           6  {1526: 1, 1536: 1, 742: 1, 162: 1, 525: 1, 113...\n",
       "...       ...                                                ...\n",
       "1142     5325  {496: 2, 1084: 2, 2791: 2, 1032: 2, 134: 2, 21...\n",
       "1143     5326  {2394: 2, 2411: 2, 664: 3, 2610: 3, 850: 3, 16...\n",
       "1144     5340  {1111: 1, 2939: 1, 1527: 2, 676: 2, 682: 2, 13...\n",
       "1145     5352                                          {2279: 4}\n",
       "1146     5364  {2588: 3, 947: 3, 126: 3, 1307: 3, 1532: 4, 19...\n",
       "\n",
       "[1147 rows x 2 columns]"
      ]
     },
     "execution_count": 26,
     "metadata": {},
     "output_type": "execute_result"
    }
   ],
   "source": [
    "test_grouped"
   ]
  },
  {
   "cell_type": "code",
   "execution_count": 27,
   "id": "b7f05b91",
   "metadata": {},
   "outputs": [],
   "source": [
    "def result(name: str,\n",
    "           recs: np.array,\n",
    "           test_result: pd.DataFrame,\n",
    "           ):\n",
    "    \n",
    "    col_pred = name\n",
    "\n",
    "    def get_pred_rating(row):\n",
    "        item_dict = row[\"item_ratings\"]\n",
    "        return [item_dict.get(item, 0) for item in row[col_pred]]\n",
    "\n",
    "    def dcg(relevance):\n",
    "        positions = np.arange(len(relevance)) + 1\n",
    "        dcg_score = np.sum(relevance / np.log2(positions + 1))\n",
    "        return dcg_score\n",
    "\n",
    "    def ndcg(relevance):\n",
    "        dcg_r = dcg(relevance)\n",
    "        dcg_i = dcg(sorted(relevance, reverse=True))\n",
    "        if dcg_i > 0:\n",
    "            return dcg_r / dcg_i\n",
    "        return 0\n",
    "    test_result[col_pred] = test_result[\"user_id\"].apply(lambda uid: recs[uid])\n",
    "    test_result[col_pred] = test_result.apply(get_pred_rating, axis=1)\n",
    "    test_result[col_pred] = test_result[col_pred].apply(ndcg)"
   ]
  },
  {
   "cell_type": "code",
   "execution_count": 28,
   "id": "facfb0c6",
   "metadata": {},
   "outputs": [],
   "source": [
    "result(\"svd\", recs, test_grouped)"
   ]
  },
  {
   "cell_type": "code",
   "execution_count": 30,
   "id": "8be4c5ed",
   "metadata": {},
   "outputs": [
    {
     "data": {
      "text/plain": [
       "0.26201301992827836"
      ]
     },
     "execution_count": 30,
     "metadata": {},
     "output_type": "execute_result"
    }
   ],
   "source": [
    "test_grouped[\"svd\"].mean()"
   ]
  },
  {
   "cell_type": "code",
   "execution_count": 31,
   "id": "566f4bee",
   "metadata": {},
   "outputs": [
    {
     "data": {
      "text/html": [
       "<div>\n",
       "<style scoped>\n",
       "    .dataframe tbody tr th:only-of-type {\n",
       "        vertical-align: middle;\n",
       "    }\n",
       "\n",
       "    .dataframe tbody tr th {\n",
       "        vertical-align: top;\n",
       "    }\n",
       "\n",
       "    .dataframe thead th {\n",
       "        text-align: right;\n",
       "    }\n",
       "</style>\n",
       "<table border=\"1\" class=\"dataframe\">\n",
       "  <thead>\n",
       "    <tr style=\"text-align: right;\">\n",
       "      <th></th>\n",
       "      <th>user_id</th>\n",
       "      <th>item_ratings</th>\n",
       "      <th>svd</th>\n",
       "    </tr>\n",
       "  </thead>\n",
       "  <tbody>\n",
       "    <tr>\n",
       "      <th>0</th>\n",
       "      <td>0</td>\n",
       "      <td>{959: 2, 2992: 3, 3004: 3, 1242: 3, 2251: 3, 9...</td>\n",
       "      <td>0.000000</td>\n",
       "    </tr>\n",
       "    <tr>\n",
       "      <th>1</th>\n",
       "      <td>1</td>\n",
       "      <td>{3005: 3, 2346: 3, 2490: 3, 2742: 3, 2747: 3, ...</td>\n",
       "      <td>0.456342</td>\n",
       "    </tr>\n",
       "    <tr>\n",
       "      <th>2</th>\n",
       "      <td>3</td>\n",
       "      <td>{2995: 1, 839: 1, 1848: 3, 2780: 3, 961: 4, 92...</td>\n",
       "      <td>0.000000</td>\n",
       "    </tr>\n",
       "    <tr>\n",
       "      <th>3</th>\n",
       "      <td>4</td>\n",
       "      <td>{580: 5, 665: 5, 666: 5, 1203: 5, 510: 5, 2097...</td>\n",
       "      <td>0.356207</td>\n",
       "    </tr>\n",
       "    <tr>\n",
       "      <th>4</th>\n",
       "      <td>6</td>\n",
       "      <td>{1526: 1, 1536: 1, 742: 1, 162: 1, 525: 1, 113...</td>\n",
       "      <td>0.685073</td>\n",
       "    </tr>\n",
       "    <tr>\n",
       "      <th>...</th>\n",
       "      <td>...</td>\n",
       "      <td>...</td>\n",
       "      <td>...</td>\n",
       "    </tr>\n",
       "    <tr>\n",
       "      <th>1142</th>\n",
       "      <td>5325</td>\n",
       "      <td>{496: 2, 1084: 2, 2791: 2, 1032: 2, 134: 2, 21...</td>\n",
       "      <td>0.454946</td>\n",
       "    </tr>\n",
       "    <tr>\n",
       "      <th>1143</th>\n",
       "      <td>5326</td>\n",
       "      <td>{2394: 2, 2411: 2, 664: 3, 2610: 3, 850: 3, 16...</td>\n",
       "      <td>0.000000</td>\n",
       "    </tr>\n",
       "    <tr>\n",
       "      <th>1144</th>\n",
       "      <td>5340</td>\n",
       "      <td>{1111: 1, 2939: 1, 1527: 2, 676: 2, 682: 2, 13...</td>\n",
       "      <td>0.150190</td>\n",
       "    </tr>\n",
       "    <tr>\n",
       "      <th>1145</th>\n",
       "      <td>5352</td>\n",
       "      <td>{2279: 4}</td>\n",
       "      <td>0.000000</td>\n",
       "    </tr>\n",
       "    <tr>\n",
       "      <th>1146</th>\n",
       "      <td>5364</td>\n",
       "      <td>{2588: 3, 947: 3, 126: 3, 1307: 3, 1532: 4, 19...</td>\n",
       "      <td>0.197927</td>\n",
       "    </tr>\n",
       "  </tbody>\n",
       "</table>\n",
       "<p>1147 rows × 3 columns</p>\n",
       "</div>"
      ],
      "text/plain": [
       "      user_id                                       item_ratings       svd\n",
       "0           0  {959: 2, 2992: 3, 3004: 3, 1242: 3, 2251: 3, 9...  0.000000\n",
       "1           1  {3005: 3, 2346: 3, 2490: 3, 2742: 3, 2747: 3, ...  0.456342\n",
       "2           3  {2995: 1, 839: 1, 1848: 3, 2780: 3, 961: 4, 92...  0.000000\n",
       "3           4  {580: 5, 665: 5, 666: 5, 1203: 5, 510: 5, 2097...  0.356207\n",
       "4           6  {1526: 1, 1536: 1, 742: 1, 162: 1, 525: 1, 113...  0.685073\n",
       "...       ...                                                ...       ...\n",
       "1142     5325  {496: 2, 1084: 2, 2791: 2, 1032: 2, 134: 2, 21...  0.454946\n",
       "1143     5326  {2394: 2, 2411: 2, 664: 3, 2610: 3, 850: 3, 16...  0.000000\n",
       "1144     5340  {1111: 1, 2939: 1, 1527: 2, 676: 2, 682: 2, 13...  0.150190\n",
       "1145     5352                                          {2279: 4}  0.000000\n",
       "1146     5364  {2588: 3, 947: 3, 126: 3, 1307: 3, 1532: 4, 19...  0.197927\n",
       "\n",
       "[1147 rows x 3 columns]"
      ]
     },
     "execution_count": 31,
     "metadata": {},
     "output_type": "execute_result"
    }
   ],
   "source": [
    "test_grouped"
   ]
  },
  {
   "cell_type": "code",
   "execution_count": 34,
   "id": "06f931fd-0eb0-4965-9e02-e005ed545c71",
   "metadata": {},
   "outputs": [],
   "source": [
    "import time\n",
    "\n",
    "def plot_graphs(interactions: Union[np.ndarray, coo_array], n_singular_values, top_k: int = 100):\n",
    "\n",
    "    ndsg_values, time_values = [], []\n",
    "\n",
    "    for n in n_singular_values:\n",
    "        start_time = time.time()\n",
    "        recs = make_svd_recommendations(interactions, n, 100)\n",
    "        elapsed_time = time.time() - start_time\n",
    "        time_values.append(elapsed_time)\n",
    "        \n",
    "        result(\"plot_svd\", recs, test_grouped)\n",
    "\n",
    "        ndsg_values.append(test_grouped[\"plot_svd\"].mean())\n",
    "\n",
    "        print(f\"n_singular_values = {n}, NDCG = {test_grouped[\"plot_svd\"].mean():.4f}, Time = {elapsed_time:.2f} seconds\")\n",
    "    \n",
    "    return ndsg_values, time_values\n",
    "        "
   ]
  },
  {
   "cell_type": "code",
   "execution_count": 35,
   "id": "515c2b53",
   "metadata": {},
   "outputs": [
    {
     "name": "stdout",
     "output_type": "stream",
     "text": [
      "n_singular_values = 1, NDCG = 0.4833, Time = 1.07 seconds\n",
      "n_singular_values = 10, NDCG = 0.5178, Time = 1.20 seconds\n",
      "n_singular_values = 50, NDCG = 0.5005, Time = 1.85 seconds\n",
      "n_singular_values = 200, NDCG = 0.4362, Time = 4.61 seconds\n",
      "n_singular_values = 1000, NDCG = 0.2815, Time = 29.98 seconds\n"
     ]
    }
   ],
   "source": [
    "n_singular_values = [1, 10, 50, 200, 1000]\n",
    "ndsg_values, time_values = plot_graphs(coo_interactions, n_singular_values)"
   ]
  },
  {
   "cell_type": "code",
   "execution_count": 36,
   "id": "aa4546c2",
   "metadata": {},
   "outputs": [
    {
     "data": {
      "image/png": "[encoded data removed]",
      "text/plain": [
       "<Figure size 1200x500 with 2 Axes>"
      ]
     },
     "metadata": {},
     "output_type": "display_data"
    }
   ],
   "source": [
    "import pandas as pd\n",
    "import numpy as np\n",
    "import time\n",
    "import matplotlib.pyplot as plt\n",
    "\n",
    "plt.figure(figsize=(12, 5))\n",
    "\n",
    "plt.subplot(1, 2, 1)\n",
    "plt.plot(n_singular_values, ndsg_values, marker='o')\n",
    "plt.title('NDCG от количества сингулярных чисел')\n",
    "plt.xlabel('Количество сингулярных чисел (n_singular_values)')\n",
    "plt.ylabel('NDCG')\n",
    "plt.grid(True)\n",
    "\n",
    "plt.subplot(1, 2, 2)\n",
    "plt.plot(n_singular_values, time_values, marker='o', color='red')\n",
    "plt.title('Время вычисления от количества сингулярных чисел')\n",
    "plt.xlabel('Количество сингулярных чисел (n_singular_values)')\n",
    "plt.ylabel('Время (секунды)')\n",
    "plt.grid(True)\n",
    "\n",
    "plt.tight_layout()\n",
    "plt.show()"
   ]
  },
  {
   "cell_type": "code",
   "execution_count": 40,
   "id": "b4b6686d",
   "metadata": {},
   "outputs": [
    {
     "data": {
      "text/html": [
       "<div>\n",
       "<style scoped>\n",
       "    .dataframe tbody tr th:only-of-type {\n",
       "        vertical-align: middle;\n",
       "    }\n",
       "\n",
       "    .dataframe tbody tr th {\n",
       "        vertical-align: top;\n",
       "    }\n",
       "\n",
       "    .dataframe thead th {\n",
       "        text-align: right;\n",
       "    }\n",
       "</style>\n",
       "<table border=\"1\" class=\"dataframe\">\n",
       "  <thead>\n",
       "    <tr style=\"text-align: right;\">\n",
       "      <th></th>\n",
       "      <th>user_id</th>\n",
       "      <th>item_ratings</th>\n",
       "      <th>svd</th>\n",
       "      <th>pred_ratings</th>\n",
       "      <th>plot_svd</th>\n",
       "      <th>svd_10</th>\n",
       "    </tr>\n",
       "  </thead>\n",
       "  <tbody>\n",
       "    <tr>\n",
       "      <th>0</th>\n",
       "      <td>0</td>\n",
       "      <td>{959: 2, 2992: 3, 3004: 3, 1242: 3, 2251: 3, 9...</td>\n",
       "      <td>0.000000</td>\n",
       "      <td>[211, 875, 877, 1940, 889, 1497, 499, 496, 947...</td>\n",
       "      <td>0.315465</td>\n",
       "      <td>0.667642</td>\n",
       "    </tr>\n",
       "    <tr>\n",
       "      <th>1</th>\n",
       "      <td>1</td>\n",
       "      <td>{3005: 3, 2346: 3, 2490: 3, 2742: 3, 2747: 3, ...</td>\n",
       "      <td>0.456342</td>\n",
       "      <td>[211, 875, 877, 1940, 889, 496, 947, 876, 638,...</td>\n",
       "      <td>0.305899</td>\n",
       "      <td>0.917811</td>\n",
       "    </tr>\n",
       "    <tr>\n",
       "      <th>2</th>\n",
       "      <td>3</td>\n",
       "      <td>{2995: 1, 839: 1, 1848: 3, 2780: 3, 961: 4, 92...</td>\n",
       "      <td>0.000000</td>\n",
       "      <td>[875, 877, 1940, 889, 1497, 947, 876, 2097, 91...</td>\n",
       "      <td>0.188207</td>\n",
       "      <td>0.152210</td>\n",
       "    </tr>\n",
       "    <tr>\n",
       "      <th>3</th>\n",
       "      <td>4</td>\n",
       "      <td>{580: 5, 665: 5, 666: 5, 1203: 5, 510: 5, 2097...</td>\n",
       "      <td>0.356207</td>\n",
       "      <td>[877, 510, 876, 638, 242, 449, 2097, 1203, 820...</td>\n",
       "      <td>0.000000</td>\n",
       "      <td>0.465060</td>\n",
       "    </tr>\n",
       "    <tr>\n",
       "      <th>4</th>\n",
       "      <td>6</td>\n",
       "      <td>{1526: 1, 1536: 1, 742: 1, 162: 1, 525: 1, 113...</td>\n",
       "      <td>0.685073</td>\n",
       "      <td>[875, 2168, 877, 1940, 889, 1497, 499, 510, 49...</td>\n",
       "      <td>0.632077</td>\n",
       "      <td>0.915866</td>\n",
       "    </tr>\n",
       "    <tr>\n",
       "      <th>...</th>\n",
       "      <td>...</td>\n",
       "      <td>...</td>\n",
       "      <td>...</td>\n",
       "      <td>...</td>\n",
       "      <td>...</td>\n",
       "      <td>...</td>\n",
       "    </tr>\n",
       "    <tr>\n",
       "      <th>1142</th>\n",
       "      <td>5325</td>\n",
       "      <td>{496: 2, 1084: 2, 2791: 2, 1032: 2, 134: 2, 21...</td>\n",
       "      <td>0.454946</td>\n",
       "      <td>[875, 877, 1497, 496, 947, 876, 638, 94, 262, ...</td>\n",
       "      <td>0.217308</td>\n",
       "      <td>0.441197</td>\n",
       "    </tr>\n",
       "    <tr>\n",
       "      <th>1143</th>\n",
       "      <td>5326</td>\n",
       "      <td>{2394: 2, 2411: 2, 664: 3, 2610: 3, 850: 3, 16...</td>\n",
       "      <td>0.000000</td>\n",
       "      <td>[877, 1940, 876, 1167, 381, 0, 47, 775, 2214, ...</td>\n",
       "      <td>0.294298</td>\n",
       "      <td>0.612691</td>\n",
       "    </tr>\n",
       "    <tr>\n",
       "      <th>1144</th>\n",
       "      <td>5340</td>\n",
       "      <td>{1111: 1, 2939: 1, 1527: 2, 676: 2, 682: 2, 13...</td>\n",
       "      <td>0.150190</td>\n",
       "      <td>[1497, 94, 298, 47, 462, 2119, 596, 901, 1396,...</td>\n",
       "      <td>0.292890</td>\n",
       "      <td>0.584066</td>\n",
       "    </tr>\n",
       "    <tr>\n",
       "      <th>1145</th>\n",
       "      <td>5352</td>\n",
       "      <td>{2279: 4}</td>\n",
       "      <td>0.000000</td>\n",
       "      <td>[875, 2168, 877, 1497, 499, 510, 496, 947, 876...</td>\n",
       "      <td>0.000000</td>\n",
       "      <td>0.000000</td>\n",
       "    </tr>\n",
       "    <tr>\n",
       "      <th>1146</th>\n",
       "      <td>5364</td>\n",
       "      <td>{2588: 3, 947: 3, 126: 3, 1307: 3, 1532: 4, 19...</td>\n",
       "      <td>0.197927</td>\n",
       "      <td>[1940, 947, 876, 94, 404, 1167, 381, 298, 2214...</td>\n",
       "      <td>0.516830</td>\n",
       "      <td>0.658121</td>\n",
       "    </tr>\n",
       "  </tbody>\n",
       "</table>\n",
       "<p>1147 rows × 6 columns</p>\n",
       "</div>"
      ],
      "text/plain": [
       "      user_id                                       item_ratings       svd  \\\n",
       "0           0  {959: 2, 2992: 3, 3004: 3, 1242: 3, 2251: 3, 9...  0.000000   \n",
       "1           1  {3005: 3, 2346: 3, 2490: 3, 2742: 3, 2747: 3, ...  0.456342   \n",
       "2           3  {2995: 1, 839: 1, 1848: 3, 2780: 3, 961: 4, 92...  0.000000   \n",
       "3           4  {580: 5, 665: 5, 666: 5, 1203: 5, 510: 5, 2097...  0.356207   \n",
       "4           6  {1526: 1, 1536: 1, 742: 1, 162: 1, 525: 1, 113...  0.685073   \n",
       "...       ...                                                ...       ...   \n",
       "1142     5325  {496: 2, 1084: 2, 2791: 2, 1032: 2, 134: 2, 21...  0.454946   \n",
       "1143     5326  {2394: 2, 2411: 2, 664: 3, 2610: 3, 850: 3, 16...  0.000000   \n",
       "1144     5340  {1111: 1, 2939: 1, 1527: 2, 676: 2, 682: 2, 13...  0.150190   \n",
       "1145     5352                                          {2279: 4}  0.000000   \n",
       "1146     5364  {2588: 3, 947: 3, 126: 3, 1307: 3, 1532: 4, 19...  0.197927   \n",
       "\n",
       "                                           pred_ratings  plot_svd    svd_10  \n",
       "0     [211, 875, 877, 1940, 889, 1497, 499, 496, 947...  0.315465  0.667642  \n",
       "1     [211, 875, 877, 1940, 889, 496, 947, 876, 638,...  0.305899  0.917811  \n",
       "2     [875, 877, 1940, 889, 1497, 947, 876, 2097, 91...  0.188207  0.152210  \n",
       "3     [877, 510, 876, 638, 242, 449, 2097, 1203, 820...  0.000000  0.465060  \n",
       "4     [875, 2168, 877, 1940, 889, 1497, 499, 510, 49...  0.632077  0.915866  \n",
       "...                                                 ...       ...       ...  \n",
       "1142  [875, 877, 1497, 496, 947, 876, 638, 94, 262, ...  0.217308  0.441197  \n",
       "1143  [877, 1940, 876, 1167, 381, 0, 47, 775, 2214, ...  0.294298  0.612691  \n",
       "1144  [1497, 94, 298, 47, 462, 2119, 596, 901, 1396,...  0.292890  0.584066  \n",
       "1145  [875, 2168, 877, 1497, 499, 510, 496, 947, 876...  0.000000  0.000000  \n",
       "1146  [1940, 947, 876, 94, 404, 1167, 381, 298, 2214...  0.516830  0.658121  \n",
       "\n",
       "[1147 rows x 6 columns]"
      ]
     },
     "execution_count": 40,
     "metadata": {},
     "output_type": "execute_result"
    }
   ],
   "source": [
    "test_grouped"
   ]
  },
  {
   "cell_type": "code",
   "execution_count": 39,
   "id": "45d357eb",
   "metadata": {},
   "outputs": [
    {
     "data": {
      "text/plain": [
       "0.5178483514428545"
      ]
     },
     "execution_count": 39,
     "metadata": {},
     "output_type": "execute_result"
    }
   ],
   "source": [
    "recs = make_svd_recommendations(interactions, 10, 100)\n",
    "result(\"svd_10\", recs, test_grouped)\n",
    "test_grouped[\"svd_10\"].mean()"
   ]
  },
  {
   "cell_type": "markdown",
   "id": "a8612d96-c694-42d6-9525-58808f642577",
   "metadata": {},
   "source": [
    "##### Задание 3.1. Перейдем к [ALS](http://yifanhu.net/PUB/cf.pdf). Возьмем реализацию iALS из библиотеки [implicit](https://benfred.github.io/implicit/api/models/cpu/als.html). Обучите ALS на нашем датасете, сделайте top_k рекомендации для юзеров из тестового датасета, и сравните метрики ALS с метриками, которые получились в SVD. Попробуйте перебрать гиперпараметры и найдите оптимальное число факторов, коэффициент alpha и коэффициент регуляризации."
   ]
  },
  {
   "cell_type": "code",
   "execution_count": 41,
   "id": "756ae020",
   "metadata": {},
   "outputs": [],
   "source": [
    "import numpy as np\n",
    "from scipy.sparse import coo_array, csr_matrix\n",
    "from implicit.als import AlternatingLeastSquares\n",
    "from typing import Union\n",
    "\n",
    "def make_als_recommendations(\n",
    "    interactions: Union[np.ndarray, coo_array],\n",
    "    top_k: int = 100,\n",
    "    factors: int = 100,\n",
    "    alpha: float = 1.0,\n",
    "    regularization: float = 0.01,\n",
    "):\n",
    "\n",
    "    interactions_csr = csr_matrix(interactions)\n",
    "\n",
    "    model = AlternatingLeastSquares(\n",
    "        factors=factors,\n",
    "        regularization=regularization,\n",
    "        alpha=alpha,\n",
    "        calculate_training_loss=False\n",
    "    )\n",
    "\n",
    "    weighted_interactions = interactions_csr * alpha\n",
    "    model.fit(weighted_interactions)\n",
    "\n",
    "    n_users, n_items = interactions_csr.shape\n",
    "\n",
    "    recommendations = np.zeros((n_users, top_k), dtype=np.int32)\n",
    "\n",
    "    for user_id in range(n_users):\n",
    "        user_interactions = interactions_csr[user_id:user_id+1]\n",
    "        recommended_items, scores = model.recommend(user_id, user_interactions, N=top_k)\n",
    "        recommendations[user_id] = recommended_items\n",
    "\n",
    "    return recommendations"
   ]
  },
  {
   "cell_type": "code",
   "execution_count": 42,
   "id": "095e98f7",
   "metadata": {},
   "outputs": [
    {
     "name": "stderr",
     "output_type": "stream",
     "text": [
      "/Library/Frameworks/Python.framework/Versions/3.12/lib/python3.12/site-packages/implicit/cpu/als.py:95: RuntimeWarning: OpenBLAS is configured to use 8 threads. It is highly recommended to disable its internal threadpool by setting the environment variable 'OPENBLAS_NUM_THREADS=1' or by calling 'threadpoolctl.threadpool_limits(1, \"blas\")'. Having OpenBLAS use a threadpool can lead to severe performance issues here.\n",
      "  check_blas_config()\n"
     ]
    },
    {
     "data": {
      "application/vnd.jupyter.widget-view+json": {
       "model_id": "7a86c086e05c4f60acf44f3886f9e450",
       "version_major": 2,
       "version_minor": 0
      },
      "text/plain": [
       "  0%|          | 0/15 [00:00<?, ?it/s]"
      ]
     },
     "metadata": {},
     "output_type": "display_data"
    }
   ],
   "source": [
    "recs = make_als_recommendations(coo_interactions)\n",
    "assert recs.shape == (interactions.shape[0], 100)"
   ]
  },
  {
   "cell_type": "code",
   "execution_count": 43,
   "id": "eb4cdbb5",
   "metadata": {},
   "outputs": [
    {
     "data": {
      "text/plain": [
       "0.4777477985277186"
      ]
     },
     "execution_count": 43,
     "metadata": {},
     "output_type": "execute_result"
    }
   ],
   "source": [
    "result(\"als\", recs, test_grouped)\n",
    "test_grouped[\"als\"].mean()"
   ]
  },
  {
   "cell_type": "code",
   "execution_count": 44,
   "id": "0aa6aa0b",
   "metadata": {},
   "outputs": [
    {
     "data": {
      "text/html": [
       "<div>\n",
       "<style scoped>\n",
       "    .dataframe tbody tr th:only-of-type {\n",
       "        vertical-align: middle;\n",
       "    }\n",
       "\n",
       "    .dataframe tbody tr th {\n",
       "        vertical-align: top;\n",
       "    }\n",
       "\n",
       "    .dataframe thead th {\n",
       "        text-align: right;\n",
       "    }\n",
       "</style>\n",
       "<table border=\"1\" class=\"dataframe\">\n",
       "  <thead>\n",
       "    <tr style=\"text-align: right;\">\n",
       "      <th></th>\n",
       "      <th>user_id</th>\n",
       "      <th>item_ratings</th>\n",
       "      <th>svd</th>\n",
       "      <th>pred_ratings</th>\n",
       "      <th>plot_svd</th>\n",
       "      <th>svd_10</th>\n",
       "      <th>als</th>\n",
       "    </tr>\n",
       "  </thead>\n",
       "  <tbody>\n",
       "    <tr>\n",
       "      <th>0</th>\n",
       "      <td>0</td>\n",
       "      <td>{959: 2, 2992: 3, 3004: 3, 1242: 3, 2251: 3, 9...</td>\n",
       "      <td>0.000000</td>\n",
       "      <td>[211, 875, 877, 1940, 889, 1497, 499, 496, 947...</td>\n",
       "      <td>0.315465</td>\n",
       "      <td>0.667642</td>\n",
       "      <td>0.662100</td>\n",
       "    </tr>\n",
       "    <tr>\n",
       "      <th>1</th>\n",
       "      <td>1</td>\n",
       "      <td>{3005: 3, 2346: 3, 2490: 3, 2742: 3, 2747: 3, ...</td>\n",
       "      <td>0.456342</td>\n",
       "      <td>[211, 875, 877, 1940, 889, 496, 947, 876, 638,...</td>\n",
       "      <td>0.305899</td>\n",
       "      <td>0.917811</td>\n",
       "      <td>0.839407</td>\n",
       "    </tr>\n",
       "    <tr>\n",
       "      <th>2</th>\n",
       "      <td>3</td>\n",
       "      <td>{2995: 1, 839: 1, 1848: 3, 2780: 3, 961: 4, 92...</td>\n",
       "      <td>0.000000</td>\n",
       "      <td>[875, 877, 1940, 889, 1497, 947, 876, 2097, 91...</td>\n",
       "      <td>0.188207</td>\n",
       "      <td>0.152210</td>\n",
       "      <td>0.000000</td>\n",
       "    </tr>\n",
       "    <tr>\n",
       "      <th>3</th>\n",
       "      <td>4</td>\n",
       "      <td>{580: 5, 665: 5, 666: 5, 1203: 5, 510: 5, 2097...</td>\n",
       "      <td>0.356207</td>\n",
       "      <td>[877, 510, 876, 638, 242, 449, 2097, 1203, 820...</td>\n",
       "      <td>0.000000</td>\n",
       "      <td>0.465060</td>\n",
       "      <td>0.306453</td>\n",
       "    </tr>\n",
       "    <tr>\n",
       "      <th>4</th>\n",
       "      <td>6</td>\n",
       "      <td>{1526: 1, 1536: 1, 742: 1, 162: 1, 525: 1, 113...</td>\n",
       "      <td>0.685073</td>\n",
       "      <td>[875, 2168, 877, 1940, 889, 1497, 499, 510, 49...</td>\n",
       "      <td>0.632077</td>\n",
       "      <td>0.915866</td>\n",
       "      <td>0.916070</td>\n",
       "    </tr>\n",
       "    <tr>\n",
       "      <th>...</th>\n",
       "      <td>...</td>\n",
       "      <td>...</td>\n",
       "      <td>...</td>\n",
       "      <td>...</td>\n",
       "      <td>...</td>\n",
       "      <td>...</td>\n",
       "      <td>...</td>\n",
       "    </tr>\n",
       "    <tr>\n",
       "      <th>1142</th>\n",
       "      <td>5325</td>\n",
       "      <td>{496: 2, 1084: 2, 2791: 2, 1032: 2, 134: 2, 21...</td>\n",
       "      <td>0.454946</td>\n",
       "      <td>[875, 877, 1497, 496, 947, 876, 638, 94, 262, ...</td>\n",
       "      <td>0.217308</td>\n",
       "      <td>0.441197</td>\n",
       "      <td>0.480869</td>\n",
       "    </tr>\n",
       "    <tr>\n",
       "      <th>1143</th>\n",
       "      <td>5326</td>\n",
       "      <td>{2394: 2, 2411: 2, 664: 3, 2610: 3, 850: 3, 16...</td>\n",
       "      <td>0.000000</td>\n",
       "      <td>[877, 1940, 876, 1167, 381, 0, 47, 775, 2214, ...</td>\n",
       "      <td>0.294298</td>\n",
       "      <td>0.612691</td>\n",
       "      <td>0.598049</td>\n",
       "    </tr>\n",
       "    <tr>\n",
       "      <th>1144</th>\n",
       "      <td>5340</td>\n",
       "      <td>{1111: 1, 2939: 1, 1527: 2, 676: 2, 682: 2, 13...</td>\n",
       "      <td>0.150190</td>\n",
       "      <td>[1497, 94, 298, 47, 462, 2119, 596, 901, 1396,...</td>\n",
       "      <td>0.292890</td>\n",
       "      <td>0.584066</td>\n",
       "      <td>0.636698</td>\n",
       "    </tr>\n",
       "    <tr>\n",
       "      <th>1145</th>\n",
       "      <td>5352</td>\n",
       "      <td>{2279: 4}</td>\n",
       "      <td>0.000000</td>\n",
       "      <td>[875, 2168, 877, 1497, 499, 510, 496, 947, 876...</td>\n",
       "      <td>0.000000</td>\n",
       "      <td>0.000000</td>\n",
       "      <td>0.160053</td>\n",
       "    </tr>\n",
       "    <tr>\n",
       "      <th>1146</th>\n",
       "      <td>5364</td>\n",
       "      <td>{2588: 3, 947: 3, 126: 3, 1307: 3, 1532: 4, 19...</td>\n",
       "      <td>0.197927</td>\n",
       "      <td>[1940, 947, 876, 94, 404, 1167, 381, 298, 2214...</td>\n",
       "      <td>0.516830</td>\n",
       "      <td>0.658121</td>\n",
       "      <td>0.443174</td>\n",
       "    </tr>\n",
       "  </tbody>\n",
       "</table>\n",
       "<p>1147 rows × 7 columns</p>\n",
       "</div>"
      ],
      "text/plain": [
       "      user_id                                       item_ratings       svd  \\\n",
       "0           0  {959: 2, 2992: 3, 3004: 3, 1242: 3, 2251: 3, 9...  0.000000   \n",
       "1           1  {3005: 3, 2346: 3, 2490: 3, 2742: 3, 2747: 3, ...  0.456342   \n",
       "2           3  {2995: 1, 839: 1, 1848: 3, 2780: 3, 961: 4, 92...  0.000000   \n",
       "3           4  {580: 5, 665: 5, 666: 5, 1203: 5, 510: 5, 2097...  0.356207   \n",
       "4           6  {1526: 1, 1536: 1, 742: 1, 162: 1, 525: 1, 113...  0.685073   \n",
       "...       ...                                                ...       ...   \n",
       "1142     5325  {496: 2, 1084: 2, 2791: 2, 1032: 2, 134: 2, 21...  0.454946   \n",
       "1143     5326  {2394: 2, 2411: 2, 664: 3, 2610: 3, 850: 3, 16...  0.000000   \n",
       "1144     5340  {1111: 1, 2939: 1, 1527: 2, 676: 2, 682: 2, 13...  0.150190   \n",
       "1145     5352                                          {2279: 4}  0.000000   \n",
       "1146     5364  {2588: 3, 947: 3, 126: 3, 1307: 3, 1532: 4, 19...  0.197927   \n",
       "\n",
       "                                           pred_ratings  plot_svd    svd_10  \\\n",
       "0     [211, 875, 877, 1940, 889, 1497, 499, 496, 947...  0.315465  0.667642   \n",
       "1     [211, 875, 877, 1940, 889, 496, 947, 876, 638,...  0.305899  0.917811   \n",
       "2     [875, 877, 1940, 889, 1497, 947, 876, 2097, 91...  0.188207  0.152210   \n",
       "3     [877, 510, 876, 638, 242, 449, 2097, 1203, 820...  0.000000  0.465060   \n",
       "4     [875, 2168, 877, 1940, 889, 1497, 499, 510, 49...  0.632077  0.915866   \n",
       "...                                                 ...       ...       ...   \n",
       "1142  [875, 877, 1497, 496, 947, 876, 638, 94, 262, ...  0.217308  0.441197   \n",
       "1143  [877, 1940, 876, 1167, 381, 0, 47, 775, 2214, ...  0.294298  0.612691   \n",
       "1144  [1497, 94, 298, 47, 462, 2119, 596, 901, 1396,...  0.292890  0.584066   \n",
       "1145  [875, 2168, 877, 1497, 499, 510, 496, 947, 876...  0.000000  0.000000   \n",
       "1146  [1940, 947, 876, 94, 404, 1167, 381, 298, 2214...  0.516830  0.658121   \n",
       "\n",
       "           als  \n",
       "0     0.662100  \n",
       "1     0.839407  \n",
       "2     0.000000  \n",
       "3     0.306453  \n",
       "4     0.916070  \n",
       "...        ...  \n",
       "1142  0.480869  \n",
       "1143  0.598049  \n",
       "1144  0.636698  \n",
       "1145  0.160053  \n",
       "1146  0.443174  \n",
       "\n",
       "[1147 rows x 7 columns]"
      ]
     },
     "execution_count": 44,
     "metadata": {},
     "output_type": "execute_result"
    }
   ],
   "source": [
    "test_grouped"
   ]
  },
  {
   "cell_type": "code",
   "execution_count": 45,
   "id": "4be438af",
   "metadata": {},
   "outputs": [],
   "source": [
    "import optuna\n",
    "\n",
    "def objective_als(trial, interactions, test_result):\n",
    "    params = {\n",
    "        \"factors\": trial.suggest_int(\"factors\", 10, 100),\n",
    "        \"alpha\": trial.suggest_float(\"alpha\", 0.1, 10, log=True),\n",
    "        \"regularization\": trial.suggest_float(\"regularization\", 0.01, 10, log=True),\n",
    "    }\n",
    "    recs = make_als_recommendations(interactions, **params)\n",
    "    result(\"optuna_als\", recs, test_result)\n",
    "    score = test_result[\"optuna_als\"].mean()\n",
    "\n",
    "    return score"
   ]
  },
  {
   "cell_type": "code",
   "execution_count": 46,
   "id": "8fb315e5",
   "metadata": {},
   "outputs": [
    {
     "name": "stderr",
     "output_type": "stream",
     "text": [
      "[I 2025-03-02 18:48:33,460] A new study created in memory with name: no-name-e957b517-4054-48ac-b001-f35a8e752dd2\n"
     ]
    },
    {
     "data": {
      "application/vnd.jupyter.widget-view+json": {
       "model_id": "0d97071795e74b4a8cd03aade0b98a79",
       "version_major": 2,
       "version_minor": 0
      },
      "text/plain": [
       "  0%|          | 0/15 [00:00<?, ?it/s]"
      ]
     },
     "metadata": {},
     "output_type": "display_data"
    },
    {
     "data": {
      "application/vnd.jupyter.widget-view+json": {
       "model_id": "bd5c3adbb58943a3b49c0770ade60f5e",
       "version_major": 2,
       "version_minor": 0
      },
      "text/plain": [
       "  0%|          | 0/15 [00:00<?, ?it/s]"
      ]
     },
     "metadata": {},
     "output_type": "display_data"
    },
    {
     "data": {
      "application/vnd.jupyter.widget-view+json": {
       "model_id": "3cf99937490046ce99c7c6b2d5f0663a",
       "version_major": 2,
       "version_minor": 0
      },
      "text/plain": [
       "  0%|          | 0/15 [00:00<?, ?it/s]"
      ]
     },
     "metadata": {},
     "output_type": "display_data"
    },
    {
     "data": {
      "application/vnd.jupyter.widget-view+json": {
       "model_id": "06ea29e52ef3487391f9b3ebf773d183",
       "version_major": 2,
       "version_minor": 0
      },
      "text/plain": [
       "  0%|          | 0/15 [00:00<?, ?it/s]"
      ]
     },
     "metadata": {},
     "output_type": "display_data"
    },
    {
     "data": {
      "application/vnd.jupyter.widget-view+json": {
       "model_id": "a584de32cdcd41cda6b05efe5cf64fdb",
       "version_major": 2,
       "version_minor": 0
      },
      "text/plain": [
       "  0%|          | 0/15 [00:00<?, ?it/s]"
      ]
     },
     "metadata": {},
     "output_type": "display_data"
    },
    {
     "data": {
      "application/vnd.jupyter.widget-view+json": {
       "model_id": "d6adb630eb5b442d836a6d1a781474fe",
       "version_major": 2,
       "version_minor": 0
      },
      "text/plain": [
       "  0%|          | 0/15 [00:00<?, ?it/s]"
      ]
     },
     "metadata": {},
     "output_type": "display_data"
    },
    {
     "data": {
      "application/vnd.jupyter.widget-view+json": {
       "model_id": "803588e150c04b2da216ec63f492c0bb",
       "version_major": 2,
       "version_minor": 0
      },
      "text/plain": [
       "  0%|          | 0/15 [00:00<?, ?it/s]"
      ]
     },
     "metadata": {},
     "output_type": "display_data"
    },
    {
     "data": {
      "application/vnd.jupyter.widget-view+json": {
       "model_id": "1f0880f3741f449282b691b32f0d5481",
       "version_major": 2,
       "version_minor": 0
      },
      "text/plain": [
       "  0%|          | 0/15 [00:00<?, ?it/s]"
      ]
     },
     "metadata": {},
     "output_type": "display_data"
    },
    {
     "name": "stderr",
     "output_type": "stream",
     "text": [
      "[I 2025-03-02 18:48:53,193] Trial 3 finished with value: 0.4861859975518483 and parameters: {'factors': 30, 'alpha': 1.4995107927361564, 'regularization': 5.731152751340843}. Best is trial 3 with value: 0.4861859975518483.\n"
     ]
    },
    {
     "data": {
      "application/vnd.jupyter.widget-view+json": {
       "model_id": "64883419ef6b4c87bc540d119d79803c",
       "version_major": 2,
       "version_minor": 0
      },
      "text/plain": [
       "  0%|          | 0/15 [00:00<?, ?it/s]"
      ]
     },
     "metadata": {},
     "output_type": "display_data"
    },
    {
     "name": "stderr",
     "output_type": "stream",
     "text": [
      "[I 2025-03-02 18:48:54,569] Trial 2 finished with value: 0.48556617343062747 and parameters: {'factors': 20, 'alpha': 0.1331385645925516, 'regularization': 0.02658172893181765}. Best is trial 3 with value: 0.4861859975518483.\n",
      "[I 2025-03-02 18:48:54,605] Trial 7 finished with value: 0.41287139340373274 and parameters: {'factors': 39, 'alpha': 5.191315397449713, 'regularization': 2.34190216892789}. Best is trial 3 with value: 0.4861859975518483.\n"
     ]
    },
    {
     "data": {
      "application/vnd.jupyter.widget-view+json": {
       "model_id": "c83e1b7162c64cdaa3bb8b50a7f93e18",
       "version_major": 2,
       "version_minor": 0
      },
      "text/plain": [
       "  0%|          | 0/15 [00:00<?, ?it/s]"
      ]
     },
     "metadata": {},
     "output_type": "display_data"
    },
    {
     "data": {
      "application/vnd.jupyter.widget-view+json": {
       "model_id": "969182a033b04d4f9892afc01a563eae",
       "version_major": 2,
       "version_minor": 0
      },
      "text/plain": [
       "  0%|          | 0/15 [00:00<?, ?it/s]"
      ]
     },
     "metadata": {},
     "output_type": "display_data"
    },
    {
     "name": "stderr",
     "output_type": "stream",
     "text": [
      "[I 2025-03-02 18:48:55,776] Trial 6 finished with value: 0.49175903076367283 and parameters: {'factors': 56, 'alpha': 0.58694384869794, 'regularization': 0.20233183621885725}. Best is trial 6 with value: 0.49175903076367283.\n",
      "[I 2025-03-02 18:48:55,914] Trial 1 finished with value: 0.4941437331806942 and parameters: {'factors': 56, 'alpha': 0.5311372556900188, 'regularization': 1.9909055135263107}. Best is trial 1 with value: 0.4941437331806942.\n"
     ]
    },
    {
     "data": {
      "application/vnd.jupyter.widget-view+json": {
       "model_id": "0290570343204b7c9c428552d3369e36",
       "version_major": 2,
       "version_minor": 0
      },
      "text/plain": [
       "  0%|          | 0/15 [00:00<?, ?it/s]"
      ]
     },
     "metadata": {},
     "output_type": "display_data"
    },
    {
     "data": {
      "application/vnd.jupyter.widget-view+json": {
       "model_id": "a63bab53da09451cb42034677142adbb",
       "version_major": 2,
       "version_minor": 0
      },
      "text/plain": [
       "  0%|          | 0/15 [00:00<?, ?it/s]"
      ]
     },
     "metadata": {},
     "output_type": "display_data"
    },
    {
     "name": "stderr",
     "output_type": "stream",
     "text": [
      "[I 2025-03-02 18:48:57,610] Trial 5 finished with value: 0.423037341816454 and parameters: {'factors': 55, 'alpha': 3.9566657964346312, 'regularization': 1.9658861706232118}. Best is trial 1 with value: 0.4941437331806942.\n"
     ]
    },
    {
     "data": {
      "application/vnd.jupyter.widget-view+json": {
       "model_id": "16da9831d1c74a17921005d87965f964",
       "version_major": 2,
       "version_minor": 0
      },
      "text/plain": [
       "  0%|          | 0/15 [00:00<?, ?it/s]"
      ]
     },
     "metadata": {},
     "output_type": "display_data"
    },
    {
     "name": "stderr",
     "output_type": "stream",
     "text": [
      "[I 2025-03-02 18:49:00,669] Trial 0 finished with value: 0.3854810654677666 and parameters: {'factors': 78, 'alpha': 9.88694879547445, 'regularization': 1.0240183168566903}. Best is trial 1 with value: 0.4941437331806942.\n"
     ]
    },
    {
     "data": {
      "application/vnd.jupyter.widget-view+json": {
       "model_id": "1a3d0e73416f4bceac0c429e9c71559d",
       "version_major": 2,
       "version_minor": 0
      },
      "text/plain": [
       "  0%|          | 0/15 [00:00<?, ?it/s]"
      ]
     },
     "metadata": {},
     "output_type": "display_data"
    },
    {
     "name": "stderr",
     "output_type": "stream",
     "text": [
      "[I 2025-03-02 18:49:01,039] Trial 4 finished with value: 0.48121924994202114 and parameters: {'factors': 77, 'alpha': 0.30038982417389665, 'regularization': 2.6422913584259433}. Best is trial 1 with value: 0.4941437331806942.\n"
     ]
    },
    {
     "data": {
      "application/vnd.jupyter.widget-view+json": {
       "model_id": "9b80768918364c1da99fd869f62c4e9a",
       "version_major": 2,
       "version_minor": 0
      },
      "text/plain": [
       "  0%|          | 0/15 [00:00<?, ?it/s]"
      ]
     },
     "metadata": {},
     "output_type": "display_data"
    },
    {
     "name": "stderr",
     "output_type": "stream",
     "text": [
      "[I 2025-03-02 18:49:15,822] Trial 8 finished with value: 0.4552922703580848 and parameters: {'factors': 33, 'alpha': 2.737642781760902, 'regularization': 3.2058092130793665}. Best is trial 1 with value: 0.4941437331806942.\n"
     ]
    },
    {
     "data": {
      "application/vnd.jupyter.widget-view+json": {
       "model_id": "f8a83a3a98ab4746a9a695d2d2c9a30e",
       "version_major": 2,
       "version_minor": 0
      },
      "text/plain": [
       "  0%|          | 0/15 [00:00<?, ?it/s]"
      ]
     },
     "metadata": {},
     "output_type": "display_data"
    },
    {
     "name": "stderr",
     "output_type": "stream",
     "text": [
      "[I 2025-03-02 18:49:17,293] Trial 9 finished with value: 0.49907546273220216 and parameters: {'factors': 36, 'alpha': 0.5959059180859356, 'regularization': 1.8047550627781073}. Best is trial 9 with value: 0.49907546273220216.\n"
     ]
    },
    {
     "data": {
      "application/vnd.jupyter.widget-view+json": {
       "model_id": "77ea1a2a4e234e9b8550cb41cb0d56ae",
       "version_major": 2,
       "version_minor": 0
      },
      "text/plain": [
       "  0%|          | 0/15 [00:00<?, ?it/s]"
      ]
     },
     "metadata": {},
     "output_type": "display_data"
    },
    {
     "name": "stderr",
     "output_type": "stream",
     "text": [
      "[I 2025-03-02 18:49:17,636] Trial 12 finished with value: 0.40541410993946897 and parameters: {'factors': 38, 'alpha': 5.591412829361461, 'regularization': 0.05822217542556934}. Best is trial 9 with value: 0.49907546273220216.\n"
     ]
    },
    {
     "data": {
      "application/vnd.jupyter.widget-view+json": {
       "model_id": "44d18bc624ff4d29857298479fe96ede",
       "version_major": 2,
       "version_minor": 0
      },
      "text/plain": [
       "  0%|          | 0/15 [00:00<?, ?it/s]"
      ]
     },
     "metadata": {},
     "output_type": "display_data"
    },
    {
     "name": "stderr",
     "output_type": "stream",
     "text": [
      "[I 2025-03-02 18:49:18,166] Trial 11 finished with value: 0.5013441291253077 and parameters: {'factors': 34, 'alpha': 0.595020958857333, 'regularization': 8.350713301473297}. Best is trial 11 with value: 0.5013441291253077.\n"
     ]
    },
    {
     "data": {
      "application/vnd.jupyter.widget-view+json": {
       "model_id": "6caade089052431c8f6fcd9a5808e2db",
       "version_major": 2,
       "version_minor": 0
      },
      "text/plain": [
       "  0%|          | 0/15 [00:00<?, ?it/s]"
      ]
     },
     "metadata": {},
     "output_type": "display_data"
    },
    {
     "name": "stderr",
     "output_type": "stream",
     "text": [
      "[I 2025-03-02 18:49:23,183] Trial 13 finished with value: 0.4527778285967522 and parameters: {'factors': 50, 'alpha': 0.1018680673047508, 'regularization': 0.07005235788853485}. Best is trial 11 with value: 0.5013441291253077.\n"
     ]
    },
    {
     "data": {
      "application/vnd.jupyter.widget-view+json": {
       "model_id": "8ad05e5956fb4505b06fceb26a12e191",
       "version_major": 2,
       "version_minor": 0
      },
      "text/plain": [
       "  0%|          | 0/15 [00:00<?, ?it/s]"
      ]
     },
     "metadata": {},
     "output_type": "display_data"
    },
    {
     "name": "stderr",
     "output_type": "stream",
     "text": [
      "[I 2025-03-02 18:49:25,296] Trial 10 finished with value: 0.4715263924472138 and parameters: {'factors': 85, 'alpha': 1.3129580923262132, 'regularization': 6.587685791714896}. Best is trial 11 with value: 0.5013441291253077.\n"
     ]
    },
    {
     "data": {
      "application/vnd.jupyter.widget-view+json": {
       "model_id": "180497e2b7e4417483e44cfe11664bbd",
       "version_major": 2,
       "version_minor": 0
      },
      "text/plain": [
       "  0%|          | 0/15 [00:00<?, ?it/s]"
      ]
     },
     "metadata": {},
     "output_type": "display_data"
    },
    {
     "name": "stderr",
     "output_type": "stream",
     "text": [
      "[I 2025-03-02 18:49:29,793] Trial 14 finished with value: 0.4773987429893917 and parameters: {'factors': 70, 'alpha': 0.1349988923494717, 'regularization': 1.9544397418338493}. Best is trial 11 with value: 0.5013441291253077.\n"
     ]
    },
    {
     "data": {
      "application/vnd.jupyter.widget-view+json": {
       "model_id": "2103231ca42c4135a22f01ccf0b4da62",
       "version_major": 2,
       "version_minor": 0
      },
      "text/plain": [
       "  0%|          | 0/15 [00:00<?, ?it/s]"
      ]
     },
     "metadata": {},
     "output_type": "display_data"
    },
    {
     "name": "stderr",
     "output_type": "stream",
     "text": [
      "[I 2025-03-02 18:49:30,438] Trial 15 finished with value: 0.40495349286514726 and parameters: {'factors': 90, 'alpha': 7.860686848807465, 'regularization': 4.820081224310942}. Best is trial 11 with value: 0.5013441291253077.\n"
     ]
    },
    {
     "data": {
      "application/vnd.jupyter.widget-view+json": {
       "model_id": "b61ccdfed285429aa095d09a7fe34110",
       "version_major": 2,
       "version_minor": 0
      },
      "text/plain": [
       "  0%|          | 0/15 [00:00<?, ?it/s]"
      ]
     },
     "metadata": {},
     "output_type": "display_data"
    },
    {
     "name": "stderr",
     "output_type": "stream",
     "text": [
      "[I 2025-03-02 18:49:37,285] Trial 16 finished with value: 0.5066633878806506 and parameters: {'factors': 15, 'alpha': 0.375404936000085, 'regularization': 3.383590275936133}. Best is trial 16 with value: 0.5066633878806506.\n"
     ]
    },
    {
     "data": {
      "application/vnd.jupyter.widget-view+json": {
       "model_id": "eb253e388a684b7fabcd51c0cc916734",
       "version_major": 2,
       "version_minor": 0
      },
      "text/plain": [
       "  0%|          | 0/15 [00:00<?, ?it/s]"
      ]
     },
     "metadata": {},
     "output_type": "display_data"
    },
    {
     "name": "stderr",
     "output_type": "stream",
     "text": [
      "[I 2025-03-02 18:49:38,225] Trial 17 finished with value: 0.4990117176390108 and parameters: {'factors': 10, 'alpha': 0.1326662947015015, 'regularization': 0.19626882204425242}. Best is trial 16 with value: 0.5066633878806506.\n"
     ]
    },
    {
     "data": {
      "application/vnd.jupyter.widget-view+json": {
       "model_id": "e2e9b76e8bde4d978172921c74afbaf4",
       "version_major": 2,
       "version_minor": 0
      },
      "text/plain": [
       "  0%|          | 0/15 [00:00<?, ?it/s]"
      ]
     },
     "metadata": {},
     "output_type": "display_data"
    },
    {
     "name": "stderr",
     "output_type": "stream",
     "text": [
      "[I 2025-03-02 18:49:40,905] Trial 20 finished with value: 0.504848002910535 and parameters: {'factors': 13, 'alpha': 0.8648292638491271, 'regularization': 8.76742559040089}. Best is trial 16 with value: 0.5066633878806506.\n"
     ]
    },
    {
     "data": {
      "application/vnd.jupyter.widget-view+json": {
       "model_id": "4c77d887f3c74c378c9f70c3bc668f6e",
       "version_major": 2,
       "version_minor": 0
      },
      "text/plain": [
       "  0%|          | 0/15 [00:00<?, ?it/s]"
      ]
     },
     "metadata": {},
     "output_type": "display_data"
    },
    {
     "name": "stderr",
     "output_type": "stream",
     "text": [
      "[I 2025-03-02 18:49:43,265] Trial 18 finished with value: 0.4938603742211518 and parameters: {'factors': 58, 'alpha': 0.6109658090935957, 'regularization': 0.4962950732487399}. Best is trial 16 with value: 0.5066633878806506.\n"
     ]
    },
    {
     "data": {
      "application/vnd.jupyter.widget-view+json": {
       "model_id": "da9b11b706254dc7aded8ce1c2307ecf",
       "version_major": 2,
       "version_minor": 0
      },
      "text/plain": [
       "  0%|          | 0/15 [00:00<?, ?it/s]"
      ]
     },
     "metadata": {},
     "output_type": "display_data"
    },
    {
     "name": "stderr",
     "output_type": "stream",
     "text": [
      "[I 2025-03-02 18:49:46,423] Trial 21 finished with value: 0.5024732958158888 and parameters: {'factors': 17, 'alpha': 0.2790147115282064, 'regularization': 0.5431985135642015}. Best is trial 16 with value: 0.5066633878806506.\n"
     ]
    },
    {
     "data": {
      "application/vnd.jupyter.widget-view+json": {
       "model_id": "381afd51204042c49494bb2bc93f73a0",
       "version_major": 2,
       "version_minor": 0
      },
      "text/plain": [
       "  0%|          | 0/15 [00:00<?, ?it/s]"
      ]
     },
     "metadata": {},
     "output_type": "display_data"
    },
    {
     "name": "stderr",
     "output_type": "stream",
     "text": [
      "[I 2025-03-02 18:49:49,125] Trial 19 finished with value: 0.469589699935929 and parameters: {'factors': 100, 'alpha': 1.3096700727237045, 'regularization': 9.750975692296795}. Best is trial 16 with value: 0.5066633878806506.\n"
     ]
    },
    {
     "data": {
      "application/vnd.jupyter.widget-view+json": {
       "model_id": "53cf7711dc504d48861ae876bdba0493",
       "version_major": 2,
       "version_minor": 0
      },
      "text/plain": [
       "  0%|          | 0/15 [00:00<?, ?it/s]"
      ]
     },
     "metadata": {},
     "output_type": "display_data"
    },
    {
     "name": "stderr",
     "output_type": "stream",
     "text": [
      "[I 2025-03-02 18:49:49,477] Trial 22 finished with value: 0.5128982867168459 and parameters: {'factors': 10, 'alpha': 0.3145972726898244, 'regularization': 0.5477937576372627}. Best is trial 22 with value: 0.5128982867168459.\n",
      "[I 2025-03-02 18:49:50,688] Trial 23 finished with value: 0.5075102710807373 and parameters: {'factors': 11, 'alpha': 0.4000131692921321, 'regularization': 0.6848185353093049}. Best is trial 22 with value: 0.5128982867168459.\n",
      "[I 2025-03-02 18:49:54,806] Trial 25 finished with value: 0.5075214875669333 and parameters: {'factors': 11, 'alpha': 0.29288508133656826, 'regularization': 0.7507115879861471}. Best is trial 22 with value: 0.5128982867168459.\n",
      "[I 2025-03-02 18:49:55,608] Trial 24 finished with value: 0.5086170087451317 and parameters: {'factors': 10, 'alpha': 0.2775842940794106, 'regularization': 0.2618096982242321}. Best is trial 22 with value: 0.5128982867168459.\n",
      "[I 2025-03-02 18:49:57,005] Trial 26 finished with value: 0.5067886216386847 and parameters: {'factors': 10, 'alpha': 0.26678194329835964, 'regularization': 0.7074867678954794}. Best is trial 22 with value: 0.5128982867168459.\n",
      "[I 2025-03-02 18:49:57,937] Trial 27 finished with value: 0.5069178126681416 and parameters: {'factors': 11, 'alpha': 0.2718777580679156, 'regularization': 0.7702654813948574}. Best is trial 22 with value: 0.5128982867168459.\n",
      "[I 2025-03-02 18:49:58,430] Trial 28 finished with value: 0.507216812579318 and parameters: {'factors': 10, 'alpha': 0.25558515212936456, 'regularization': 0.7588781192004608}. Best is trial 22 with value: 0.5128982867168459.\n",
      "[I 2025-03-02 18:49:58,950] Trial 29 finished with value: 0.5088744630378025 and parameters: {'factors': 10, 'alpha': 0.27918300523363304, 'regularization': 0.7181939314940985}. Best is trial 22 with value: 0.5128982867168459.\n"
     ]
    },
    {
     "name": "stdout",
     "output_type": "stream",
     "text": [
      "Лучшее значение: 0.5128982867168459\n",
      "Лучшие параметры: {'factors': 10, 'alpha': 0.3145972726898244, 'regularization': 0.5477937576372627}\n"
     ]
    },
    {
     "data": {
      "application/vnd.jupyter.widget-view+json": {
       "model_id": "55ec05ecfb3d41468ec9b4f860ef0a61",
       "version_major": 2,
       "version_minor": 0
      },
      "text/plain": [
       "  0%|          | 0/15 [00:00<?, ?it/s]"
      ]
     },
     "metadata": {},
     "output_type": "display_data"
    }
   ],
   "source": [
    "study = optuna.create_study(direction=\"maximize\")\n",
    "study.optimize(lambda trial: objective_als(trial, coo_interactions, test_grouped), n_trials=30, n_jobs=-1)\n",
    "\n",
    "print(f\"Лучшее значение: {study.best_trial.value}\")\n",
    "print(f\"Лучшие параметры: {study.best_params}\")\n",
    "\n",
    "recs = make_als_recommendations(coo_interactions, **study.best_params)\n",
    "result(\"als_base\", recs, test_grouped)"
   ]
  },
  {
   "cell_type": "code",
   "execution_count": 48,
   "id": "e862dfc6",
   "metadata": {},
   "outputs": [
    {
     "data": {
      "application/vnd.jupyter.widget-view+json": {
       "model_id": "8ec9fa4a58964b8988415f67d4fcea66",
       "version_major": 2,
       "version_minor": 0
      },
      "text/plain": [
       "  0%|          | 0/15 [00:00<?, ?it/s]"
      ]
     },
     "metadata": {},
     "output_type": "display_data"
    }
   ],
   "source": [
    "recs = recs = make_als_recommendations(interactions, **study.best_params)\n",
    "result(\"als_best\", recs, test_grouped)"
   ]
  },
  {
   "cell_type": "code",
   "execution_count": 50,
   "id": "05733413",
   "metadata": {},
   "outputs": [
    {
     "name": "stdout",
     "output_type": "stream",
     "text": [
      "svd_10              : 0.5178\n",
      "als_best            : 0.5122\n"
     ]
    }
   ],
   "source": [
    "ndcs_cols = [\"svd_10\", \"als_best\"]\n",
    "for col in ndcs_cols:\n",
    "    print(f\"{col:20s}: {test_grouped[col].mean():.4f}\")"
   ]
  },
  {
   "cell_type": "markdown",
   "id": "81f3b1cc-760b-4d6a-ab8a-aca57b7b6dfe",
   "metadata": {},
   "source": [
    "##### Задание 3.2. Сделайте объяснение рекомендаций для нескольких юзеров(als.explain). Воспользуйтесь файлом movies.dat чтобы перейти от индексов фильмов к их названием"
   ]
  },
  {
   "cell_type": "code",
   "execution_count": 51,
   "id": "e42ba2df",
   "metadata": {},
   "outputs": [],
   "source": [
    "df_movies = pd.read_csv(\"ml-1m/movies.dat\", sep='::', names=['item_id', 'name', 'category'], engine='python', encoding=\"ISO-8859-1\")\n",
    "movie_map = dict(zip(df_movies[\"item_id\"].to_list(), df_movies[\"name\"].to_list()))"
   ]
  },
  {
   "cell_type": "code",
   "execution_count": 52,
   "id": "5237b4bb",
   "metadata": {},
   "outputs": [
    {
     "data": {
      "application/vnd.jupyter.widget-view+json": {
       "model_id": "622d0486bc0e4a11955b8b9fe726f807",
       "version_major": 2,
       "version_minor": 0
      },
      "text/plain": [
       "  0%|          | 0/15 [00:00<?, ?it/s]"
      ]
     },
     "metadata": {},
     "output_type": "display_data"
    }
   ],
   "source": [
    "if isinstance(interactions, np.ndarray):\n",
    "    interactions_csr = csr_matrix(interactions)\n",
    "elif isinstance(interactions, coo_array):\n",
    "    interactions_csr = interactions.tocsr()\n",
    "else:\n",
    "    raise ValueError(\"interactions должен быть np.ndarray или coo_array\")\n",
    "\n",
    "model = AlternatingLeastSquares(\n",
    "        **study.best_params,\n",
    "        iterations=15,\n",
    "        calculate_training_loss=False)\n",
    "\n",
    "weighted_interactions = interactions_csr * study.best_params['alpha']\n",
    "model.fit(weighted_interactions)"
   ]
  },
  {
   "cell_type": "code",
   "execution_count": 53,
   "id": "8fc5f477",
   "metadata": {},
   "outputs": [],
   "source": [
    "def explain_recommendations(model, interactions_csr, movie_map, user_id, top_k=1):\n",
    "    \n",
    "    recommended_items, scores = model.recommend(user_id, interactions_csr[user_id], N=top_k)\n",
    "    recommended_titles = [movie_map.get(item, f\"Movie {item}\") for item in recommended_items]\n",
    "\n",
    "    item_id = recommended_items[0]\n",
    "    explanation = model.explain(user_id, interactions_csr, item_id)\n",
    "    explained_movies = [movie_map.get(idx, f\"Movie {idx}\") for idx, _ in explanation[1]]\n",
    "    contributions = [score for _, score in explanation[1]]\n",
    "\n",
    "    df_explain = pd.DataFrame({\"Фильм\": explained_movies, \"Вклад\": contributions})\n",
    "    df_explain = df_explain.sort_values(by=\"Вклад\", ascending=False)\n",
    "\n",
    "    return recommended_titles, df_explain"
   ]
  },
  {
   "cell_type": "code",
   "execution_count": 54,
   "id": "ad00ee3a",
   "metadata": {},
   "outputs": [
    {
     "name": "stdout",
     "output_type": "stream",
     "text": [
      "Рекомендованные фильмы: ['Dance with Me (1998)']\n",
      "\n",
      "Объяснение рекомендации:\n",
      "                                     Фильм     Вклад\n",
      "0                       Double Team (1997)  0.050203\n",
      "1                     Mr. Wonderful (1993)  0.044222\n",
      "2  Wooden Man's Bride, The (Wu Kui) (1994)  0.041418\n",
      "3       Don't Look in the Basement! (1973)  0.028771\n",
      "4                 Mummy's Tomb, The (1942)  0.021535\n",
      "5                            Cocoon (1985)  0.019303\n",
      "6                           Zone 39 (1997)  0.018489\n",
      "7            Farinelli: il castrato (1994)  0.012892\n",
      "8             Bringing Out the Dead (1999)  0.007525\n",
      "9               Violets Are Blue... (1986)  0.007520\n"
     ]
    }
   ],
   "source": [
    "user_id = 400\n",
    "\n",
    "recommended, explanation_df = explain_recommendations(model, interactions_csr, movie_map, user_id)\n",
    "print(\"Рекомендованные фильмы:\", recommended)\n",
    "print(\"\\nОбъяснение рекомендации:\")\n",
    "print(explanation_df)"
   ]
  },
  {
   "cell_type": "code",
   "execution_count": 55,
   "id": "c1c173db",
   "metadata": {},
   "outputs": [
    {
     "name": "stdout",
     "output_type": "stream",
     "text": [
      "Рекомендованные фильмы: ['Far Off Place, A (1993)']\n",
      "\n",
      "Объяснение рекомендации:\n",
      "                                    Фильм     Вклад\n",
      "0    Billy's Hollywood Screen Kiss (1997)  0.076466\n",
      "1        Happiest Millionaire, The (1967)  0.055539\n",
      "2                    Dance with Me (1998)  0.053391\n",
      "3  Something Wicked This Way Comes (1983)  0.048929\n",
      "4                Nothing in Common (1986)  0.030791\n",
      "5           Hot Lead and Cold Feet (1978)  0.027695\n",
      "6           Take the Money and Run (1969)  0.026428\n",
      "7          Barefoot Executive, The (1971)  0.025650\n",
      "8                        Following (1998)  0.025032\n",
      "9                           Pecker (1998)  0.023675\n"
     ]
    }
   ],
   "source": [
    "user_id = 900\n",
    "\n",
    "recommended, explanation_df = explain_recommendations(model, interactions_csr, movie_map, user_id)\n",
    "print(\"Рекомендованные фильмы:\", recommended)\n",
    "print(\"\\nОбъяснение рекомендации:\")\n",
    "print(explanation_df)"
   ]
  },
  {
   "cell_type": "code",
   "execution_count": 56,
   "id": "da93423a",
   "metadata": {},
   "outputs": [
    {
     "name": "stdout",
     "output_type": "stream",
     "text": [
      "Рекомендованные фильмы: ['Dance with Me (1998)']\n",
      "\n",
      "Объяснение рекомендации:\n",
      "                                Фильм     Вклад\n",
      "0                    Wood, The (1999)  0.072430\n",
      "1                Mr. Wonderful (1993)  0.034370\n",
      "2          Fear of a Black Hat (1993)  0.032642\n",
      "3  Don't Look in the Basement! (1973)  0.028533\n",
      "4       Little Shop of Horrors (1986)  0.026927\n",
      "5            Mummy's Tomb, The (1942)  0.021380\n",
      "6                Pushing Hands (1992)  0.016227\n",
      "7           Soldier's Story, A (1984)  0.014541\n",
      "8           I Saw What You Did (1965)  0.012385\n",
      "9                  Three Kings (1999)  0.011798\n"
     ]
    }
   ],
   "source": [
    "user_id = 2500\n",
    "\n",
    "recommended, explanation_df = explain_recommendations(model, interactions_csr, movie_map, user_id)\n",
    "print(\"Рекомендованные фильмы:\", recommended)\n",
    "print(\"\\nОбъяснение рекомендации:\")\n",
    "print(explanation_df)"
   ]
  },
  {
   "cell_type": "code",
   "execution_count": 57,
   "id": "66f8d3c5",
   "metadata": {},
   "outputs": [
    {
     "name": "stdout",
     "output_type": "stream",
     "text": [
      "Рекомендованные фильмы: ['Mr. Wonderful (1993)']\n",
      "\n",
      "Объяснение рекомендации:\n",
      "                           Фильм     Вклад\n",
      "0      Little Princess, A (1995)  0.075055\n",
      "1          Poetic Justice (1993)  0.069929\n",
      "2  Farinelli: il castrato (1994)  0.068692\n",
      "3     Fear of a Black Hat (1993)  0.063301\n",
      "4             Double Team (1997)  0.053791\n",
      "5         Beautiful Girls (1996)  0.036819\n",
      "6           Dance with Me (1998)  0.035216\n",
      "7   Three Caballeros, The (1945)  0.035184\n",
      "8          Jack and Sarah (1995)  0.030760\n",
      "9         Nothing to Lose (1994)  0.027533\n"
     ]
    }
   ],
   "source": [
    "user_id = 12\n",
    "\n",
    "recommended, explanation_df = explain_recommendations(model, interactions_csr, movie_map, user_id)\n",
    "print(\"Рекомендованные фильмы:\", recommended)\n",
    "print(\"\\nОбъяснение рекомендации:\")\n",
    "print(explanation_df)"
   ]
  },
  {
   "cell_type": "code",
   "execution_count": 58,
   "id": "8b9a782e",
   "metadata": {},
   "outputs": [
    {
     "name": "stdout",
     "output_type": "stream",
     "text": [
      "Рекомендованные фильмы: ['Great Dictator, The (1940)']\n",
      "\n",
      "Объяснение рекомендации:\n",
      "                           Фильм     Вклад\n",
      "0            Magic Hunter (1994)  0.023780\n",
      "1                   Ronin (1998)  0.019707\n",
      "2  Farinelli: il castrato (1994)  0.019390\n",
      "3            12 Angry Men (1957)  0.017885\n",
      "4          Poetic Justice (1993)  0.017627\n",
      "5          U.S. Marshalls (1998)  0.017413\n",
      "6             Normal Life (1996)  0.016779\n",
      "7           39 Steps, The (1935)  0.016028\n",
      "8   Story of Xinghua, The (1993)  0.014792\n",
      "9           Seven (Se7en) (1995)  0.013967\n"
     ]
    }
   ],
   "source": [
    "user_id = 912\n",
    "\n",
    "recommended, explanation_df = explain_recommendations(model, interactions_csr, movie_map, user_id)\n",
    "print(\"Рекомендованные фильмы:\", recommended)\n",
    "print(\"\\nОбъяснение рекомендации:\")\n",
    "print(explanation_df)"
   ]
  },
  {
   "cell_type": "markdown",
   "id": "d7d7ea0c-8288-45f5-83d4-9761a8952669",
   "metadata": {},
   "source": [
    "##### Задание 4. До этого мы работали с рейтингами, но как обсуждалось на лекции, implicit ALS отлично работает и с implicit фидбэком. Давайте попробуем преобразовать наш датасет(трейн и тест) следующим образом\n",
    "\n",
    "1. Бинаризуем все рейтинги(заменим любую интеракцию пользователя на 1)\n",
    "2. Заменим на 1 только рейтинги 4 и 5, а рейтинг ниже 4 заменим на 0\n",
    "3. Заменим на 1 только рейтинги 4 и 5, а рейтинг ниже 4 заменим на -1\n",
    "4. Заменим на 1 только рейтинги 4 и 5, а рейтинг ниже 4 заменим на -1 и добавим сглаживание по времени. То есть чем дальше была интеракция от максимальной даты трейна, тем с меньшим весом мы будем ее учитывать(например можно интеракции за последний месяц брать в исходном виде, и с каждым месяцем в прошлое умножать их на какой-нибудь коэффициент меньший 1). Таким образом более старые интеракции пользователя будут вносить меньший вклад в его интересы\n",
    "5. Придумайте свой вариант(опционально)\n",
    "\n",
    "Для каждой полученной матрицы обучите iALS и SVD и сравните их результаты между собой(преобразовывать нужно только обучающую выборку, тестовую оставляем неизменной)"
   ]
  },
  {
   "cell_type": "code",
   "execution_count": 128,
   "id": "c839fd09-eca4-43e0-a209-2da63775f79f",
   "metadata": {},
   "outputs": [
    {
     "name": "stderr",
     "output_type": "stream",
     "text": [
      "/var/folders/34/9lmn_1px5cs289tjl5rn7cs80000gn/T/ipykernel_65197/3391031236.py:1: DeprecationWarning: DataFrameGroupBy.apply operated on the grouping columns. This behavior is deprecated, and in a future version of pandas the grouping columns will be excluded from the operation. Either pass `include_groups=False` to exclude the groupings or explicitly select the grouping columns after groupby to silence this warning.\n",
      "  test_result = df_test.groupby('user_id').apply(\n"
     ]
    },
    {
     "data": {
      "text/html": [
       "<div>\n",
       "<style scoped>\n",
       "    .dataframe tbody tr th:only-of-type {\n",
       "        vertical-align: middle;\n",
       "    }\n",
       "\n",
       "    .dataframe tbody tr th {\n",
       "        vertical-align: top;\n",
       "    }\n",
       "\n",
       "    .dataframe thead th {\n",
       "        text-align: right;\n",
       "    }\n",
       "</style>\n",
       "<table border=\"1\" class=\"dataframe\">\n",
       "  <thead>\n",
       "    <tr style=\"text-align: right;\">\n",
       "      <th></th>\n",
       "      <th>user_id</th>\n",
       "      <th>item_ratings</th>\n",
       "    </tr>\n",
       "  </thead>\n",
       "  <tbody>\n",
       "    <tr>\n",
       "      <th>0</th>\n",
       "      <td>0</td>\n",
       "      <td>{959: 2, 2992: 3, 3004: 3, 1242: 3, 2251: 3, 9...</td>\n",
       "    </tr>\n",
       "    <tr>\n",
       "      <th>1</th>\n",
       "      <td>1</td>\n",
       "      <td>{3005: 3, 2346: 3, 2490: 3, 2742: 3, 2747: 3, ...</td>\n",
       "    </tr>\n",
       "    <tr>\n",
       "      <th>2</th>\n",
       "      <td>3</td>\n",
       "      <td>{2995: 1, 839: 1, 1848: 3, 2780: 3, 961: 4, 92...</td>\n",
       "    </tr>\n",
       "    <tr>\n",
       "      <th>3</th>\n",
       "      <td>4</td>\n",
       "      <td>{580: 5, 665: 5, 666: 5, 1203: 5, 510: 5, 2097...</td>\n",
       "    </tr>\n",
       "    <tr>\n",
       "      <th>4</th>\n",
       "      <td>6</td>\n",
       "      <td>{1526: 1, 1536: 1, 742: 1, 162: 1, 525: 1, 113...</td>\n",
       "    </tr>\n",
       "    <tr>\n",
       "      <th>...</th>\n",
       "      <td>...</td>\n",
       "      <td>...</td>\n",
       "    </tr>\n",
       "    <tr>\n",
       "      <th>1142</th>\n",
       "      <td>5325</td>\n",
       "      <td>{496: 2, 1084: 2, 2791: 2, 1032: 2, 134: 2, 21...</td>\n",
       "    </tr>\n",
       "    <tr>\n",
       "      <th>1143</th>\n",
       "      <td>5326</td>\n",
       "      <td>{2394: 2, 2411: 2, 664: 3, 2610: 3, 850: 3, 16...</td>\n",
       "    </tr>\n",
       "    <tr>\n",
       "      <th>1144</th>\n",
       "      <td>5340</td>\n",
       "      <td>{1111: 1, 2939: 1, 1527: 2, 676: 2, 682: 2, 13...</td>\n",
       "    </tr>\n",
       "    <tr>\n",
       "      <th>1145</th>\n",
       "      <td>5352</td>\n",
       "      <td>{2279: 4}</td>\n",
       "    </tr>\n",
       "    <tr>\n",
       "      <th>1146</th>\n",
       "      <td>5364</td>\n",
       "      <td>{2588: 3, 947: 3, 126: 3, 1307: 3, 1532: 4, 19...</td>\n",
       "    </tr>\n",
       "  </tbody>\n",
       "</table>\n",
       "<p>1147 rows × 2 columns</p>\n",
       "</div>"
      ],
      "text/plain": [
       "      user_id                                       item_ratings\n",
       "0           0  {959: 2, 2992: 3, 3004: 3, 1242: 3, 2251: 3, 9...\n",
       "1           1  {3005: 3, 2346: 3, 2490: 3, 2742: 3, 2747: 3, ...\n",
       "2           3  {2995: 1, 839: 1, 1848: 3, 2780: 3, 961: 4, 92...\n",
       "3           4  {580: 5, 665: 5, 666: 5, 1203: 5, 510: 5, 2097...\n",
       "4           6  {1526: 1, 1536: 1, 742: 1, 162: 1, 525: 1, 113...\n",
       "...       ...                                                ...\n",
       "1142     5325  {496: 2, 1084: 2, 2791: 2, 1032: 2, 134: 2, 21...\n",
       "1143     5326  {2394: 2, 2411: 2, 664: 3, 2610: 3, 850: 3, 16...\n",
       "1144     5340  {1111: 1, 2939: 1, 1527: 2, 676: 2, 682: 2, 13...\n",
       "1145     5352                                          {2279: 4}\n",
       "1146     5364  {2588: 3, 947: 3, 126: 3, 1307: 3, 1532: 4, 19...\n",
       "\n",
       "[1147 rows x 2 columns]"
      ]
     },
     "execution_count": 128,
     "metadata": {},
     "output_type": "execute_result"
    }
   ],
   "source": [
    "test_result = df_test.groupby('user_id').apply(\n",
    "    lambda x: dict([(t1, t2) for t1, t2 in sorted(zip(x.item_id, x.rating), key=lambda x: x[1])])\n",
    "    ).reset_index()\n",
    "\n",
    "test_result.rename({0:'item_ratings'}, axis=1, inplace=True)\n",
    "test_result"
   ]
  },
  {
   "cell_type": "code",
   "execution_count": 129,
   "id": "205c4233",
   "metadata": {},
   "outputs": [],
   "source": [
    "def result(name: str,\n",
    "           recs: np.array,\n",
    "           test_result: pd.DataFrame,\n",
    "           ):\n",
    "    col_pred = name\n",
    "\n",
    "    def get_pred_rating(row):\n",
    "        item_dict = row[\"item_ratings\"]\n",
    "        return [item_dict.get(item, 0) for item in row[col_pred]]\n",
    "\n",
    "    def dcg(relevance):\n",
    "        positions = np.arange(len(relevance)) + 1\n",
    "        dcg_score = np.sum(relevance / np.log2(positions + 1))\n",
    "        return dcg_score\n",
    "\n",
    "    def ndcg(relevance):\n",
    "        dcg_r = dcg(relevance)\n",
    "        dcg_i = dcg(sorted(relevance, reverse=True))\n",
    "        if dcg_i > 0:\n",
    "            return dcg_r / dcg_i\n",
    "        return 0\n",
    "    test_result[col_pred] = test_result[\"user_id\"].apply(lambda uid: recs[uid])\n",
    "    test_result[col_pred] = test_result.apply(get_pred_rating, axis=1)\n",
    "    test_result[col_pred] = test_result[col_pred].apply(ndcg)"
   ]
  },
  {
   "cell_type": "code",
   "execution_count": 130,
   "id": "91050e9e",
   "metadata": {},
   "outputs": [],
   "source": [
    "import optuna\n",
    "\n",
    "def objective_als(trial, interactions, test_result):\n",
    "    params = {\n",
    "        \"factors\": trial.suggest_int(\"factors\", 10, 50),\n",
    "        \"alpha\": trial.suggest_float(\"alpha\", 0.01, 1, log=True),\n",
    "        \"regularization\": trial.suggest_float(\"regularization\", 0.1, 5, log=True),\n",
    "    }\n",
    "    recs = make_als_recommendations(interactions, **params)\n",
    "    result(\"optuna_als\", recs, test_result)\n",
    "    score = test_result[\"optuna_als\"].mean()\n",
    "\n",
    "    return score"
   ]
  },
  {
   "cell_type": "code",
   "execution_count": 131,
   "id": "26c2bb2c",
   "metadata": {},
   "outputs": [],
   "source": [
    "import optuna\n",
    "\n",
    "def objective_svd(trial, interactions, test_result):\n",
    "    params = {\n",
    "        \"n_singular_values\": trial.suggest_int(\"n_singular_values\", 1, 50)\n",
    "    }\n",
    "    recs = make_svd_recommendations(interactions, **params)\n",
    "    result(\"optuna_svd\", recs, test_result)\n",
    "    score = test_result[\"optuna_svd\"].mean()\n",
    "\n",
    "    return score"
   ]
  },
  {
   "cell_type": "code",
   "execution_count": 132,
   "id": "062b7682",
   "metadata": {},
   "outputs": [
    {
     "name": "stderr",
     "output_type": "stream",
     "text": [
      "[I 2025-03-02 20:26:18,987] A new study created in memory with name: no-name-ad5562b3-6933-4bbf-b9f1-6a4fc78fb6aa\n",
      "[I 2025-03-02 20:26:21,310] Trial 0 finished with value: 0.5016240828607047 and parameters: {'n_singular_values': 47}. Best is trial 0 with value: 0.5016240828607047.\n",
      "[I 2025-03-02 20:26:21,820] Trial 3 finished with value: 0.509740434612027 and parameters: {'n_singular_values': 17}. Best is trial 3 with value: 0.509740434612027.\n",
      "[I 2025-03-02 20:26:21,879] Trial 4 finished with value: 0.492039029512887 and parameters: {'n_singular_values': 2}. Best is trial 3 with value: 0.509740434612027.\n",
      "[I 2025-03-02 20:26:23,578] Trial 2 finished with value: 0.5057147559091643 and parameters: {'n_singular_values': 38}. Best is trial 3 with value: 0.509740434612027.\n",
      "[I 2025-03-02 20:26:23,878] Trial 7 finished with value: 0.5069610484439271 and parameters: {'n_singular_values': 30}. Best is trial 3 with value: 0.509740434612027.\n",
      "[I 2025-03-02 20:26:23,930] Trial 6 finished with value: 0.5169224669443719 and parameters: {'n_singular_values': 5}. Best is trial 6 with value: 0.5169224669443719.\n",
      "[I 2025-03-02 20:26:24,832] Trial 5 finished with value: 0.520295565020693 and parameters: {'n_singular_values': 7}. Best is trial 5 with value: 0.520295565020693.\n",
      "[I 2025-03-02 20:26:24,962] Trial 1 finished with value: 0.5089648322371004 and parameters: {'n_singular_values': 28}. Best is trial 5 with value: 0.520295565020693.\n",
      "[I 2025-03-02 20:26:25,848] Trial 8 finished with value: 0.5063750804439818 and parameters: {'n_singular_values': 31}. Best is trial 5 with value: 0.520295565020693.\n",
      "[I 2025-03-02 20:26:26,597] Trial 9 finished with value: 0.5088647662989313 and parameters: {'n_singular_values': 27}. Best is trial 5 with value: 0.520295565020693.\n",
      "[I 2025-03-02 20:26:27,292] Trial 10 finished with value: 0.5088647662989313 and parameters: {'n_singular_values': 27}. Best is trial 5 with value: 0.520295565020693.\n",
      "[I 2025-03-02 20:26:27,958] Trial 11 finished with value: 0.5095639473612663 and parameters: {'n_singular_values': 26}. Best is trial 5 with value: 0.520295565020693.\n",
      "[I 2025-03-02 20:26:28,039] Trial 13 finished with value: 0.5178483514428545 and parameters: {'n_singular_values': 10}. Best is trial 5 with value: 0.520295565020693.\n",
      "[I 2025-03-02 20:26:28,211] Trial 12 finished with value: 0.509740434612027 and parameters: {'n_singular_values': 17}. Best is trial 5 with value: 0.520295565020693.\n",
      "[I 2025-03-02 20:26:28,970] Trial 14 finished with value: 0.5095639473612663 and parameters: {'n_singular_values': 26}. Best is trial 5 with value: 0.520295565020693.\n",
      "[I 2025-03-02 20:26:29,951] Trial 15 finished with value: 0.508014236324991 and parameters: {'n_singular_values': 29}. Best is trial 5 with value: 0.520295565020693.\n",
      "[I 2025-03-02 20:26:30,954] Trial 19 finished with value: 0.492039029512887 and parameters: {'n_singular_values': 2}. Best is trial 5 with value: 0.520295565020693.\n",
      "[I 2025-03-02 20:26:31,373] Trial 18 finished with value: 0.48325023178804016 and parameters: {'n_singular_values': 1}. Best is trial 5 with value: 0.520295565020693.\n",
      "[I 2025-03-02 20:26:31,411] Trial 16 finished with value: 0.5065991911707405 and parameters: {'n_singular_values': 35}. Best is trial 5 with value: 0.520295565020693.\n",
      "[I 2025-03-02 20:26:31,568] Trial 17 finished with value: 0.5118622564465657 and parameters: {'n_singular_values': 15}. Best is trial 5 with value: 0.520295565020693.\n",
      "[I 2025-03-02 20:26:32,205] Trial 20 finished with value: 0.5143682612646401 and parameters: {'n_singular_values': 13}. Best is trial 5 with value: 0.520295565020693.\n",
      "[I 2025-03-02 20:26:32,570] Trial 21 finished with value: 0.513913867316563 and parameters: {'n_singular_values': 11}. Best is trial 5 with value: 0.520295565020693.\n",
      "[I 2025-03-02 20:26:32,644] Trial 22 finished with value: 0.513913867316563 and parameters: {'n_singular_values': 11}. Best is trial 5 with value: 0.520295565020693.\n",
      "[I 2025-03-02 20:26:32,694] Trial 23 finished with value: 0.5178483514428545 and parameters: {'n_singular_values': 10}. Best is trial 5 with value: 0.520295565020693.\n",
      "[I 2025-03-02 20:26:33,528] Trial 24 finished with value: 0.513913867316563 and parameters: {'n_singular_values': 11}. Best is trial 5 with value: 0.520295565020693.\n",
      "[I 2025-03-02 20:26:33,908] Trial 25 finished with value: 0.5226953287347962 and parameters: {'n_singular_values': 9}. Best is trial 25 with value: 0.5226953287347962.\n",
      "[I 2025-03-02 20:26:34,232] Trial 26 finished with value: 0.513913867316563 and parameters: {'n_singular_values': 11}. Best is trial 25 with value: 0.5226953287347962.\n",
      "[I 2025-03-02 20:26:34,454] Trial 27 finished with value: 0.5191151394351163 and parameters: {'n_singular_values': 8}. Best is trial 25 with value: 0.5226953287347962.\n",
      "[I 2025-03-02 20:26:34,537] Trial 28 finished with value: 0.5226953287347962 and parameters: {'n_singular_values': 9}. Best is trial 25 with value: 0.5226953287347962.\n",
      "[I 2025-03-02 20:26:34,652] Trial 29 finished with value: 0.5191151394351163 and parameters: {'n_singular_values': 8}. Best is trial 25 with value: 0.5226953287347962.\n"
     ]
    },
    {
     "name": "stdout",
     "output_type": "stream",
     "text": [
      "Лучшее значение: 0.5226953287347962\n",
      "Лучшие параметры: {'n_singular_values': 9}\n"
     ]
    }
   ],
   "source": [
    "study = optuna.create_study(direction=\"maximize\")\n",
    "study.optimize(lambda trial: objective_svd(trial, coo_interactions, test_result), n_trials=30, n_jobs=-1)\n",
    "\n",
    "print(f\"Лучшее значение: {study.best_trial.value}\")\n",
    "print(f\"Лучшие параметры: {study.best_params}\")\n",
    "\n",
    "recs = make_svd_recommendations(coo_interactions, **study.best_params)\n",
    "result(\"svd_base\", recs, test_result)"
   ]
  },
  {
   "cell_type": "code",
   "execution_count": 133,
   "id": "900874d4",
   "metadata": {},
   "outputs": [
    {
     "name": "stderr",
     "output_type": "stream",
     "text": [
      "[I 2025-03-02 20:26:45,199] A new study created in memory with name: no-name-b8d81f9f-b854-4b12-98e0-a0997f00d283\n"
     ]
    },
    {
     "data": {
      "application/vnd.jupyter.widget-view+json": {
       "model_id": "63e7e49f711a44a283f08297ec4770c2",
       "version_major": 2,
       "version_minor": 0
      },
      "text/plain": [
       "  0%|          | 0/15 [00:00<?, ?it/s]"
      ]
     },
     "metadata": {},
     "output_type": "display_data"
    },
    {
     "data": {
      "application/vnd.jupyter.widget-view+json": {
       "model_id": "c18761265f52435b8d9a63cb22809e40",
       "version_major": 2,
       "version_minor": 0
      },
      "text/plain": [
       "  0%|          | 0/15 [00:00<?, ?it/s]"
      ]
     },
     "metadata": {},
     "output_type": "display_data"
    },
    {
     "data": {
      "application/vnd.jupyter.widget-view+json": {
       "model_id": "73936d8440494f5b93b2ed699f990381",
       "version_major": 2,
       "version_minor": 0
      },
      "text/plain": [
       "  0%|          | 0/15 [00:00<?, ?it/s]"
      ]
     },
     "metadata": {},
     "output_type": "display_data"
    },
    {
     "data": {
      "application/vnd.jupyter.widget-view+json": {
       "model_id": "dd46eb80fac542db8a87b5a66b810fcc",
       "version_major": 2,
       "version_minor": 0
      },
      "text/plain": [
       "  0%|          | 0/15 [00:00<?, ?it/s]"
      ]
     },
     "metadata": {},
     "output_type": "display_data"
    },
    {
     "data": {
      "application/vnd.jupyter.widget-view+json": {
       "model_id": "491cd51a680e424b8382d729f3d22f61",
       "version_major": 2,
       "version_minor": 0
      },
      "text/plain": [
       "  0%|          | 0/15 [00:00<?, ?it/s]"
      ]
     },
     "metadata": {},
     "output_type": "display_data"
    },
    {
     "data": {
      "application/vnd.jupyter.widget-view+json": {
       "model_id": "7a7ba242102c4fb1b7ae568672e75a76",
       "version_major": 2,
       "version_minor": 0
      },
      "text/plain": [
       "  0%|          | 0/15 [00:00<?, ?it/s]"
      ]
     },
     "metadata": {},
     "output_type": "display_data"
    },
    {
     "data": {
      "application/vnd.jupyter.widget-view+json": {
       "model_id": "7ad55891ceb1483284fd3b897885ccf9",
       "version_major": 2,
       "version_minor": 0
      },
      "text/plain": [
       "  0%|          | 0/15 [00:00<?, ?it/s]"
      ]
     },
     "metadata": {},
     "output_type": "display_data"
    },
    {
     "data": {
      "application/vnd.jupyter.widget-view+json": {
       "model_id": "9bde0770b0704ea78849ba80e7002cf7",
       "version_major": 2,
       "version_minor": 0
      },
      "text/plain": [
       "  0%|          | 0/15 [00:00<?, ?it/s]"
      ]
     },
     "metadata": {},
     "output_type": "display_data"
    },
    {
     "name": "stderr",
     "output_type": "stream",
     "text": [
      "[I 2025-03-02 20:27:03,279] Trial 4 finished with value: 0.22476436301351993 and parameters: {'factors': 25, 'alpha': 0.01933849376232641, 'regularization': 2.3018298699033917}. Best is trial 4 with value: 0.22476436301351993.\n"
     ]
    },
    {
     "data": {
      "application/vnd.jupyter.widget-view+json": {
       "model_id": "35895bbb9e16469cb21593befd6aa6db",
       "version_major": 2,
       "version_minor": 0
      },
      "text/plain": [
       "  0%|          | 0/15 [00:00<?, ?it/s]"
      ]
     },
     "metadata": {},
     "output_type": "display_data"
    },
    {
     "name": "stderr",
     "output_type": "stream",
     "text": [
      "[I 2025-03-02 20:27:04,092] Trial 6 finished with value: 0.47405257497591224 and parameters: {'factors': 24, 'alpha': 0.03817927676309378, 'regularization': 1.275456272730518}. Best is trial 6 with value: 0.47405257497591224.\n",
      "[I 2025-03-02 20:27:04,248] Trial 7 finished with value: 0.5042821508599088 and parameters: {'factors': 17, 'alpha': 0.29789975470264335, 'regularization': 1.3778215728307246}. Best is trial 7 with value: 0.5042821508599088.\n"
     ]
    },
    {
     "data": {
      "application/vnd.jupyter.widget-view+json": {
       "model_id": "328e67f1f5194119ba44026485193ed5",
       "version_major": 2,
       "version_minor": 0
      },
      "text/plain": [
       "  0%|          | 0/15 [00:00<?, ?it/s]"
      ]
     },
     "metadata": {},
     "output_type": "display_data"
    },
    {
     "data": {
      "application/vnd.jupyter.widget-view+json": {
       "model_id": "f15a8f875d55459dba3117da7eb3ad78",
       "version_major": 2,
       "version_minor": 0
      },
      "text/plain": [
       "  0%|          | 0/15 [00:00<?, ?it/s]"
      ]
     },
     "metadata": {},
     "output_type": "display_data"
    },
    {
     "name": "stderr",
     "output_type": "stream",
     "text": [
      "[I 2025-03-02 20:27:04,676] Trial 0 finished with value: 0.1160603429971382 and parameters: {'factors': 27, 'alpha': 0.010171261066780244, 'regularization': 3.4039616030188307}. Best is trial 7 with value: 0.5042821508599088.\n"
     ]
    },
    {
     "data": {
      "application/vnd.jupyter.widget-view+json": {
       "model_id": "c1aa3bb8f0ae46afa67dc94536021338",
       "version_major": 2,
       "version_minor": 0
      },
      "text/plain": [
       "  0%|          | 0/15 [00:00<?, ?it/s]"
      ]
     },
     "metadata": {},
     "output_type": "display_data"
    },
    {
     "name": "stderr",
     "output_type": "stream",
     "text": [
      "[I 2025-03-02 20:27:05,903] Trial 1 finished with value: 0.4774598456073564 and parameters: {'factors': 31, 'alpha': 0.05413245750624276, 'regularization': 3.505528164159859}. Best is trial 7 with value: 0.5042821508599088.\n"
     ]
    },
    {
     "data": {
      "application/vnd.jupyter.widget-view+json": {
       "model_id": "a8f733f54acd40aeaa67bf363bafc4ef",
       "version_major": 2,
       "version_minor": 0
      },
      "text/plain": [
       "  0%|          | 0/15 [00:00<?, ?it/s]"
      ]
     },
     "metadata": {},
     "output_type": "display_data"
    },
    {
     "name": "stderr",
     "output_type": "stream",
     "text": [
      "[I 2025-03-02 20:27:06,902] Trial 2 finished with value: 0.47439188794044046 and parameters: {'factors': 38, 'alpha': 0.15602974379872334, 'regularization': 0.16916819897304453}. Best is trial 7 with value: 0.5042821508599088.\n"
     ]
    },
    {
     "data": {
      "application/vnd.jupyter.widget-view+json": {
       "model_id": "5bb9afd57c6242a5959a3301c5df3736",
       "version_major": 2,
       "version_minor": 0
      },
      "text/plain": [
       "  0%|          | 0/15 [00:00<?, ?it/s]"
      ]
     },
     "metadata": {},
     "output_type": "display_data"
    },
    {
     "name": "stderr",
     "output_type": "stream",
     "text": [
      "[I 2025-03-02 20:27:07,955] Trial 3 finished with value: 0.4944301806949178 and parameters: {'factors': 46, 'alpha': 0.19780097041008018, 'regularization': 3.5736719353110304}. Best is trial 7 with value: 0.5042821508599088.\n",
      "[I 2025-03-02 20:27:08,115] Trial 5 finished with value: 0.4835060584354085 and parameters: {'factors': 26, 'alpha': 0.10662440687112681, 'regularization': 0.48271580206113834}. Best is trial 7 with value: 0.5042821508599088.\n"
     ]
    },
    {
     "data": {
      "application/vnd.jupyter.widget-view+json": {
       "model_id": "fe921b5d6261423da685e1edd1f2ccf0",
       "version_major": 2,
       "version_minor": 0
      },
      "text/plain": [
       "  0%|          | 0/15 [00:00<?, ?it/s]"
      ]
     },
     "metadata": {},
     "output_type": "display_data"
    },
    {
     "data": {
      "application/vnd.jupyter.widget-view+json": {
       "model_id": "09de4687040a4c45a3ed7b9be4806fbd",
       "version_major": 2,
       "version_minor": 0
      },
      "text/plain": [
       "  0%|          | 0/15 [00:00<?, ?it/s]"
      ]
     },
     "metadata": {},
     "output_type": "display_data"
    },
    {
     "name": "stderr",
     "output_type": "stream",
     "text": [
      "[I 2025-03-02 20:27:24,488] Trial 8 finished with value: 0.48426356095004053 and parameters: {'factors': 22, 'alpha': 0.11439920875120177, 'regularization': 0.4861371484986862}. Best is trial 7 with value: 0.5042821508599088.\n"
     ]
    },
    {
     "data": {
      "application/vnd.jupyter.widget-view+json": {
       "model_id": "1bf3e20cc6dd4595ab1e918656e9ba8c",
       "version_major": 2,
       "version_minor": 0
      },
      "text/plain": [
       "  0%|          | 0/15 [00:00<?, ?it/s]"
      ]
     },
     "metadata": {},
     "output_type": "display_data"
    },
    {
     "name": "stderr",
     "output_type": "stream",
     "text": [
      "[I 2025-03-02 20:27:25,444] Trial 15 finished with value: 0.4836246464046319 and parameters: {'factors': 43, 'alpha': 0.01308758301164466, 'regularization': 0.6855576636571296}. Best is trial 7 with value: 0.5042821508599088.\n"
     ]
    },
    {
     "data": {
      "application/vnd.jupyter.widget-view+json": {
       "model_id": "9e9dadd0c393428c835d4096d7379abe",
       "version_major": 2,
       "version_minor": 0
      },
      "text/plain": [
       "  0%|          | 0/15 [00:00<?, ?it/s]"
      ]
     },
     "metadata": {},
     "output_type": "display_data"
    },
    {
     "name": "stderr",
     "output_type": "stream",
     "text": [
      "[I 2025-03-02 20:27:25,649] Trial 11 finished with value: 0.5048654270038756 and parameters: {'factors': 13, 'alpha': 0.21012442572024148, 'regularization': 0.468359405680751}. Best is trial 11 with value: 0.5048654270038756.\n"
     ]
    },
    {
     "data": {
      "application/vnd.jupyter.widget-view+json": {
       "model_id": "55249ae336f243ffae28d6db6fad2bcf",
       "version_major": 2,
       "version_minor": 0
      },
      "text/plain": [
       "  0%|          | 0/15 [00:00<?, ?it/s]"
      ]
     },
     "metadata": {},
     "output_type": "display_data"
    },
    {
     "name": "stderr",
     "output_type": "stream",
     "text": [
      "[I 2025-03-02 20:27:26,541] Trial 14 finished with value: 0.502911678094072 and parameters: {'factors': 14, 'alpha': 0.22879658524550106, 'regularization': 0.7068121240542582}. Best is trial 11 with value: 0.5048654270038756.\n"
     ]
    },
    {
     "data": {
      "application/vnd.jupyter.widget-view+json": {
       "model_id": "5982853942d649faabbc6c7489fb964f",
       "version_major": 2,
       "version_minor": 0
      },
      "text/plain": [
       "  0%|          | 0/15 [00:00<?, ?it/s]"
      ]
     },
     "metadata": {},
     "output_type": "display_data"
    },
    {
     "name": "stderr",
     "output_type": "stream",
     "text": [
      "[I 2025-03-02 20:27:27,330] Trial 10 finished with value: 0.49115531450634464 and parameters: {'factors': 49, 'alpha': 0.291489020818572, 'regularization': 2.5442864630302036}. Best is trial 11 with value: 0.5048654270038756.\n",
      "[I 2025-03-02 20:27:27,458] Trial 12 finished with value: 0.5005019097166632 and parameters: {'factors': 28, 'alpha': 0.3758307231810835, 'regularization': 0.25720449289327285}. Best is trial 11 with value: 0.5048654270038756.\n"
     ]
    },
    {
     "data": {
      "application/vnd.jupyter.widget-view+json": {
       "model_id": "e50e77abf87748558e0a09260985b716",
       "version_major": 2,
       "version_minor": 0
      },
      "text/plain": [
       "  0%|          | 0/15 [00:00<?, ?it/s]"
      ]
     },
     "metadata": {},
     "output_type": "display_data"
    },
    {
     "data": {
      "application/vnd.jupyter.widget-view+json": {
       "model_id": "c2dc4fb6253446c8ae16b4e99fa62691",
       "version_major": 2,
       "version_minor": 0
      },
      "text/plain": [
       "  0%|          | 0/15 [00:00<?, ?it/s]"
      ]
     },
     "metadata": {},
     "output_type": "display_data"
    },
    {
     "name": "stderr",
     "output_type": "stream",
     "text": [
      "[I 2025-03-02 20:27:29,599] Trial 9 finished with value: 0.49883397160104626 and parameters: {'factors': 37, 'alpha': 0.4682492813534221, 'regularization': 0.3366358060519733}. Best is trial 11 with value: 0.5048654270038756.\n"
     ]
    },
    {
     "data": {
      "application/vnd.jupyter.widget-view+json": {
       "model_id": "00a77920741b47b6ac2c74c141d7d8d4",
       "version_major": 2,
       "version_minor": 0
      },
      "text/plain": [
       "  0%|          | 0/15 [00:00<?, ?it/s]"
      ]
     },
     "metadata": {},
     "output_type": "display_data"
    },
    {
     "name": "stderr",
     "output_type": "stream",
     "text": [
      "[I 2025-03-02 20:27:30,680] Trial 13 finished with value: 0.4968471760589729 and parameters: {'factors': 42, 'alpha': 0.47673433172172275, 'regularization': 0.13479362217067833}. Best is trial 11 with value: 0.5048654270038756.\n"
     ]
    },
    {
     "data": {
      "application/vnd.jupyter.widget-view+json": {
       "model_id": "a0bcaf08f82b48f49fc48a1b95e78e63",
       "version_major": 2,
       "version_minor": 0
      },
      "text/plain": [
       "  0%|          | 0/15 [00:00<?, ?it/s]"
      ]
     },
     "metadata": {},
     "output_type": "display_data"
    },
    {
     "name": "stderr",
     "output_type": "stream",
     "text": [
      "[I 2025-03-02 20:27:43,149] Trial 18 finished with value: 0.508154795931488 and parameters: {'factors': 12, 'alpha': 0.707088489137229, 'regularization': 0.23524033788042487}. Best is trial 18 with value: 0.508154795931488.\n",
      "[I 2025-03-02 20:27:43,181] Trial 17 finished with value: 0.5060886968639355 and parameters: {'factors': 12, 'alpha': 0.8899132251654154, 'regularization': 0.1848178378217669}. Best is trial 18 with value: 0.508154795931488.\n"
     ]
    },
    {
     "data": {
      "application/vnd.jupyter.widget-view+json": {
       "model_id": "95fd63cc210f421eafea141afd7872c5",
       "version_major": 2,
       "version_minor": 0
      },
      "text/plain": [
       "  0%|          | 0/15 [00:00<?, ?it/s]"
      ]
     },
     "metadata": {},
     "output_type": "display_data"
    },
    {
     "data": {
      "application/vnd.jupyter.widget-view+json": {
       "model_id": "f60af66f3dba4dc7abbe75c97d234779",
       "version_major": 2,
       "version_minor": 0
      },
      "text/plain": [
       "  0%|          | 0/15 [00:00<?, ?it/s]"
      ]
     },
     "metadata": {},
     "output_type": "display_data"
    },
    {
     "name": "stderr",
     "output_type": "stream",
     "text": [
      "[I 2025-03-02 20:27:44,302] Trial 20 finished with value: 0.5094016209729909 and parameters: {'factors': 10, 'alpha': 0.8758943815358378, 'regularization': 0.2405216946945472}. Best is trial 20 with value: 0.5094016209729909.\n"
     ]
    },
    {
     "data": {
      "application/vnd.jupyter.widget-view+json": {
       "model_id": "26cccc98c2f94f64b0748a473b43a0ef",
       "version_major": 2,
       "version_minor": 0
      },
      "text/plain": [
       "  0%|          | 0/15 [00:00<?, ?it/s]"
      ]
     },
     "metadata": {},
     "output_type": "display_data"
    },
    {
     "name": "stderr",
     "output_type": "stream",
     "text": [
      "[I 2025-03-02 20:27:45,512] Trial 19 finished with value: 0.5093464960866307 and parameters: {'factors': 11, 'alpha': 0.6470075673919982, 'regularization': 0.25867589124796636}. Best is trial 20 with value: 0.5094016209729909.\n"
     ]
    },
    {
     "data": {
      "application/vnd.jupyter.widget-view+json": {
       "model_id": "7e441faefb8e46f0a5077a49e411989f",
       "version_major": 2,
       "version_minor": 0
      },
      "text/plain": [
       "  0%|          | 0/15 [00:00<?, ?it/s]"
      ]
     },
     "metadata": {},
     "output_type": "display_data"
    },
    {
     "name": "stderr",
     "output_type": "stream",
     "text": [
      "[I 2025-03-02 20:27:45,983] Trial 16 finished with value: 0.49844028613800256 and parameters: {'factors': 28, 'alpha': 0.21926197113437812, 'regularization': 2.1567757533222327}. Best is trial 20 with value: 0.5094016209729909.\n"
     ]
    },
    {
     "data": {
      "application/vnd.jupyter.widget-view+json": {
       "model_id": "f82ec344853e4d7bb2efbb4cabb70a76",
       "version_major": 2,
       "version_minor": 0
      },
      "text/plain": [
       "  0%|          | 0/15 [00:00<?, ?it/s]"
      ]
     },
     "metadata": {},
     "output_type": "display_data"
    },
    {
     "name": "stderr",
     "output_type": "stream",
     "text": [
      "[I 2025-03-02 20:27:46,606] Trial 21 finished with value: 0.5099668142400511 and parameters: {'factors': 10, 'alpha': 0.7468110451208678, 'regularization': 1.2740448255695884}. Best is trial 21 with value: 0.5099668142400511.\n"
     ]
    },
    {
     "data": {
      "application/vnd.jupyter.widget-view+json": {
       "model_id": "7b91ab7e144d4d39ac0f3e983be8b433",
       "version_major": 2,
       "version_minor": 0
      },
      "text/plain": [
       "  0%|          | 0/15 [00:00<?, ?it/s]"
      ]
     },
     "metadata": {},
     "output_type": "display_data"
    },
    {
     "name": "stderr",
     "output_type": "stream",
     "text": [
      "[I 2025-03-02 20:27:49,037] Trial 22 finished with value: 0.5099497952363753 and parameters: {'factors': 11, 'alpha': 0.6362374941390657, 'regularization': 1.3503549141645714}. Best is trial 21 with value: 0.5099668142400511.\n",
      "[I 2025-03-02 20:27:51,128] Trial 23 finished with value: 0.5096370744487955 and parameters: {'factors': 11, 'alpha': 0.7734191201675924, 'regularization': 1.3797121364431266}. Best is trial 21 with value: 0.5099668142400511.\n",
      "[I 2025-03-02 20:27:59,758] Trial 24 finished with value: 0.508130635565806 and parameters: {'factors': 11, 'alpha': 0.8906672966804512, 'regularization': 0.21727364133264704}. Best is trial 21 with value: 0.5099668142400511.\n",
      "[I 2025-03-02 20:27:59,969] Trial 27 finished with value: 0.49833738710202413 and parameters: {'factors': 18, 'alpha': 0.9203301557595277, 'regularization': 0.12420873962381726}. Best is trial 21 with value: 0.5099668142400511.\n",
      "[I 2025-03-02 20:28:00,037] Trial 25 finished with value: 0.507959637502866 and parameters: {'factors': 10, 'alpha': 0.9301861718963, 'regularization': 0.10631329634369337}. Best is trial 21 with value: 0.5099668142400511.\n",
      "[I 2025-03-02 20:28:00,321] Trial 28 finished with value: 0.5106019956649388 and parameters: {'factors': 10, 'alpha': 0.7789359007978024, 'regularization': 0.11194083984495823}. Best is trial 28 with value: 0.5106019956649388.\n",
      "[I 2025-03-02 20:28:00,466] Trial 26 finished with value: 0.49510678003141 and parameters: {'factors': 19, 'alpha': 0.9764534555662492, 'regularization': 0.10277744170997487}. Best is trial 28 with value: 0.5106019956649388.\n",
      "[I 2025-03-02 20:28:00,567] Trial 29 finished with value: 0.49725102989630166 and parameters: {'factors': 18, 'alpha': 0.9778980716626086, 'regularization': 0.1004432931251196}. Best is trial 28 with value: 0.5106019956649388.\n"
     ]
    },
    {
     "name": "stdout",
     "output_type": "stream",
     "text": [
      "Лучшее значение: 0.5106019956649388\n",
      "Лучшие параметры: {'factors': 10, 'alpha': 0.7789359007978024, 'regularization': 0.11194083984495823}\n"
     ]
    },
    {
     "data": {
      "application/vnd.jupyter.widget-view+json": {
       "model_id": "69838be9f254447da0c8abc15636c8bd",
       "version_major": 2,
       "version_minor": 0
      },
      "text/plain": [
       "  0%|          | 0/15 [00:00<?, ?it/s]"
      ]
     },
     "metadata": {},
     "output_type": "display_data"
    }
   ],
   "source": [
    "study = optuna.create_study(direction=\"maximize\")\n",
    "study.optimize(lambda trial: objective_als(trial, coo_interactions, test_result), n_trials=30, n_jobs=-1)\n",
    "\n",
    "print(f\"Лучшее значение: {study.best_trial.value}\")\n",
    "print(f\"Лучшие параметры: {study.best_params}\")\n",
    "\n",
    "recs = make_als_recommendations(coo_interactions, **study.best_params)\n",
    "result(\"als_base\", recs, test_result)"
   ]
  },
  {
   "cell_type": "markdown",
   "id": "42a0317e",
   "metadata": {},
   "source": [
    "1. Бинаризуем все рейтинги(заменим любую интеракцию пользователя на 1)"
   ]
  },
  {
   "cell_type": "code",
   "execution_count": 134,
   "id": "f88b3218",
   "metadata": {},
   "outputs": [],
   "source": [
    "interactions_bin_1 = coo_interactions.copy()\n",
    "interactions_bin_1.data = np.ones_like(interactions_bin_1.data)"
   ]
  },
  {
   "cell_type": "code",
   "execution_count": 135,
   "id": "ef79b344",
   "metadata": {},
   "outputs": [
    {
     "name": "stderr",
     "output_type": "stream",
     "text": [
      "[I 2025-03-02 20:28:32,593] A new study created in memory with name: no-name-e8ca4349-386b-48f5-baca-e71a78046327\n",
      "[I 2025-03-02 20:28:34,735] Trial 3 finished with value: 0.48825139902264475 and parameters: {'n_singular_values': 41}. Best is trial 3 with value: 0.48825139902264475.\n",
      "[I 2025-03-02 20:28:35,789] Trial 4 finished with value: 0.4888568663318204 and parameters: {'n_singular_values': 37}. Best is trial 4 with value: 0.4888568663318204.\n",
      "[I 2025-03-02 20:28:37,019] Trial 0 finished with value: 0.48825139902264475 and parameters: {'n_singular_values': 41}. Best is trial 4 with value: 0.4888568663318204.\n",
      "[I 2025-03-02 20:28:37,345] Trial 7 finished with value: 0.49282729480207266 and parameters: {'n_singular_values': 27}. Best is trial 7 with value: 0.49282729480207266.\n",
      "[I 2025-03-02 20:28:38,638] Trial 1 finished with value: 0.48976545511934994 and parameters: {'n_singular_values': 34}. Best is trial 7 with value: 0.49282729480207266.\n",
      "[I 2025-03-02 20:28:39,069] Trial 6 finished with value: 0.4920427605516969 and parameters: {'n_singular_values': 28}. Best is trial 7 with value: 0.49282729480207266.\n",
      "[I 2025-03-02 20:28:39,411] Trial 5 finished with value: 0.4920427605516969 and parameters: {'n_singular_values': 28}. Best is trial 7 with value: 0.49282729480207266.\n",
      "[I 2025-03-02 20:28:40,941] Trial 2 finished with value: 0.48976545511934994 and parameters: {'n_singular_values': 34}. Best is trial 7 with value: 0.49282729480207266.\n",
      "[I 2025-03-02 20:28:41,050] Trial 8 finished with value: 0.496078019200272 and parameters: {'n_singular_values': 17}. Best is trial 8 with value: 0.496078019200272.\n",
      "[I 2025-03-02 20:28:41,951] Trial 9 finished with value: 0.48976545511934994 and parameters: {'n_singular_values': 34}. Best is trial 8 with value: 0.496078019200272.\n",
      "[I 2025-03-02 20:28:41,990] Trial 10 finished with value: 0.5013696514876019 and parameters: {'n_singular_values': 12}. Best is trial 10 with value: 0.5013696514876019.\n",
      "[I 2025-03-02 20:28:43,014] Trial 11 finished with value: 0.4877367257656015 and parameters: {'n_singular_values': 43}. Best is trial 10 with value: 0.5013696514876019.\n",
      "[I 2025-03-02 20:28:43,281] Trial 12 finished with value: 0.504563699553921 and parameters: {'n_singular_values': 8}. Best is trial 12 with value: 0.504563699553921.\n",
      "[I 2025-03-02 20:28:43,514] Trial 13 finished with value: 0.5045906201344602 and parameters: {'n_singular_values': 9}. Best is trial 13 with value: 0.5045906201344602.\n",
      "[I 2025-03-02 20:28:44,381] Trial 14 finished with value: 0.4893589356853691 and parameters: {'n_singular_values': 30}. Best is trial 13 with value: 0.5045906201344602.\n",
      "[I 2025-03-02 20:28:45,472] Trial 15 finished with value: 0.4890268072408803 and parameters: {'n_singular_values': 35}. Best is trial 13 with value: 0.5045906201344602.\n",
      "[I 2025-03-02 20:28:46,070] Trial 17 finished with value: 0.504563699553921 and parameters: {'n_singular_values': 8}. Best is trial 13 with value: 0.5045906201344602.\n",
      "[I 2025-03-02 20:28:46,595] Trial 16 finished with value: 0.4888568663318204 and parameters: {'n_singular_values': 37}. Best is trial 13 with value: 0.5045906201344602.\n",
      "[I 2025-03-02 20:28:46,973] Trial 18 finished with value: 0.5012458041218508 and parameters: {'n_singular_values': 10}. Best is trial 13 with value: 0.5045906201344602.\n",
      "[I 2025-03-02 20:28:47,055] Trial 20 finished with value: 0.4737904591250978 and parameters: {'n_singular_values': 1}. Best is trial 13 with value: 0.5045906201344602.\n",
      "[I 2025-03-02 20:28:47,208] Trial 21 finished with value: 0.48771320795322937 and parameters: {'n_singular_values': 3}. Best is trial 13 with value: 0.5045906201344602.\n",
      "[I 2025-03-02 20:28:47,350] Trial 19 finished with value: 0.5045906201344602 and parameters: {'n_singular_values': 9}. Best is trial 13 with value: 0.5045906201344602.\n",
      "[I 2025-03-02 20:28:47,476] Trial 22 finished with value: 0.4737904591250978 and parameters: {'n_singular_values': 1}. Best is trial 13 with value: 0.5045906201344602.\n",
      "[I 2025-03-02 20:28:47,492] Trial 23 finished with value: 0.4737904591250978 and parameters: {'n_singular_values': 1}. Best is trial 13 with value: 0.5045906201344602.\n",
      "[I 2025-03-02 20:28:47,630] Trial 24 finished with value: 0.4737904591250978 and parameters: {'n_singular_values': 1}. Best is trial 13 with value: 0.5045906201344602.\n",
      "[I 2025-03-02 20:28:47,995] Trial 25 finished with value: 0.4737904591250978 and parameters: {'n_singular_values': 1}. Best is trial 13 with value: 0.5045906201344602.\n",
      "[I 2025-03-02 20:28:48,690] Trial 26 finished with value: 0.4737904591250978 and parameters: {'n_singular_values': 1}. Best is trial 13 with value: 0.5045906201344602.\n",
      "[I 2025-03-02 20:28:49,267] Trial 27 finished with value: 0.496078019200272 and parameters: {'n_singular_values': 17}. Best is trial 13 with value: 0.5045906201344602.\n",
      "[I 2025-03-02 20:28:49,594] Trial 28 finished with value: 0.49437039101199154 and parameters: {'n_singular_values': 21}. Best is trial 13 with value: 0.5045906201344602.\n",
      "[I 2025-03-02 20:28:49,937] Trial 29 finished with value: 0.4941695018069963 and parameters: {'n_singular_values': 20}. Best is trial 13 with value: 0.5045906201344602.\n"
     ]
    },
    {
     "name": "stdout",
     "output_type": "stream",
     "text": [
      "Лучшее значение: 0.5045906201344602\n",
      "Лучшие параметры: {'n_singular_values': 9}\n"
     ]
    }
   ],
   "source": [
    "study = optuna.create_study(direction=\"maximize\")\n",
    "study.optimize(lambda trial: objective_svd(trial, interactions_bin_1, test_result), n_trials=30, n_jobs=-1)\n",
    "\n",
    "print(f\"Лучшее значение: {study.best_trial.value}\")\n",
    "print(f\"Лучшие параметры: {study.best_params}\")\n",
    "\n",
    "recs = make_svd_recommendations(interactions_bin_1, **study.best_params)\n",
    "result(\"svd_1\", recs, test_result)\n"
   ]
  },
  {
   "cell_type": "code",
   "execution_count": 136,
   "id": "afaa1eaa",
   "metadata": {},
   "outputs": [
    {
     "name": "stderr",
     "output_type": "stream",
     "text": [
      "[I 2025-03-02 20:28:53,517] A new study created in memory with name: no-name-77bc9483-ba93-4587-984a-4c9c37b8bca6\n"
     ]
    },
    {
     "data": {
      "application/vnd.jupyter.widget-view+json": {
       "model_id": "d633e08ea23f4d7689fce8b383d0562f",
       "version_major": 2,
       "version_minor": 0
      },
      "text/plain": [
       "  0%|          | 0/15 [00:00<?, ?it/s]"
      ]
     },
     "metadata": {},
     "output_type": "display_data"
    },
    {
     "data": {
      "application/vnd.jupyter.widget-view+json": {
       "model_id": "13dceb5da8c347c58e94a1d5096ba4f0",
       "version_major": 2,
       "version_minor": 0
      },
      "text/plain": [
       "  0%|          | 0/15 [00:00<?, ?it/s]"
      ]
     },
     "metadata": {},
     "output_type": "display_data"
    },
    {
     "data": {
      "application/vnd.jupyter.widget-view+json": {
       "model_id": "e68b1ace7f154b69a2d0edbc33c4332c",
       "version_major": 2,
       "version_minor": 0
      },
      "text/plain": [
       "  0%|          | 0/15 [00:00<?, ?it/s]"
      ]
     },
     "metadata": {},
     "output_type": "display_data"
    },
    {
     "data": {
      "application/vnd.jupyter.widget-view+json": {
       "model_id": "8b8ab6cd90ca4a82a2dab21dde0c4068",
       "version_major": 2,
       "version_minor": 0
      },
      "text/plain": [
       "  0%|          | 0/15 [00:00<?, ?it/s]"
      ]
     },
     "metadata": {},
     "output_type": "display_data"
    },
    {
     "data": {
      "application/vnd.jupyter.widget-view+json": {
       "model_id": "1ae75bb6772a49fbbcb02bd49bb05be5",
       "version_major": 2,
       "version_minor": 0
      },
      "text/plain": [
       "  0%|          | 0/15 [00:00<?, ?it/s]"
      ]
     },
     "metadata": {},
     "output_type": "display_data"
    },
    {
     "data": {
      "application/vnd.jupyter.widget-view+json": {
       "model_id": "69191a09014941ec8a257d81eb239b64",
       "version_major": 2,
       "version_minor": 0
      },
      "text/plain": [
       "  0%|          | 0/15 [00:00<?, ?it/s]"
      ]
     },
     "metadata": {},
     "output_type": "display_data"
    },
    {
     "data": {
      "application/vnd.jupyter.widget-view+json": {
       "model_id": "a3ae5b2149e54b8cb036f56e280cbaea",
       "version_major": 2,
       "version_minor": 0
      },
      "text/plain": [
       "  0%|          | 0/15 [00:00<?, ?it/s]"
      ]
     },
     "metadata": {},
     "output_type": "display_data"
    },
    {
     "data": {
      "application/vnd.jupyter.widget-view+json": {
       "model_id": "84cf434e69ac4cc995f51127cb622fa6",
       "version_major": 2,
       "version_minor": 0
      },
      "text/plain": [
       "  0%|          | 0/15 [00:00<?, ?it/s]"
      ]
     },
     "metadata": {},
     "output_type": "display_data"
    },
    {
     "name": "stderr",
     "output_type": "stream",
     "text": [
      "[I 2025-03-02 20:29:10,741] Trial 7 finished with value: 0.4737904591250978 and parameters: {'factors': 19, 'alpha': 0.07657567742995797, 'regularization': 3.8915118290197195}. Best is trial 7 with value: 0.4737904591250978.\n"
     ]
    },
    {
     "data": {
      "application/vnd.jupyter.widget-view+json": {
       "model_id": "348297d13d544fe4b835f07bf6befc59",
       "version_major": 2,
       "version_minor": 0
      },
      "text/plain": [
       "  0%|          | 0/15 [00:00<?, ?it/s]"
      ]
     },
     "metadata": {},
     "output_type": "display_data"
    },
    {
     "name": "stderr",
     "output_type": "stream",
     "text": [
      "[I 2025-03-02 20:29:11,336] Trial 5 finished with value: 0.33700335047079094 and parameters: {'factors': 32, 'alpha': 0.010475203170529152, 'regularization': 0.13463835756135648}. Best is trial 7 with value: 0.4737904591250978.\n"
     ]
    },
    {
     "data": {
      "application/vnd.jupyter.widget-view+json": {
       "model_id": "97837739ecfe4585925c681c181d0566",
       "version_major": 2,
       "version_minor": 0
      },
      "text/plain": [
       "  0%|          | 0/15 [00:00<?, ?it/s]"
      ]
     },
     "metadata": {},
     "output_type": "display_data"
    },
    {
     "name": "stderr",
     "output_type": "stream",
     "text": [
      "[I 2025-03-02 20:29:11,897] Trial 2 finished with value: 0.4909528303590637 and parameters: {'factors': 11, 'alpha': 0.13000412573798462, 'regularization': 0.6859719650368562}. Best is trial 2 with value: 0.4909528303590637.\n"
     ]
    },
    {
     "data": {
      "application/vnd.jupyter.widget-view+json": {
       "model_id": "88449ac75e2746789132f3afc794e85f",
       "version_major": 2,
       "version_minor": 0
      },
      "text/plain": [
       "  0%|          | 0/15 [00:00<?, ?it/s]"
      ]
     },
     "metadata": {},
     "output_type": "display_data"
    },
    {
     "name": "stderr",
     "output_type": "stream",
     "text": [
      "[I 2025-03-02 20:29:12,725] Trial 6 finished with value: 0.48253668857284704 and parameters: {'factors': 15, 'alpha': 0.18782377901684558, 'regularization': 0.47020800509120764}. Best is trial 2 with value: 0.4909528303590637.\n"
     ]
    },
    {
     "data": {
      "application/vnd.jupyter.widget-view+json": {
       "model_id": "0ad6a3a5b2be45a0baa1f0fb4638c62f",
       "version_major": 2,
       "version_minor": 0
      },
      "text/plain": [
       "  0%|          | 0/15 [00:00<?, ?it/s]"
      ]
     },
     "metadata": {},
     "output_type": "display_data"
    },
    {
     "name": "stderr",
     "output_type": "stream",
     "text": [
      "[I 2025-03-02 20:29:14,198] Trial 1 finished with value: 0.47880041498987974 and parameters: {'factors': 32, 'alpha': 0.11966955880966205, 'regularization': 2.1564303696646174}. Best is trial 2 with value: 0.4909528303590637.\n"
     ]
    },
    {
     "data": {
      "application/vnd.jupyter.widget-view+json": {
       "model_id": "8f667eba48b84519b40a55ba11e83b78",
       "version_major": 2,
       "version_minor": 0
      },
      "text/plain": [
       "  0%|          | 0/15 [00:00<?, ?it/s]"
      ]
     },
     "metadata": {},
     "output_type": "display_data"
    },
    {
     "name": "stderr",
     "output_type": "stream",
     "text": [
      "[I 2025-03-02 20:29:15,057] Trial 0 finished with value: 0.46352998963938574 and parameters: {'factors': 49, 'alpha': 0.1411628909831962, 'regularization': 3.5102537585998497}. Best is trial 2 with value: 0.4909528303590637.\n"
     ]
    },
    {
     "data": {
      "application/vnd.jupyter.widget-view+json": {
       "model_id": "c72bfc696f644799b98194e01e51d2fe",
       "version_major": 2,
       "version_minor": 0
      },
      "text/plain": [
       "  0%|          | 0/15 [00:00<?, ?it/s]"
      ]
     },
     "metadata": {},
     "output_type": "display_data"
    },
    {
     "name": "stderr",
     "output_type": "stream",
     "text": [
      "[I 2025-03-02 20:29:16,186] Trial 3 finished with value: 0.5050196463817145 and parameters: {'factors': 50, 'alpha': 0.2220760528302723, 'regularization': 4.142301586888138}. Best is trial 3 with value: 0.5050196463817145.\n"
     ]
    },
    {
     "data": {
      "application/vnd.jupyter.widget-view+json": {
       "model_id": "b1e537cc59434fb9b3c76051ef556a83",
       "version_major": 2,
       "version_minor": 0
      },
      "text/plain": [
       "  0%|          | 0/15 [00:00<?, ?it/s]"
      ]
     },
     "metadata": {},
     "output_type": "display_data"
    },
    {
     "name": "stderr",
     "output_type": "stream",
     "text": [
      "[I 2025-03-02 20:29:17,699] Trial 4 finished with value: 0.4684759100580038 and parameters: {'factors': 39, 'alpha': 0.2637269090635188, 'regularization': 0.5951224439695202}. Best is trial 3 with value: 0.5050196463817145.\n"
     ]
    },
    {
     "data": {
      "application/vnd.jupyter.widget-view+json": {
       "model_id": "6e6576defdae4270b885bc53db495113",
       "version_major": 2,
       "version_minor": 0
      },
      "text/plain": [
       "  0%|          | 0/15 [00:00<?, ?it/s]"
      ]
     },
     "metadata": {},
     "output_type": "display_data"
    },
    {
     "name": "stderr",
     "output_type": "stream",
     "text": [
      "[I 2025-03-02 20:29:32,762] Trial 8 finished with value: 0.4737904591250978 and parameters: {'factors': 11, 'alpha': 0.0222432100153989, 'regularization': 0.24369553564797883}. Best is trial 3 with value: 0.5050196463817145.\n"
     ]
    },
    {
     "data": {
      "application/vnd.jupyter.widget-view+json": {
       "model_id": "73ec9c5d6f29489b8ff240a840410b3e",
       "version_major": 2,
       "version_minor": 0
      },
      "text/plain": [
       "  0%|          | 0/15 [00:00<?, ?it/s]"
      ]
     },
     "metadata": {},
     "output_type": "display_data"
    },
    {
     "name": "stderr",
     "output_type": "stream",
     "text": [
      "[I 2025-03-02 20:29:34,187] Trial 11 finished with value: 0.360107841168468 and parameters: {'factors': 24, 'alpha': 0.04260603748093159, 'regularization': 4.560303117453342}. Best is trial 3 with value: 0.5050196463817145.\n"
     ]
    },
    {
     "data": {
      "application/vnd.jupyter.widget-view+json": {
       "model_id": "7a59ed6d9de54e1e8e115017f791f2e8",
       "version_major": 2,
       "version_minor": 0
      },
      "text/plain": [
       "  0%|          | 0/15 [00:00<?, ?it/s]"
      ]
     },
     "metadata": {},
     "output_type": "display_data"
    },
    {
     "name": "stderr",
     "output_type": "stream",
     "text": [
      "[I 2025-03-02 20:29:34,734] Trial 9 finished with value: 0.48842080255895526 and parameters: {'factors': 39, 'alpha': 0.9197472532229702, 'regularization': 0.1974279453628317}. Best is trial 3 with value: 0.5050196463817145.\n"
     ]
    },
    {
     "data": {
      "application/vnd.jupyter.widget-view+json": {
       "model_id": "17475fe5a49c4b0899e6160516504cc5",
       "version_major": 2,
       "version_minor": 0
      },
      "text/plain": [
       "  0%|          | 0/15 [00:00<?, ?it/s]"
      ]
     },
     "metadata": {},
     "output_type": "display_data"
    },
    {
     "name": "stderr",
     "output_type": "stream",
     "text": [
      "[I 2025-03-02 20:29:36,377] Trial 14 finished with value: 0.2424984813168287 and parameters: {'factors': 44, 'alpha': 0.014269314891983157, 'regularization': 0.46395435197463186}. Best is trial 3 with value: 0.5050196463817145.\n"
     ]
    },
    {
     "data": {
      "application/vnd.jupyter.widget-view+json": {
       "model_id": "a514cd183391488ba57a258c3a93aece",
       "version_major": 2,
       "version_minor": 0
      },
      "text/plain": [
       "  0%|          | 0/15 [00:00<?, ?it/s]"
      ]
     },
     "metadata": {},
     "output_type": "display_data"
    },
    {
     "name": "stderr",
     "output_type": "stream",
     "text": [
      "[I 2025-03-02 20:29:37,393] Trial 10 finished with value: 0.48519913893002775 and parameters: {'factors': 39, 'alpha': 0.35151494574834075, 'regularization': 2.2974666856421}. Best is trial 3 with value: 0.5050196463817145.\n"
     ]
    },
    {
     "data": {
      "application/vnd.jupyter.widget-view+json": {
       "model_id": "2dedb02af2cd472db38444da42cd9ed4",
       "version_major": 2,
       "version_minor": 0
      },
      "text/plain": [
       "  0%|          | 0/15 [00:00<?, ?it/s]"
      ]
     },
     "metadata": {},
     "output_type": "display_data"
    },
    {
     "name": "stderr",
     "output_type": "stream",
     "text": [
      "[I 2025-03-02 20:29:37,982] Trial 12 finished with value: 0.5017784345018956 and parameters: {'factors': 34, 'alpha': 0.32608449906723863, 'regularization': 4.454113173281795}. Best is trial 3 with value: 0.5050196463817145.\n"
     ]
    },
    {
     "data": {
      "application/vnd.jupyter.widget-view+json": {
       "model_id": "2d5a7e981bc44cb592d437f60b538d44",
       "version_major": 2,
       "version_minor": 0
      },
      "text/plain": [
       "  0%|          | 0/15 [00:00<?, ?it/s]"
      ]
     },
     "metadata": {},
     "output_type": "display_data"
    },
    {
     "name": "stderr",
     "output_type": "stream",
     "text": [
      "[I 2025-03-02 20:29:39,499] Trial 13 finished with value: 0.4697392573417388 and parameters: {'factors': 41, 'alpha': 0.03768439629962407, 'regularization': 0.5066713509237983}. Best is trial 3 with value: 0.5050196463817145.\n"
     ]
    },
    {
     "data": {
      "application/vnd.jupyter.widget-view+json": {
       "model_id": "a75630ad3f5d4e9999de0f50d5750b68",
       "version_major": 2,
       "version_minor": 0
      },
      "text/plain": [
       "  0%|          | 0/15 [00:00<?, ?it/s]"
      ]
     },
     "metadata": {},
     "output_type": "display_data"
    },
    {
     "name": "stderr",
     "output_type": "stream",
     "text": [
      "[I 2025-03-02 20:29:44,680] Trial 15 finished with value: 0.46594511931114857 and parameters: {'factors': 44, 'alpha': 0.04994553130288074, 'regularization': 0.1098409409278254}. Best is trial 3 with value: 0.5050196463817145.\n"
     ]
    },
    {
     "data": {
      "application/vnd.jupyter.widget-view+json": {
       "model_id": "4d423ab3a2294b01a9b0b5f1f710a204",
       "version_major": 2,
       "version_minor": 0
      },
      "text/plain": [
       "  0%|          | 0/15 [00:00<?, ?it/s]"
      ]
     },
     "metadata": {},
     "output_type": "display_data"
    },
    {
     "name": "stderr",
     "output_type": "stream",
     "text": [
      "[I 2025-03-02 20:29:58,165] Trial 16 finished with value: 0.49386113364032636 and parameters: {'factors': 17, 'alpha': 0.4759276692499573, 'regularization': 0.16622449748375712}. Best is trial 3 with value: 0.5050196463817145.\n"
     ]
    },
    {
     "data": {
      "application/vnd.jupyter.widget-view+json": {
       "model_id": "5d9773a5c2a046d593ae4f67cc2e0bcf",
       "version_major": 2,
       "version_minor": 0
      },
      "text/plain": [
       "  0%|          | 0/15 [00:00<?, ?it/s]"
      ]
     },
     "metadata": {},
     "output_type": "display_data"
    },
    {
     "name": "stderr",
     "output_type": "stream",
     "text": [
      "[I 2025-03-02 20:29:59,010] Trial 19 finished with value: 0.49146113512742595 and parameters: {'factors': 25, 'alpha': 0.4531317559030471, 'regularization': 1.3566782690588985}. Best is trial 3 with value: 0.5050196463817145.\n"
     ]
    },
    {
     "data": {
      "application/vnd.jupyter.widget-view+json": {
       "model_id": "a32291d24af44100a650bbffe94edf40",
       "version_major": 2,
       "version_minor": 0
      },
      "text/plain": [
       "  0%|          | 0/15 [00:00<?, ?it/s]"
      ]
     },
     "metadata": {},
     "output_type": "display_data"
    },
    {
     "name": "stderr",
     "output_type": "stream",
     "text": [
      "[I 2025-03-02 20:30:00,888] Trial 20 finished with value: 0.490941971541793 and parameters: {'factors': 26, 'alpha': 0.5897392135638218, 'regularization': 1.1412770922931998}. Best is trial 3 with value: 0.5050196463817145.\n"
     ]
    },
    {
     "data": {
      "application/vnd.jupyter.widget-view+json": {
       "model_id": "6a4b07af5a9245e493443b1928c1aadc",
       "version_major": 2,
       "version_minor": 0
      },
      "text/plain": [
       "  0%|          | 0/15 [00:00<?, ?it/s]"
      ]
     },
     "metadata": {},
     "output_type": "display_data"
    },
    {
     "name": "stderr",
     "output_type": "stream",
     "text": [
      "[I 2025-03-02 20:30:01,294] Trial 18 finished with value: 0.47891768710163196 and parameters: {'factors': 49, 'alpha': 0.40290020163991047, 'regularization': 1.0838078893841858}. Best is trial 3 with value: 0.5050196463817145.\n"
     ]
    },
    {
     "data": {
      "application/vnd.jupyter.widget-view+json": {
       "model_id": "dce7585456984ec2823eaa7edfdc6f2f",
       "version_major": 2,
       "version_minor": 0
      },
      "text/plain": [
       "  0%|          | 0/15 [00:00<?, ?it/s]"
      ]
     },
     "metadata": {},
     "output_type": "display_data"
    },
    {
     "name": "stderr",
     "output_type": "stream",
     "text": [
      "[I 2025-03-02 20:30:01,847] Trial 21 finished with value: 0.491781477357741 and parameters: {'factors': 26, 'alpha': 0.502089261877867, 'regularization': 1.8216390264114055}. Best is trial 3 with value: 0.5050196463817145.\n"
     ]
    },
    {
     "data": {
      "application/vnd.jupyter.widget-view+json": {
       "model_id": "c25625e5a7e84f6b976d476c1a231efe",
       "version_major": 2,
       "version_minor": 0
      },
      "text/plain": [
       "  0%|          | 0/15 [00:00<?, ?it/s]"
      ]
     },
     "metadata": {},
     "output_type": "display_data"
    },
    {
     "name": "stderr",
     "output_type": "stream",
     "text": [
      "[I 2025-03-02 20:30:05,217] Trial 17 finished with value: 0.4817019261592786 and parameters: {'factors': 50, 'alpha': 0.5239175749432045, 'regularization': 1.485766362388817}. Best is trial 3 with value: 0.5050196463817145.\n"
     ]
    },
    {
     "data": {
      "application/vnd.jupyter.widget-view+json": {
       "model_id": "3e63d303f2f7460f9f60a759a1e5eaa7",
       "version_major": 2,
       "version_minor": 0
      },
      "text/plain": [
       "  0%|          | 0/15 [00:00<?, ?it/s]"
      ]
     },
     "metadata": {},
     "output_type": "display_data"
    },
    {
     "name": "stderr",
     "output_type": "stream",
     "text": [
      "[I 2025-03-02 20:30:08,216] Trial 22 finished with value: 0.48227667106480465 and parameters: {'factors': 50, 'alpha': 0.5692360485029873, 'regularization': 1.3567063056842552}. Best is trial 3 with value: 0.5050196463817145.\n",
      "[I 2025-03-02 20:30:13,302] Trial 23 finished with value: 0.48398819822203076 and parameters: {'factors': 50, 'alpha': 0.5545665469306389, 'regularization': 1.4134444773568935}. Best is trial 3 with value: 0.5050196463817145.\n",
      "[I 2025-03-02 20:30:20,253] Trial 28 finished with value: 0.47902187000566465 and parameters: {'factors': 19, 'alpha': 0.2232941243355407, 'regularization': 0.29544586995772226}. Best is trial 3 with value: 0.5050196463817145.\n",
      "[I 2025-03-02 20:30:20,484] Trial 27 finished with value: 0.5002681909347797 and parameters: {'factors': 36, 'alpha': 0.22094640064406512, 'regularization': 2.511372403921846}. Best is trial 3 with value: 0.5050196463817145.\n",
      "[I 2025-03-02 20:30:21,227] Trial 24 finished with value: 0.48308238386652647 and parameters: {'factors': 50, 'alpha': 0.6895769774589298, 'regularization': 1.3412086377619576}. Best is trial 3 with value: 0.5050196463817145.\n",
      "[I 2025-03-02 20:30:21,660] Trial 25 finished with value: 0.48534510431143507 and parameters: {'factors': 49, 'alpha': 0.815073932605189, 'regularization': 1.239003823073799}. Best is trial 3 with value: 0.5050196463817145.\n",
      "[I 2025-03-02 20:30:22,060] Trial 26 finished with value: 0.4946447876266374 and parameters: {'factors': 50, 'alpha': 0.23528431144695863, 'regularization': 2.33195945369015}. Best is trial 3 with value: 0.5050196463817145.\n",
      "[I 2025-03-02 20:30:22,155] Trial 29 finished with value: 0.5027715682999048 and parameters: {'factors': 35, 'alpha': 0.20981941993237307, 'regularization': 2.7476862919138103}. Best is trial 3 with value: 0.5050196463817145.\n"
     ]
    },
    {
     "name": "stdout",
     "output_type": "stream",
     "text": [
      "Лучшее значение: 0.5050196463817145\n",
      "Лучшие параметры: {'factors': 50, 'alpha': 0.2220760528302723, 'regularization': 4.142301586888138}\n"
     ]
    },
    {
     "data": {
      "application/vnd.jupyter.widget-view+json": {
       "model_id": "e8741da180c54c73aa356edf6df75fb3",
       "version_major": 2,
       "version_minor": 0
      },
      "text/plain": [
       "  0%|          | 0/15 [00:00<?, ?it/s]"
      ]
     },
     "metadata": {},
     "output_type": "display_data"
    }
   ],
   "source": [
    "study = optuna.create_study(direction=\"maximize\")\n",
    "study.optimize(lambda trial: objective_als(trial, interactions_bin_1, test_result), n_trials=30, n_jobs=-1)\n",
    "\n",
    "print(f\"Лучшее значение: {study.best_trial.value}\")\n",
    "print(f\"Лучшие параметры: {study.best_params}\")\n",
    "\n",
    "recs = make_als_recommendations(interactions_bin_1, **study.best_params)\n",
    "result(\"als_1\", recs, test_result)"
   ]
  },
  {
   "cell_type": "markdown",
   "id": "d00a68c8",
   "metadata": {},
   "source": [
    "2. Заменим на 1 только рейтинги 4 и 5, а рейтинг ниже 4 заменим на 0"
   ]
  },
  {
   "cell_type": "code",
   "execution_count": 139,
   "id": "f58cb0b0",
   "metadata": {},
   "outputs": [],
   "source": [
    "interactions_bin_2 = coo_interactions.copy()\n",
    "interactions_bin_2.data = np.where(interactions_bin_2.data >= 4, 1, 0)"
   ]
  },
  {
   "cell_type": "code",
   "execution_count": 138,
   "id": "ecf0390b",
   "metadata": {},
   "outputs": [
    {
     "name": "stderr",
     "output_type": "stream",
     "text": [
      "[I 2025-03-02 20:31:01,345] A new study created in memory with name: no-name-97849565-0b80-48b2-b280-b746e63ab913\n",
      "[I 2025-03-02 20:31:03,072] Trial 1 finished with value: 0.4676863580156485 and parameters: {'n_singular_values': 15}. Best is trial 1 with value: 0.4676863580156485.\n",
      "[I 2025-03-02 20:31:03,608] Trial 0 finished with value: 0.469740233367778 and parameters: {'n_singular_values': 14}. Best is trial 0 with value: 0.469740233367778.\n",
      "[I 2025-03-02 20:31:04,569] Trial 4 finished with value: 0.4618073121505618 and parameters: {'n_singular_values': 38}. Best is trial 0 with value: 0.469740233367778.\n",
      "[I 2025-03-02 20:31:04,813] Trial 7 finished with value: 0.4670442153546602 and parameters: {'n_singular_values': 19}. Best is trial 0 with value: 0.469740233367778.\n",
      "[I 2025-03-02 20:31:05,171] Trial 2 finished with value: 0.4708166532242989 and parameters: {'n_singular_values': 13}. Best is trial 2 with value: 0.4708166532242989.\n",
      "[I 2025-03-02 20:31:06,715] Trial 5 finished with value: 0.45930064726293773 and parameters: {'n_singular_values': 47}. Best is trial 2 with value: 0.4708166532242989.\n",
      "[I 2025-03-02 20:31:07,294] Trial 6 finished with value: 0.4672085559119651 and parameters: {'n_singular_values': 22}. Best is trial 2 with value: 0.4708166532242989.\n",
      "[I 2025-03-02 20:31:07,574] Trial 3 finished with value: 0.4669367003755079 and parameters: {'n_singular_values': 24}. Best is trial 2 with value: 0.4708166532242989.\n",
      "[I 2025-03-02 20:31:08,300] Trial 8 finished with value: 0.46733430776621393 and parameters: {'n_singular_values': 23}. Best is trial 2 with value: 0.4708166532242989.\n",
      "[I 2025-03-02 20:31:08,991] Trial 9 finished with value: 0.4648785089102744 and parameters: {'n_singular_values': 32}. Best is trial 2 with value: 0.4708166532242989.\n",
      "[I 2025-03-02 20:31:09,086] Trial 10 finished with value: 0.4741938106471875 and parameters: {'n_singular_values': 4}. Best is trial 10 with value: 0.4741938106471875.\n",
      "[I 2025-03-02 20:31:10,473] Trial 11 finished with value: 0.45840907958017196 and parameters: {'n_singular_values': 45}. Best is trial 10 with value: 0.4741938106471875.\n",
      "[I 2025-03-02 20:31:10,635] Trial 12 finished with value: 0.48035918798738036 and parameters: {'n_singular_values': 7}. Best is trial 12 with value: 0.48035918798738036.\n",
      "[I 2025-03-02 20:31:11,021] Trial 13 finished with value: 0.46987279412489263 and parameters: {'n_singular_values': 3}. Best is trial 12 with value: 0.48035918798738036.\n",
      "[I 2025-03-02 20:31:11,455] Trial 14 finished with value: 0.4784103605424083 and parameters: {'n_singular_values': 10}. Best is trial 12 with value: 0.48035918798738036.\n",
      "[I 2025-03-02 20:31:12,236] Trial 15 finished with value: 0.4663175135019319 and parameters: {'n_singular_values': 17}. Best is trial 12 with value: 0.48035918798738036.\n",
      "[I 2025-03-02 20:31:12,791] Trial 16 finished with value: 0.4676863580156485 and parameters: {'n_singular_values': 15}. Best is trial 12 with value: 0.48035918798738036.\n",
      "[I 2025-03-02 20:31:13,341] Trial 17 finished with value: 0.4741938106471875 and parameters: {'n_singular_values': 4}. Best is trial 12 with value: 0.48035918798738036.\n",
      "[I 2025-03-02 20:31:13,517] Trial 19 finished with value: 0.46226174652315866 and parameters: {'n_singular_values': 2}. Best is trial 12 with value: 0.48035918798738036.\n",
      "[I 2025-03-02 20:31:13,527] Trial 18 finished with value: 0.46226174652315866 and parameters: {'n_singular_values': 2}. Best is trial 12 with value: 0.48035918798738036.\n",
      "[I 2025-03-02 20:31:13,574] Trial 20 finished with value: 0.452792420501583 and parameters: {'n_singular_values': 1}. Best is trial 12 with value: 0.48035918798738036.\n",
      "[I 2025-03-02 20:31:13,613] Trial 21 finished with value: 0.46226174652315866 and parameters: {'n_singular_values': 2}. Best is trial 12 with value: 0.48035918798738036.\n",
      "[I 2025-03-02 20:31:13,869] Trial 22 finished with value: 0.47898237191405113 and parameters: {'n_singular_values': 8}. Best is trial 12 with value: 0.48035918798738036.\n",
      "[I 2025-03-02 20:31:14,352] Trial 23 finished with value: 0.47898237191405113 and parameters: {'n_singular_values': 8}. Best is trial 12 with value: 0.48035918798738036.\n",
      "[I 2025-03-02 20:31:15,502] Trial 24 finished with value: 0.47898237191405113 and parameters: {'n_singular_values': 8}. Best is trial 12 with value: 0.48035918798738036.\n",
      "[I 2025-03-02 20:31:15,789] Trial 25 finished with value: 0.47898237191405113 and parameters: {'n_singular_values': 8}. Best is trial 12 with value: 0.48035918798738036.\n",
      "[I 2025-03-02 20:31:16,002] Trial 27 finished with value: 0.4782061180189003 and parameters: {'n_singular_values': 9}. Best is trial 12 with value: 0.48035918798738036.\n",
      "[I 2025-03-02 20:31:16,203] Trial 26 finished with value: 0.47898237191405113 and parameters: {'n_singular_values': 8}. Best is trial 12 with value: 0.48035918798738036.\n",
      "[I 2025-03-02 20:31:16,326] Trial 28 finished with value: 0.4784103605424083 and parameters: {'n_singular_values': 10}. Best is trial 12 with value: 0.48035918798738036.\n",
      "[I 2025-03-02 20:31:16,437] Trial 29 finished with value: 0.4782061180189003 and parameters: {'n_singular_values': 9}. Best is trial 12 with value: 0.48035918798738036.\n"
     ]
    },
    {
     "name": "stdout",
     "output_type": "stream",
     "text": [
      "Лучшее значение: 0.48035918798738036\n",
      "Лучшие параметры: {'n_singular_values': 7}\n"
     ]
    }
   ],
   "source": [
    "study = optuna.create_study(direction=\"maximize\")\n",
    "study.optimize(lambda trial: objective_svd(trial, interactions_bin_2, test_result), n_trials=30, n_jobs=-1)\n",
    "\n",
    "print(f\"Лучшее значение: {study.best_trial.value}\")\n",
    "print(f\"Лучшие параметры: {study.best_params}\")\n",
    "\n",
    "recs = make_svd_recommendations(interactions_bin_2, **study.best_params)\n",
    "result(\"svd_2\", recs, test_result)"
   ]
  },
  {
   "cell_type": "code",
   "execution_count": 140,
   "id": "e51012e7",
   "metadata": {},
   "outputs": [
    {
     "name": "stderr",
     "output_type": "stream",
     "text": [
      "[I 2025-03-02 20:31:28,845] A new study created in memory with name: no-name-49e346c3-a766-427d-8296-9d78a7d9f2b0\n"
     ]
    },
    {
     "data": {
      "application/vnd.jupyter.widget-view+json": {
       "model_id": "2fb3448f4fb94c9fb8df9b84634197cd",
       "version_major": 2,
       "version_minor": 0
      },
      "text/plain": [
       "  0%|          | 0/15 [00:00<?, ?it/s]"
      ]
     },
     "metadata": {},
     "output_type": "display_data"
    },
    {
     "data": {
      "application/vnd.jupyter.widget-view+json": {
       "model_id": "84480ea738484d9782c6b91639573716",
       "version_major": 2,
       "version_minor": 0
      },
      "text/plain": [
       "  0%|          | 0/15 [00:00<?, ?it/s]"
      ]
     },
     "metadata": {},
     "output_type": "display_data"
    },
    {
     "data": {
      "application/vnd.jupyter.widget-view+json": {
       "model_id": "61a63ff1934c45e7aa147fdbf79bfce1",
       "version_major": 2,
       "version_minor": 0
      },
      "text/plain": [
       "  0%|          | 0/15 [00:00<?, ?it/s]"
      ]
     },
     "metadata": {},
     "output_type": "display_data"
    },
    {
     "data": {
      "application/vnd.jupyter.widget-view+json": {
       "model_id": "b95c2e3062b14f0e81528046bdae8b32",
       "version_major": 2,
       "version_minor": 0
      },
      "text/plain": [
       "  0%|          | 0/15 [00:00<?, ?it/s]"
      ]
     },
     "metadata": {},
     "output_type": "display_data"
    },
    {
     "data": {
      "application/vnd.jupyter.widget-view+json": {
       "model_id": "b04aea62383a492a8699136bbc121e43",
       "version_major": 2,
       "version_minor": 0
      },
      "text/plain": [
       "  0%|          | 0/15 [00:00<?, ?it/s]"
      ]
     },
     "metadata": {},
     "output_type": "display_data"
    },
    {
     "data": {
      "application/vnd.jupyter.widget-view+json": {
       "model_id": "9080329c88f34b569308d4598c95a6bf",
       "version_major": 2,
       "version_minor": 0
      },
      "text/plain": [
       "  0%|          | 0/15 [00:00<?, ?it/s]"
      ]
     },
     "metadata": {},
     "output_type": "display_data"
    },
    {
     "data": {
      "application/vnd.jupyter.widget-view+json": {
       "model_id": "fe6177a620284f3881714871b372302d",
       "version_major": 2,
       "version_minor": 0
      },
      "text/plain": [
       "  0%|          | 0/15 [00:00<?, ?it/s]"
      ]
     },
     "metadata": {},
     "output_type": "display_data"
    },
    {
     "data": {
      "application/vnd.jupyter.widget-view+json": {
       "model_id": "58a38402df5e424096f0f9cec41cebfd",
       "version_major": 2,
       "version_minor": 0
      },
      "text/plain": [
       "  0%|          | 0/15 [00:00<?, ?it/s]"
      ]
     },
     "metadata": {},
     "output_type": "display_data"
    },
    {
     "name": "stderr",
     "output_type": "stream",
     "text": [
      "[I 2025-03-02 20:31:46,409] Trial 5 finished with value: 0.22451325880895445 and parameters: {'factors': 20, 'alpha': 0.013227726258978657, 'regularization': 0.22458663383206962}. Best is trial 5 with value: 0.22451325880895445.\n"
     ]
    },
    {
     "data": {
      "application/vnd.jupyter.widget-view+json": {
       "model_id": "35276f5aeba347e192b7fafb7d7b6df3",
       "version_major": 2,
       "version_minor": 0
      },
      "text/plain": [
       "  0%|          | 0/15 [00:00<?, ?it/s]"
      ]
     },
     "metadata": {},
     "output_type": "display_data"
    },
    {
     "name": "stderr",
     "output_type": "stream",
     "text": [
      "[I 2025-03-02 20:31:48,631] Trial 7 finished with value: 0.46400657369403703 and parameters: {'factors': 40, 'alpha': 0.11487281647924318, 'regularization': 0.1930810183666696}. Best is trial 7 with value: 0.46400657369403703.\n"
     ]
    },
    {
     "data": {
      "application/vnd.jupyter.widget-view+json": {
       "model_id": "7f5b62954a3642f4935042907d2bfc0b",
       "version_major": 2,
       "version_minor": 0
      },
      "text/plain": [
       "  0%|          | 0/15 [00:00<?, ?it/s]"
      ]
     },
     "metadata": {},
     "output_type": "display_data"
    },
    {
     "name": "stderr",
     "output_type": "stream",
     "text": [
      "[I 2025-03-02 20:31:48,939] Trial 0 finished with value: 0.4952152242919504 and parameters: {'factors': 47, 'alpha': 0.21452188272648942, 'regularization': 1.4529368963419853}. Best is trial 0 with value: 0.4952152242919504.\n",
      "[I 2025-03-02 20:31:49,037] Trial 3 finished with value: 0.4742590887505545 and parameters: {'factors': 26, 'alpha': 0.11601115814360541, 'regularization': 1.7152694698137978}. Best is trial 0 with value: 0.4952152242919504.\n"
     ]
    },
    {
     "data": {
      "application/vnd.jupyter.widget-view+json": {
       "model_id": "330f2501df3d48a2849c8ce619df6c48",
       "version_major": 2,
       "version_minor": 0
      },
      "text/plain": [
       "  0%|          | 0/15 [00:00<?, ?it/s]"
      ]
     },
     "metadata": {},
     "output_type": "display_data"
    },
    {
     "data": {
      "application/vnd.jupyter.widget-view+json": {
       "model_id": "e8a420027f614e02bf4d60abce742d24",
       "version_major": 2,
       "version_minor": 0
      },
      "text/plain": [
       "  0%|          | 0/15 [00:00<?, ?it/s]"
      ]
     },
     "metadata": {},
     "output_type": "display_data"
    },
    {
     "name": "stderr",
     "output_type": "stream",
     "text": [
      "[I 2025-03-02 20:31:49,240] Trial 4 finished with value: 0.09278501609524939 and parameters: {'factors': 45, 'alpha': 0.02558822083733143, 'regularization': 3.208032875575577}. Best is trial 0 with value: 0.4952152242919504.\n"
     ]
    },
    {
     "data": {
      "application/vnd.jupyter.widget-view+json": {
       "model_id": "a063d690461b4912869a3981b290024c",
       "version_major": 2,
       "version_minor": 0
      },
      "text/plain": [
       "  0%|          | 0/15 [00:00<?, ?it/s]"
      ]
     },
     "metadata": {},
     "output_type": "display_data"
    },
    {
     "name": "stderr",
     "output_type": "stream",
     "text": [
      "[I 2025-03-02 20:31:50,504] Trial 1 finished with value: 0.3299295042254705 and parameters: {'factors': 42, 'alpha': 0.012655154639835945, 'regularization': 0.4096152339873136}. Best is trial 0 with value: 0.4952152242919504.\n"
     ]
    },
    {
     "data": {
      "application/vnd.jupyter.widget-view+json": {
       "model_id": "aa07b045c3aa4aa09d717a397a6c391a",
       "version_major": 2,
       "version_minor": 0
      },
      "text/plain": [
       "  0%|          | 0/15 [00:00<?, ?it/s]"
      ]
     },
     "metadata": {},
     "output_type": "display_data"
    },
    {
     "name": "stderr",
     "output_type": "stream",
     "text": [
      "[I 2025-03-02 20:31:50,903] Trial 2 finished with value: 0.4886634553889254 and parameters: {'factors': 19, 'alpha': 0.1706822606531571, 'regularization': 0.5721355324902395}. Best is trial 0 with value: 0.4952152242919504.\n",
      "[I 2025-03-02 20:31:51,071] Trial 6 finished with value: 0.0968384052146637 and parameters: {'factors': 49, 'alpha': 0.01089391734668456, 'regularization': 1.7705895399739195}. Best is trial 0 with value: 0.4952152242919504.\n"
     ]
    },
    {
     "data": {
      "application/vnd.jupyter.widget-view+json": {
       "model_id": "4b73517dea2343e58ae3247495b3a591",
       "version_major": 2,
       "version_minor": 0
      },
      "text/plain": [
       "  0%|          | 0/15 [00:00<?, ?it/s]"
      ]
     },
     "metadata": {},
     "output_type": "display_data"
    },
    {
     "data": {
      "application/vnd.jupyter.widget-view+json": {
       "model_id": "f2468ed53d5540579663a435cab3cdbe",
       "version_major": 2,
       "version_minor": 0
      },
      "text/plain": [
       "  0%|          | 0/15 [00:00<?, ?it/s]"
      ]
     },
     "metadata": {},
     "output_type": "display_data"
    },
    {
     "name": "stderr",
     "output_type": "stream",
     "text": [
      "[I 2025-03-02 20:32:05,797] Trial 10 finished with value: 0.45746524590731696 and parameters: {'factors': 20, 'alpha': 0.03202218855287066, 'regularization': 1.1856332942446524}. Best is trial 0 with value: 0.4952152242919504.\n"
     ]
    },
    {
     "data": {
      "application/vnd.jupyter.widget-view+json": {
       "model_id": "0851b57d4a2c4933b27d95f4324ce915",
       "version_major": 2,
       "version_minor": 0
      },
      "text/plain": [
       "  0%|          | 0/15 [00:00<?, ?it/s]"
      ]
     },
     "metadata": {},
     "output_type": "display_data"
    },
    {
     "name": "stderr",
     "output_type": "stream",
     "text": [
      "[I 2025-03-02 20:32:06,799] Trial 8 finished with value: 0.46766832274611264 and parameters: {'factors': 32, 'alpha': 0.19477450458052367, 'regularization': 0.15356554575125778}. Best is trial 0 with value: 0.4952152242919504.\n"
     ]
    },
    {
     "data": {
      "application/vnd.jupyter.widget-view+json": {
       "model_id": "4e8a164cd7454b19a6decbd580136378",
       "version_major": 2,
       "version_minor": 0
      },
      "text/plain": [
       "  0%|          | 0/15 [00:00<?, ?it/s]"
      ]
     },
     "metadata": {},
     "output_type": "display_data"
    },
    {
     "name": "stderr",
     "output_type": "stream",
     "text": [
      "[I 2025-03-02 20:32:07,432] Trial 9 finished with value: 0.41991887724205157 and parameters: {'factors': 34, 'alpha': 0.015659213962020368, 'regularization': 2.202149300684103}. Best is trial 0 with value: 0.4952152242919504.\n",
      "[I 2025-03-02 20:32:07,482] Trial 13 finished with value: 0.2196883237325975 and parameters: {'factors': 18, 'alpha': 0.014860780976630256, 'regularization': 1.1716066569350325}. Best is trial 0 with value: 0.4952152242919504.\n"
     ]
    },
    {
     "data": {
      "application/vnd.jupyter.widget-view+json": {
       "model_id": "b00d9e1be98446f482a87ef1800f3b7c",
       "version_major": 2,
       "version_minor": 0
      },
      "text/plain": [
       "  0%|          | 0/15 [00:00<?, ?it/s]"
      ]
     },
     "metadata": {},
     "output_type": "display_data"
    },
    {
     "data": {
      "application/vnd.jupyter.widget-view+json": {
       "model_id": "3d1422d22e8e4482a20d416f8ed089ec",
       "version_major": 2,
       "version_minor": 0
      },
      "text/plain": [
       "  0%|          | 0/15 [00:00<?, ?it/s]"
      ]
     },
     "metadata": {},
     "output_type": "display_data"
    },
    {
     "name": "stderr",
     "output_type": "stream",
     "text": [
      "[I 2025-03-02 20:32:08,658] Trial 15 finished with value: 0.2884370676324754 and parameters: {'factors': 26, 'alpha': 0.032714627274884674, 'regularization': 1.4111419843017328}. Best is trial 0 with value: 0.4952152242919504.\n"
     ]
    },
    {
     "data": {
      "application/vnd.jupyter.widget-view+json": {
       "model_id": "67417a2e4d8b463d8215fdb29a37d8e0",
       "version_major": 2,
       "version_minor": 0
      },
      "text/plain": [
       "  0%|          | 0/15 [00:00<?, ?it/s]"
      ]
     },
     "metadata": {},
     "output_type": "display_data"
    },
    {
     "name": "stderr",
     "output_type": "stream",
     "text": [
      "[I 2025-03-02 20:32:10,350] Trial 11 finished with value: 0.49352052689107645 and parameters: {'factors': 24, 'alpha': 0.38150579242447824, 'regularization': 0.599103776742269}. Best is trial 0 with value: 0.4952152242919504.\n"
     ]
    },
    {
     "data": {
      "application/vnd.jupyter.widget-view+json": {
       "model_id": "7305d5ddc9024686a002885ad5ab225c",
       "version_major": 2,
       "version_minor": 0
      },
      "text/plain": [
       "  0%|          | 0/15 [00:00<?, ?it/s]"
      ]
     },
     "metadata": {},
     "output_type": "display_data"
    },
    {
     "name": "stderr",
     "output_type": "stream",
     "text": [
      "[I 2025-03-02 20:32:11,184] Trial 12 finished with value: 0.4872023475921372 and parameters: {'factors': 27, 'alpha': 0.3274817710843446, 'regularization': 0.27485902870851714}. Best is trial 0 with value: 0.4952152242919504.\n"
     ]
    },
    {
     "data": {
      "application/vnd.jupyter.widget-view+json": {
       "model_id": "2727280cb0644f62a80414c7b255a2c3",
       "version_major": 2,
       "version_minor": 0
      },
      "text/plain": [
       "  0%|          | 0/15 [00:00<?, ?it/s]"
      ]
     },
     "metadata": {},
     "output_type": "display_data"
    },
    {
     "name": "stderr",
     "output_type": "stream",
     "text": [
      "[I 2025-03-02 20:32:15,443] Trial 14 finished with value: 0.49259571156089094 and parameters: {'factors': 43, 'alpha': 0.0836498423329935, 'regularization': 0.7787560774624479}. Best is trial 0 with value: 0.4952152242919504.\n"
     ]
    },
    {
     "data": {
      "application/vnd.jupyter.widget-view+json": {
       "model_id": "7d002528b7204fe2897f2e3d5e29774b",
       "version_major": 2,
       "version_minor": 0
      },
      "text/plain": [
       "  0%|          | 0/15 [00:00<?, ?it/s]"
      ]
     },
     "metadata": {},
     "output_type": "display_data"
    },
    {
     "name": "stderr",
     "output_type": "stream",
     "text": [
      "[I 2025-03-02 20:32:25,427] Trial 16 finished with value: 0.42319903271699644 and parameters: {'factors': 38, 'alpha': 0.01985528716738182, 'regularization': 0.7409512840060951}. Best is trial 0 with value: 0.4952152242919504.\n"
     ]
    },
    {
     "data": {
      "application/vnd.jupyter.widget-view+json": {
       "model_id": "671dd8245df1420cba4addd54784c242",
       "version_major": 2,
       "version_minor": 0
      },
      "text/plain": [
       "  0%|          | 0/15 [00:00<?, ?it/s]"
      ]
     },
     "metadata": {},
     "output_type": "display_data"
    },
    {
     "name": "stderr",
     "output_type": "stream",
     "text": [
      "[I 2025-03-02 20:32:27,075] Trial 19 finished with value: 0.516207034679579 and parameters: {'factors': 11, 'alpha': 0.5652913213933863, 'regularization': 0.5396927857732015}. Best is trial 19 with value: 0.516207034679579.\n",
      "[I 2025-03-02 20:32:27,177] Trial 21 finished with value: 0.5115531179833742 and parameters: {'factors': 10, 'alpha': 0.608954544840541, 'regularization': 0.6705598869491288}. Best is trial 19 with value: 0.516207034679579.\n"
     ]
    },
    {
     "data": {
      "application/vnd.jupyter.widget-view+json": {
       "model_id": "9fb2bec754334e09991d3752a1d7337d",
       "version_major": 2,
       "version_minor": 0
      },
      "text/plain": [
       "  0%|          | 0/15 [00:00<?, ?it/s]"
      ]
     },
     "metadata": {},
     "output_type": "display_data"
    },
    {
     "data": {
      "application/vnd.jupyter.widget-view+json": {
       "model_id": "233482a9b1d648e39364807d9443a19c",
       "version_major": 2,
       "version_minor": 0
      },
      "text/plain": [
       "  0%|          | 0/15 [00:00<?, ?it/s]"
      ]
     },
     "metadata": {},
     "output_type": "display_data"
    },
    {
     "name": "stderr",
     "output_type": "stream",
     "text": [
      "[I 2025-03-02 20:32:27,438] Trial 18 finished with value: 0.5037799938150359 and parameters: {'factors': 12, 'alpha': 0.3725960950709741, 'regularization': 0.6679018973173174}. Best is trial 19 with value: 0.516207034679579.\n",
      "[I 2025-03-02 20:32:27,708] Trial 17 finished with value: 0.5139069180988892 and parameters: {'factors': 11, 'alpha': 0.7953931558597648, 'regularization': 3.627405062621853}. Best is trial 19 with value: 0.516207034679579.\n"
     ]
    },
    {
     "data": {
      "application/vnd.jupyter.widget-view+json": {
       "model_id": "4bc415049e7a43b1a8294fd17c9dd1e2",
       "version_major": 2,
       "version_minor": 0
      },
      "text/plain": [
       "  0%|          | 0/15 [00:00<?, ?it/s]"
      ]
     },
     "metadata": {},
     "output_type": "display_data"
    },
    {
     "data": {
      "application/vnd.jupyter.widget-view+json": {
       "model_id": "7c3353a0ae464c9d9f5139da7a0b71af",
       "version_major": 2,
       "version_minor": 0
      },
      "text/plain": [
       "  0%|          | 0/15 [00:00<?, ?it/s]"
      ]
     },
     "metadata": {},
     "output_type": "display_data"
    },
    {
     "name": "stderr",
     "output_type": "stream",
     "text": [
      "[I 2025-03-02 20:32:28,678] Trial 22 finished with value: 0.5147313081584713 and parameters: {'factors': 10, 'alpha': 0.8663086159380986, 'regularization': 0.6763762120476133}. Best is trial 19 with value: 0.516207034679579.\n"
     ]
    },
    {
     "data": {
      "application/vnd.jupyter.widget-view+json": {
       "model_id": "aa75895ef53b46738ca4a54911e1bb12",
       "version_major": 2,
       "version_minor": 0
      },
      "text/plain": [
       "  0%|          | 0/15 [00:00<?, ?it/s]"
      ]
     },
     "metadata": {},
     "output_type": "display_data"
    },
    {
     "name": "stderr",
     "output_type": "stream",
     "text": [
      "[I 2025-03-02 20:32:30,552] Trial 20 finished with value: 0.5106645287019071 and parameters: {'factors': 11, 'alpha': 0.5283796853722496, 'regularization': 0.5498227348051358}. Best is trial 19 with value: 0.516207034679579.\n",
      "[I 2025-03-02 20:32:36,017] Trial 23 finished with value: 0.5125185966176047 and parameters: {'factors': 13, 'alpha': 0.8257749941506705, 'regularization': 4.472730399841237}. Best is trial 19 with value: 0.516207034679579.\n",
      "[I 2025-03-02 20:32:41,868] Trial 25 finished with value: 0.5144252796044148 and parameters: {'factors': 11, 'alpha': 0.9003521528850768, 'regularization': 2.9066831116071534}. Best is trial 19 with value: 0.516207034679579.\n",
      "[I 2025-03-02 20:32:42,667] Trial 28 finished with value: 0.5186460741728144 and parameters: {'factors': 10, 'alpha': 0.9612711892776958, 'regularization': 4.768527408696596}. Best is trial 28 with value: 0.5186460741728144.\n",
      "[I 2025-03-02 20:32:42,816] Trial 27 finished with value: 0.5180206307141936 and parameters: {'factors': 10, 'alpha': 0.9045284103309894, 'regularization': 0.11117261191145489}. Best is trial 28 with value: 0.5186460741728144.\n",
      "[I 2025-03-02 20:32:43,166] Trial 24 finished with value: 0.49795993951535705 and parameters: {'factors': 49, 'alpha': 0.854083609595534, 'regularization': 0.10205603344649503}. Best is trial 28 with value: 0.5186460741728144.\n",
      "[I 2025-03-02 20:32:43,274] Trial 26 finished with value: 0.5170831400642772 and parameters: {'factors': 11, 'alpha': 0.7338293144129763, 'regularization': 0.3699436707560427}. Best is trial 28 with value: 0.5186460741728144.\n",
      "[I 2025-03-02 20:32:43,601] Trial 29 finished with value: 0.5122919137181087 and parameters: {'factors': 14, 'alpha': 0.9755015511517746, 'regularization': 0.37561211958164387}. Best is trial 28 with value: 0.5186460741728144.\n"
     ]
    },
    {
     "name": "stdout",
     "output_type": "stream",
     "text": [
      "Лучшее значение: 0.5186460741728144\n",
      "Лучшие параметры: {'factors': 10, 'alpha': 0.9612711892776958, 'regularization': 4.768527408696596}\n"
     ]
    },
    {
     "data": {
      "application/vnd.jupyter.widget-view+json": {
       "model_id": "b6b0dbf8b4af4d62a932ed44e47d3a84",
       "version_major": 2,
       "version_minor": 0
      },
      "text/plain": [
       "  0%|          | 0/15 [00:00<?, ?it/s]"
      ]
     },
     "metadata": {},
     "output_type": "display_data"
    }
   ],
   "source": [
    "study = optuna.create_study(direction=\"maximize\")\n",
    "study.optimize(lambda trial: objective_als(trial, interactions_bin_2, test_result), n_trials=30, n_jobs=-1)\n",
    "\n",
    "print(f\"Лучшее значение: {study.best_trial.value}\")\n",
    "print(f\"Лучшие параметры: {study.best_params}\")\n",
    "\n",
    "recs = make_als_recommendations(interactions_bin_2, **study.best_params)\n",
    "result(\"als_2\", recs, test_result)"
   ]
  },
  {
   "cell_type": "markdown",
   "id": "a9ea5c51",
   "metadata": {},
   "source": [
    "3. Заменим на 1 только рейтинги 4 и 5, а рейтинг ниже 4 заменим на -1"
   ]
  },
  {
   "cell_type": "code",
   "execution_count": 150,
   "id": "88842eec",
   "metadata": {},
   "outputs": [],
   "source": [
    "interactions_bin_3 = coo_interactions.copy()\n",
    "interactions_bin_3.data = np.where(interactions_bin_3.data >= 4, 1, -1)"
   ]
  },
  {
   "cell_type": "code",
   "execution_count": 151,
   "id": "71483bf3",
   "metadata": {},
   "outputs": [
    {
     "name": "stderr",
     "output_type": "stream",
     "text": [
      "[I 2025-03-02 20:35:14,456] A new study created in memory with name: no-name-2fc69a29-d2d3-449e-a841-b874431480f2\n",
      "[I 2025-03-02 20:35:16,241] Trial 0 finished with value: 0.49455793744514204 and parameters: {'n_singular_values': 12}. Best is trial 0 with value: 0.49455793744514204.\n",
      "[I 2025-03-02 20:35:16,524] Trial 7 finished with value: 0.4663826608294705 and parameters: {'n_singular_values': 3}. Best is trial 0 with value: 0.49455793744514204.\n",
      "[I 2025-03-02 20:35:17,723] Trial 5 finished with value: 0.4849402316248284 and parameters: {'n_singular_values': 42}. Best is trial 0 with value: 0.49455793744514204.\n",
      "[I 2025-03-02 20:35:18,351] Trial 1 finished with value: 0.4898923582819253 and parameters: {'n_singular_values': 29}. Best is trial 0 with value: 0.49455793744514204.\n",
      "[I 2025-03-02 20:35:18,733] Trial 4 finished with value: 0.49171058754381725 and parameters: {'n_singular_values': 9}. Best is trial 0 with value: 0.49455793744514204.\n",
      "[I 2025-03-02 20:35:19,715] Trial 6 finished with value: 0.4884480400729086 and parameters: {'n_singular_values': 33}. Best is trial 0 with value: 0.49455793744514204.\n",
      "[I 2025-03-02 20:35:20,766] Trial 3 finished with value: 0.4852576051931241 and parameters: {'n_singular_values': 43}. Best is trial 0 with value: 0.49455793744514204.\n",
      "[I 2025-03-02 20:35:22,213] Trial 2 finished with value: 0.4842878542022122 and parameters: {'n_singular_values': 44}. Best is trial 0 with value: 0.49455793744514204.\n",
      "[I 2025-03-02 20:35:23,101] Trial 8 finished with value: 0.4877214487401377 and parameters: {'n_singular_values': 35}. Best is trial 0 with value: 0.49455793744514204.\n",
      "[I 2025-03-02 20:35:23,569] Trial 9 finished with value: 0.4952892403591427 and parameters: {'n_singular_values': 18}. Best is trial 9 with value: 0.4952892403591427.\n",
      "[I 2025-03-02 20:35:23,876] Trial 10 finished with value: 0.49455793744514204 and parameters: {'n_singular_values': 12}. Best is trial 9 with value: 0.4952892403591427.\n",
      "[I 2025-03-02 20:35:25,051] Trial 11 finished with value: 0.4842878542022122 and parameters: {'n_singular_values': 44}. Best is trial 9 with value: 0.4952892403591427.\n",
      "[I 2025-03-02 20:35:25,595] Trial 13 finished with value: 0.4484786851638549 and parameters: {'n_singular_values': 1}. Best is trial 9 with value: 0.4952892403591427.\n",
      "[I 2025-03-02 20:35:25,610] Trial 12 finished with value: 0.49473640361754995 and parameters: {'n_singular_values': 11}. Best is trial 9 with value: 0.4952892403591427.\n",
      "[I 2025-03-02 20:35:26,835] Trial 14 finished with value: 0.4898923582819253 and parameters: {'n_singular_values': 29}. Best is trial 9 with value: 0.4952892403591427.\n",
      "[I 2025-03-02 20:35:27,361] Trial 15 finished with value: 0.4895026798657563 and parameters: {'n_singular_values': 25}. Best is trial 9 with value: 0.4952892403591427.\n",
      "[I 2025-03-02 20:35:28,680] Trial 16 finished with value: 0.4852576051931241 and parameters: {'n_singular_values': 43}. Best is trial 9 with value: 0.4952892403591427.\n",
      "[I 2025-03-02 20:35:29,270] Trial 17 finished with value: 0.4916586605168139 and parameters: {'n_singular_values': 19}. Best is trial 9 with value: 0.4952892403591427.\n",
      "[I 2025-03-02 20:35:29,815] Trial 18 finished with value: 0.4916586605168139 and parameters: {'n_singular_values': 19}. Best is trial 9 with value: 0.4952892403591427.\n",
      "[I 2025-03-02 20:35:30,043] Trial 19 finished with value: 0.4916586605168139 and parameters: {'n_singular_values': 19}. Best is trial 9 with value: 0.4952892403591427.\n",
      "[I 2025-03-02 20:35:30,633] Trial 20 finished with value: 0.4952892403591427 and parameters: {'n_singular_values': 18}. Best is trial 9 with value: 0.4952892403591427.\n",
      "[I 2025-03-02 20:35:31,498] Trial 21 finished with value: 0.49085354723217406 and parameters: {'n_singular_values': 22}. Best is trial 9 with value: 0.4952892403591427.\n",
      "[I 2025-03-02 20:35:32,187] Trial 22 finished with value: 0.4917922843072181 and parameters: {'n_singular_values': 20}. Best is trial 9 with value: 0.4952892403591427.\n",
      "[I 2025-03-02 20:35:32,982] Trial 23 finished with value: 0.4909548583112735 and parameters: {'n_singular_values': 21}. Best is trial 9 with value: 0.4952892403591427.\n",
      "[I 2025-03-02 20:35:33,583] Trial 24 finished with value: 0.4916586605168139 and parameters: {'n_singular_values': 19}. Best is trial 9 with value: 0.4952892403591427.\n",
      "[I 2025-03-02 20:35:34,220] Trial 25 finished with value: 0.49636629926800774 and parameters: {'n_singular_values': 16}. Best is trial 25 with value: 0.49636629926800774.\n",
      "[I 2025-03-02 20:35:34,826] Trial 26 finished with value: 0.4916586605168139 and parameters: {'n_singular_values': 19}. Best is trial 25 with value: 0.49636629926800774.\n",
      "[I 2025-03-02 20:35:34,975] Trial 27 finished with value: 0.491299776842318 and parameters: {'n_singular_values': 8}. Best is trial 25 with value: 0.49636629926800774.\n",
      "[I 2025-03-02 20:35:35,134] Trial 28 finished with value: 0.491299776842318 and parameters: {'n_singular_values': 8}. Best is trial 25 with value: 0.49636629926800774.\n",
      "[I 2025-03-02 20:35:35,438] Trial 29 finished with value: 0.4956564108450434 and parameters: {'n_singular_values': 14}. Best is trial 25 with value: 0.49636629926800774.\n"
     ]
    },
    {
     "name": "stdout",
     "output_type": "stream",
     "text": [
      "Лучшее значение: 0.49636629926800774\n",
      "Лучшие параметры: {'n_singular_values': 16}\n"
     ]
    }
   ],
   "source": [
    "study = optuna.create_study(direction=\"maximize\")\n",
    "study.optimize(lambda trial: objective_svd(trial, interactions_bin_3, test_result), n_trials=30, n_jobs=-1)\n",
    "\n",
    "print(f\"Лучшее значение: {study.best_trial.value}\")\n",
    "print(f\"Лучшие параметры: {study.best_params}\")\n",
    "\n",
    "recs = make_svd_recommendations(interactions_bin_3, **study.best_params)\n",
    "result(\"svd_3\", recs, test_result)"
   ]
  },
  {
   "cell_type": "code",
   "execution_count": 152,
   "id": "94ed6cce",
   "metadata": {},
   "outputs": [
    {
     "name": "stderr",
     "output_type": "stream",
     "text": [
      "[I 2025-03-02 20:35:39,940] A new study created in memory with name: no-name-c68cb5ba-7df7-448e-8030-ffa21e687710\n"
     ]
    },
    {
     "data": {
      "application/vnd.jupyter.widget-view+json": {
       "model_id": "930bb0858f97467683968771a3cddd4f",
       "version_major": 2,
       "version_minor": 0
      },
      "text/plain": [
       "  0%|          | 0/15 [00:00<?, ?it/s]"
      ]
     },
     "metadata": {},
     "output_type": "display_data"
    },
    {
     "data": {
      "application/vnd.jupyter.widget-view+json": {
       "model_id": "a260106ec4cb4eed9810b6ce49c2d4af",
       "version_major": 2,
       "version_minor": 0
      },
      "text/plain": [
       "  0%|          | 0/15 [00:00<?, ?it/s]"
      ]
     },
     "metadata": {},
     "output_type": "display_data"
    },
    {
     "data": {
      "application/vnd.jupyter.widget-view+json": {
       "model_id": "cd1ac99cb6b64a0492ca86f99164b52a",
       "version_major": 2,
       "version_minor": 0
      },
      "text/plain": [
       "  0%|          | 0/15 [00:00<?, ?it/s]"
      ]
     },
     "metadata": {},
     "output_type": "display_data"
    },
    {
     "data": {
      "application/vnd.jupyter.widget-view+json": {
       "model_id": "5aa3d1535c0246748bc926298b280102",
       "version_major": 2,
       "version_minor": 0
      },
      "text/plain": [
       "  0%|          | 0/15 [00:00<?, ?it/s]"
      ]
     },
     "metadata": {},
     "output_type": "display_data"
    },
    {
     "data": {
      "application/vnd.jupyter.widget-view+json": {
       "model_id": "cd0832f6798d4810b4531848a5d51e08",
       "version_major": 2,
       "version_minor": 0
      },
      "text/plain": [
       "  0%|          | 0/15 [00:00<?, ?it/s]"
      ]
     },
     "metadata": {},
     "output_type": "display_data"
    },
    {
     "data": {
      "application/vnd.jupyter.widget-view+json": {
       "model_id": "2ea5df761c854d51b8b0ad27e6867007",
       "version_major": 2,
       "version_minor": 0
      },
      "text/plain": [
       "  0%|          | 0/15 [00:00<?, ?it/s]"
      ]
     },
     "metadata": {},
     "output_type": "display_data"
    },
    {
     "data": {
      "application/vnd.jupyter.widget-view+json": {
       "model_id": "a46ac00a63204a44ab6a36b5d92c384a",
       "version_major": 2,
       "version_minor": 0
      },
      "text/plain": [
       "  0%|          | 0/15 [00:00<?, ?it/s]"
      ]
     },
     "metadata": {},
     "output_type": "display_data"
    },
    {
     "data": {
      "application/vnd.jupyter.widget-view+json": {
       "model_id": "82a6a67a60874c1c8d0a8789a5c1af1d",
       "version_major": 2,
       "version_minor": 0
      },
      "text/plain": [
       "  0%|          | 0/15 [00:00<?, ?it/s]"
      ]
     },
     "metadata": {},
     "output_type": "display_data"
    },
    {
     "name": "stderr",
     "output_type": "stream",
     "text": [
      "[I 2025-03-02 20:35:56,683] Trial 2 finished with value: 0.3009383138823697 and parameters: {'factors': 14, 'alpha': 0.0267520467995345, 'regularization': 1.4008717359389866}. Best is trial 2 with value: 0.3009383138823697.\n"
     ]
    },
    {
     "data": {
      "application/vnd.jupyter.widget-view+json": {
       "model_id": "3e0718d5f8764d7bad9bb0bd2f1a90f8",
       "version_major": 2,
       "version_minor": 0
      },
      "text/plain": [
       "  0%|          | 0/15 [00:00<?, ?it/s]"
      ]
     },
     "metadata": {},
     "output_type": "display_data"
    },
    {
     "name": "stderr",
     "output_type": "stream",
     "text": [
      "[I 2025-03-02 20:35:57,569] Trial 7 finished with value: 0.08972691407564094 and parameters: {'factors': 25, 'alpha': 0.012298685531068497, 'regularization': 3.0021503581947377}. Best is trial 2 with value: 0.3009383138823697.\n"
     ]
    },
    {
     "data": {
      "application/vnd.jupyter.widget-view+json": {
       "model_id": "d345f19eec1d43a09de5b2611337730f",
       "version_major": 2,
       "version_minor": 0
      },
      "text/plain": [
       "  0%|          | 0/15 [00:00<?, ?it/s]"
      ]
     },
     "metadata": {},
     "output_type": "display_data"
    },
    {
     "name": "stderr",
     "output_type": "stream",
     "text": [
      "[I 2025-03-02 20:35:58,439] Trial 0 finished with value: 0.4742540540480619 and parameters: {'factors': 23, 'alpha': 0.0352894396592934, 'regularization': 0.18384473399357512}. Best is trial 0 with value: 0.4742540540480619.\n"
     ]
    },
    {
     "data": {
      "application/vnd.jupyter.widget-view+json": {
       "model_id": "cd7c04fbb362434f8f3e3ab80484a79e",
       "version_major": 2,
       "version_minor": 0
      },
      "text/plain": [
       "  0%|          | 0/15 [00:00<?, ?it/s]"
      ]
     },
     "metadata": {},
     "output_type": "display_data"
    },
    {
     "name": "stderr",
     "output_type": "stream",
     "text": [
      "[I 2025-03-02 20:36:00,163] Trial 4 finished with value: 0.5042258600134881 and parameters: {'factors': 37, 'alpha': 0.7762252956658376, 'regularization': 0.10912426622004566}. Best is trial 4 with value: 0.5042258600134881.\n"
     ]
    },
    {
     "data": {
      "application/vnd.jupyter.widget-view+json": {
       "model_id": "db04f72d54f3469fba523ce51f32ab63",
       "version_major": 2,
       "version_minor": 0
      },
      "text/plain": [
       "  0%|          | 0/15 [00:00<?, ?it/s]"
      ]
     },
     "metadata": {},
     "output_type": "display_data"
    },
    {
     "name": "stderr",
     "output_type": "stream",
     "text": [
      "[I 2025-03-02 20:36:02,394] Trial 3 finished with value: 0.5067210453008975 and parameters: {'factors': 18, 'alpha': 0.4745693204848598, 'regularization': 0.3914734560895979}. Best is trial 3 with value: 0.5067210453008975.\n"
     ]
    },
    {
     "data": {
      "application/vnd.jupyter.widget-view+json": {
       "model_id": "41a120a5c4ca47c990562c55173ff859",
       "version_major": 2,
       "version_minor": 0
      },
      "text/plain": [
       "  0%|          | 0/15 [00:00<?, ?it/s]"
      ]
     },
     "metadata": {},
     "output_type": "display_data"
    },
    {
     "name": "stderr",
     "output_type": "stream",
     "text": [
      "[I 2025-03-02 20:36:03,483] Trial 6 finished with value: 0.4850534823214233 and parameters: {'factors': 48, 'alpha': 0.3136117999459369, 'regularization': 1.6048017760877449}. Best is trial 3 with value: 0.5067210453008975.\n"
     ]
    },
    {
     "data": {
      "application/vnd.jupyter.widget-view+json": {
       "model_id": "03bc7aac0689441eab8b71371317ed5e",
       "version_major": 2,
       "version_minor": 0
      },
      "text/plain": [
       "  0%|          | 0/15 [00:00<?, ?it/s]"
      ]
     },
     "metadata": {},
     "output_type": "display_data"
    },
    {
     "name": "stderr",
     "output_type": "stream",
     "text": [
      "[I 2025-03-02 20:36:04,088] Trial 1 finished with value: 0.5065113200823416 and parameters: {'factors': 39, 'alpha': 0.5781054989863353, 'regularization': 4.315408915962326}. Best is trial 3 with value: 0.5067210453008975.\n"
     ]
    },
    {
     "data": {
      "application/vnd.jupyter.widget-view+json": {
       "model_id": "8286091fee1946f7b4e2c00e6195868e",
       "version_major": 2,
       "version_minor": 0
      },
      "text/plain": [
       "  0%|          | 0/15 [00:00<?, ?it/s]"
      ]
     },
     "metadata": {},
     "output_type": "display_data"
    },
    {
     "name": "stderr",
     "output_type": "stream",
     "text": [
      "[I 2025-03-02 20:36:04,460] Trial 5 finished with value: 0.4975170632950958 and parameters: {'factors': 34, 'alpha': 0.17512215070761383, 'regularization': 3.1089268795584686}. Best is trial 3 with value: 0.5067210453008975.\n"
     ]
    },
    {
     "data": {
      "application/vnd.jupyter.widget-view+json": {
       "model_id": "863b2894914148d186877c7e14170011",
       "version_major": 2,
       "version_minor": 0
      },
      "text/plain": [
       "  0%|          | 0/15 [00:00<?, ?it/s]"
      ]
     },
     "metadata": {},
     "output_type": "display_data"
    },
    {
     "name": "stderr",
     "output_type": "stream",
     "text": [
      "[I 2025-03-02 20:36:16,914] Trial 8 finished with value: 0.10118158102281102 and parameters: {'factors': 41, 'alpha': 0.010610111608967188, 'regularization': 2.0825867990798352}. Best is trial 3 with value: 0.5067210453008975.\n"
     ]
    },
    {
     "data": {
      "application/vnd.jupyter.widget-view+json": {
       "model_id": "11084ac17ed543658aad9938fa423af8",
       "version_major": 2,
       "version_minor": 0
      },
      "text/plain": [
       "  0%|          | 0/15 [00:00<?, ?it/s]"
      ]
     },
     "metadata": {},
     "output_type": "display_data"
    },
    {
     "name": "stderr",
     "output_type": "stream",
     "text": [
      "[I 2025-03-02 20:36:20,046] Trial 10 finished with value: 0.519439452261595 and parameters: {'factors': 11, 'alpha': 0.8569534445802455, 'regularization': 0.1832730653186897}. Best is trial 10 with value: 0.519439452261595.\n"
     ]
    },
    {
     "data": {
      "application/vnd.jupyter.widget-view+json": {
       "model_id": "5c15ff91b7e34597b2633874913429ac",
       "version_major": 2,
       "version_minor": 0
      },
      "text/plain": [
       "  0%|          | 0/15 [00:00<?, ?it/s]"
      ]
     },
     "metadata": {},
     "output_type": "display_data"
    },
    {
     "name": "stderr",
     "output_type": "stream",
     "text": [
      "[I 2025-03-02 20:36:21,229] Trial 14 finished with value: 0.48417860575134863 and parameters: {'factors': 12, 'alpha': 0.11067676861560413, 'regularization': 4.421769863077095}. Best is trial 10 with value: 0.519439452261595.\n"
     ]
    },
    {
     "data": {
      "application/vnd.jupyter.widget-view+json": {
       "model_id": "07206ff5866045b8915f18f2d6e9618b",
       "version_major": 2,
       "version_minor": 0
      },
      "text/plain": [
       "  0%|          | 0/15 [00:00<?, ?it/s]"
      ]
     },
     "metadata": {},
     "output_type": "display_data"
    },
    {
     "name": "stderr",
     "output_type": "stream",
     "text": [
      "[I 2025-03-02 20:36:21,841] Trial 11 finished with value: 0.16327806537785858 and parameters: {'factors': 43, 'alpha': 0.01105548797478234, 'regularization': 1.1032006906358265}. Best is trial 10 with value: 0.519439452261595.\n"
     ]
    },
    {
     "data": {
      "application/vnd.jupyter.widget-view+json": {
       "model_id": "ab0681c73ca34db99bb6f53080bb8694",
       "version_major": 2,
       "version_minor": 0
      },
      "text/plain": [
       "  0%|          | 0/15 [00:00<?, ?it/s]"
      ]
     },
     "metadata": {},
     "output_type": "display_data"
    },
    {
     "name": "stderr",
     "output_type": "stream",
     "text": [
      "[I 2025-03-02 20:36:22,415] Trial 9 finished with value: 0.46715704785790585 and parameters: {'factors': 50, 'alpha': 0.12791361964137443, 'regularization': 0.3390804676420408}. Best is trial 10 with value: 0.519439452261595.\n"
     ]
    },
    {
     "data": {
      "application/vnd.jupyter.widget-view+json": {
       "model_id": "91e1111929894d9f8bce732c9c876ccd",
       "version_major": 2,
       "version_minor": 0
      },
      "text/plain": [
       "  0%|          | 0/15 [00:00<?, ?it/s]"
      ]
     },
     "metadata": {},
     "output_type": "display_data"
    },
    {
     "name": "stderr",
     "output_type": "stream",
     "text": [
      "[I 2025-03-02 20:36:23,099] Trial 12 finished with value: 0.1813560906333699 and parameters: {'factors': 39, 'alpha': 0.012436010464006863, 'regularization': 0.6226741340524738}. Best is trial 10 with value: 0.519439452261595.\n"
     ]
    },
    {
     "data": {
      "application/vnd.jupyter.widget-view+json": {
       "model_id": "804837a8a3414b7884ed2df4eeca875c",
       "version_major": 2,
       "version_minor": 0
      },
      "text/plain": [
       "  0%|          | 0/15 [00:00<?, ?it/s]"
      ]
     },
     "metadata": {},
     "output_type": "display_data"
    },
    {
     "name": "stderr",
     "output_type": "stream",
     "text": [
      "[I 2025-03-02 20:36:23,629] Trial 15 finished with value: 0.2795150055678746 and parameters: {'factors': 42, 'alpha': 0.018463023067159898, 'regularization': 2.58693276107268}. Best is trial 10 with value: 0.519439452261595.\n"
     ]
    },
    {
     "data": {
      "application/vnd.jupyter.widget-view+json": {
       "model_id": "d27c2b7c7c6a4e0686abddd998f039d9",
       "version_major": 2,
       "version_minor": 0
      },
      "text/plain": [
       "  0%|          | 0/15 [00:00<?, ?it/s]"
      ]
     },
     "metadata": {},
     "output_type": "display_data"
    },
    {
     "name": "stderr",
     "output_type": "stream",
     "text": [
      "[I 2025-03-02 20:36:25,374] Trial 13 finished with value: 0.5178693846856927 and parameters: {'factors': 14, 'alpha': 0.883956784416586, 'regularization': 4.059266992598045}. Best is trial 10 with value: 0.519439452261595.\n"
     ]
    },
    {
     "data": {
      "application/vnd.jupyter.widget-view+json": {
       "model_id": "d268d7474cbe452a81b36e69219fcdaa",
       "version_major": 2,
       "version_minor": 0
      },
      "text/plain": [
       "  0%|          | 0/15 [00:00<?, ?it/s]"
      ]
     },
     "metadata": {},
     "output_type": "display_data"
    },
    {
     "name": "stderr",
     "output_type": "stream",
     "text": [
      "[I 2025-03-02 20:36:36,298] Trial 16 finished with value: 0.4733788787198441 and parameters: {'factors': 18, 'alpha': 0.06965392551847296, 'regularization': 0.6486550219560715}. Best is trial 10 with value: 0.519439452261595.\n"
     ]
    },
    {
     "data": {
      "application/vnd.jupyter.widget-view+json": {
       "model_id": "211cd4c7d6ce44f8b5648f10ee8b4d9c",
       "version_major": 2,
       "version_minor": 0
      },
      "text/plain": [
       "  0%|          | 0/15 [00:00<?, ?it/s]"
      ]
     },
     "metadata": {},
     "output_type": "display_data"
    },
    {
     "name": "stderr",
     "output_type": "stream",
     "text": [
      "[I 2025-03-02 20:36:39,256] Trial 17 finished with value: 0.49904298769496747 and parameters: {'factors': 10, 'alpha': 0.10545839149283866, 'regularization': 0.4392708595583487}. Best is trial 10 with value: 0.519439452261595.\n"
     ]
    },
    {
     "data": {
      "application/vnd.jupyter.widget-view+json": {
       "model_id": "132819962a6a4e048d14d9f834625095",
       "version_major": 2,
       "version_minor": 0
      },
      "text/plain": [
       "  0%|          | 0/15 [00:00<?, ?it/s]"
      ]
     },
     "metadata": {},
     "output_type": "display_data"
    },
    {
     "name": "stderr",
     "output_type": "stream",
     "text": [
      "[I 2025-03-02 20:36:39,756] Trial 19 finished with value: 0.49748863620729195 and parameters: {'factors': 19, 'alpha': 0.3560581346798482, 'regularization': 0.39393800803173484}. Best is trial 10 with value: 0.519439452261595.\n"
     ]
    },
    {
     "data": {
      "application/vnd.jupyter.widget-view+json": {
       "model_id": "34c8bb1c46914abda0e9231426aa396b",
       "version_major": 2,
       "version_minor": 0
      },
      "text/plain": [
       "  0%|          | 0/15 [00:00<?, ?it/s]"
      ]
     },
     "metadata": {},
     "output_type": "display_data"
    },
    {
     "name": "stderr",
     "output_type": "stream",
     "text": [
      "[I 2025-03-02 20:36:40,750] Trial 18 finished with value: 0.5173327453634076 and parameters: {'factors': 19, 'alpha': 0.9572041751275469, 'regularization': 0.41557620618351915}. Best is trial 10 with value: 0.519439452261595.\n",
      "[I 2025-03-02 20:36:40,936] Trial 20 finished with value: 0.5159526754512583 and parameters: {'factors': 18, 'alpha': 0.9594843608812356, 'regularization': 0.46838491420316203}. Best is trial 10 with value: 0.519439452261595.\n"
     ]
    },
    {
     "data": {
      "application/vnd.jupyter.widget-view+json": {
       "model_id": "f475f88d3aa746c8a99b4fd531538bde",
       "version_major": 2,
       "version_minor": 0
      },
      "text/plain": [
       "  0%|          | 0/15 [00:00<?, ?it/s]"
      ]
     },
     "metadata": {},
     "output_type": "display_data"
    },
    {
     "data": {
      "application/vnd.jupyter.widget-view+json": {
       "model_id": "600b3ae8b8a246ecae70851a0b287cfc",
       "version_major": 2,
       "version_minor": 0
      },
      "text/plain": [
       "  0%|          | 0/15 [00:00<?, ?it/s]"
      ]
     },
     "metadata": {},
     "output_type": "display_data"
    },
    {
     "name": "stderr",
     "output_type": "stream",
     "text": [
      "[I 2025-03-02 20:36:41,349] Trial 21 finished with value: 0.5165797519419877 and parameters: {'factors': 19, 'alpha': 0.9766887127684074, 'regularization': 0.37952734361371804}. Best is trial 10 with value: 0.519439452261595.\n"
     ]
    },
    {
     "data": {
      "application/vnd.jupyter.widget-view+json": {
       "model_id": "ed52fc0a27534ca9bc46c9049a869f96",
       "version_major": 2,
       "version_minor": 0
      },
      "text/plain": [
       "  0%|          | 0/15 [00:00<?, ?it/s]"
      ]
     },
     "metadata": {},
     "output_type": "display_data"
    },
    {
     "name": "stderr",
     "output_type": "stream",
     "text": [
      "[I 2025-03-02 20:36:42,355] Trial 23 finished with value: 0.516046184276108 and parameters: {'factors': 18, 'alpha': 0.8935909831847416, 'regularization': 0.21699694757404703}. Best is trial 10 with value: 0.519439452261595.\n",
      "[I 2025-03-02 20:36:44,428] Trial 22 finished with value: 0.5145678032398457 and parameters: {'factors': 18, 'alpha': 0.9938370435154443, 'regularization': 0.3831912995434555}. Best is trial 10 with value: 0.519439452261595.\n",
      "[I 2025-03-02 20:36:56,220] Trial 24 finished with value: 0.4978815293783273 and parameters: {'factors': 10, 'alpha': 0.26651005881083917, 'regularization': 0.20821106976224124}. Best is trial 10 with value: 0.519439452261595.\n",
      "[I 2025-03-02 20:36:56,722] Trial 26 finished with value: 0.514185061822467 and parameters: {'factors': 27, 'alpha': 0.9733360476689688, 'regularization': 0.16943999735090126}. Best is trial 10 with value: 0.519439452261595.\n",
      "[I 2025-03-02 20:36:57,396] Trial 25 finished with value: 0.5124517483883706 and parameters: {'factors': 28, 'alpha': 0.9906575109527784, 'regularization': 0.1936572709941315}. Best is trial 10 with value: 0.519439452261595.\n",
      "[I 2025-03-02 20:36:58,090] Trial 27 finished with value: 0.4764955833401962 and parameters: {'factors': 29, 'alpha': 0.24718336971834756, 'regularization': 0.15760287993824504}. Best is trial 10 with value: 0.519439452261595.\n",
      "[I 2025-03-02 20:36:58,224] Trial 28 finished with value: 0.4770988565366412 and parameters: {'factors': 27, 'alpha': 0.22570514699640223, 'regularization': 0.2298336639716607}. Best is trial 10 with value: 0.519439452261595.\n",
      "[I 2025-03-02 20:36:58,545] Trial 29 finished with value: 0.480364076643589 and parameters: {'factors': 27, 'alpha': 0.24735902347345332, 'regularization': 0.215632519339877}. Best is trial 10 with value: 0.519439452261595.\n"
     ]
    },
    {
     "name": "stdout",
     "output_type": "stream",
     "text": [
      "Лучшее значение: 0.519439452261595\n",
      "Лучшие параметры: {'factors': 11, 'alpha': 0.8569534445802455, 'regularization': 0.1832730653186897}\n"
     ]
    },
    {
     "data": {
      "application/vnd.jupyter.widget-view+json": {
       "model_id": "833d32b8534742aabac1d236225150ca",
       "version_major": 2,
       "version_minor": 0
      },
      "text/plain": [
       "  0%|          | 0/15 [00:00<?, ?it/s]"
      ]
     },
     "metadata": {},
     "output_type": "display_data"
    }
   ],
   "source": [
    "\n",
    "study = optuna.create_study(direction=\"maximize\")\n",
    "study.optimize(lambda trial: objective_als(trial, interactions_bin_3, test_result), n_trials=30, n_jobs=-1)\n",
    "\n",
    "print(f\"Лучшее значение: {study.best_trial.value}\")\n",
    "print(f\"Лучшие параметры: {study.best_params}\")\n",
    "\n",
    "recs = make_als_recommendations(interactions_bin_3, **study.best_params)\n",
    "result(\"als_3\", recs, test_result)"
   ]
  },
  {
   "cell_type": "markdown",
   "id": "72aa841d",
   "metadata": {},
   "source": [
    "4. Заменим на 1 только рейтинги 4 и 5, а рейтинг ниже 4 заменим на -1 и добавим сглаживание по времени. То есть чем дальше была интеракция от максимальной даты трейна, тем с меньшим весом мы будем ее учитывать(например можно интеракции за последний месяц брать в исходном виде, и с каждым месяцем в прошлое умножать их на какой-нибудь коэффициент меньший 1). Таким образом более старые интеракции пользователя будут вносить меньший вклад в его интересы"
   ]
  },
  {
   "cell_type": "code",
   "execution_count": 158,
   "id": "a9d772cd",
   "metadata": {},
   "outputs": [
    {
     "data": {
      "text/html": [
       "<div>\n",
       "<style scoped>\n",
       "    .dataframe tbody tr th:only-of-type {\n",
       "        vertical-align: middle;\n",
       "    }\n",
       "\n",
       "    .dataframe tbody tr th {\n",
       "        vertical-align: top;\n",
       "    }\n",
       "\n",
       "    .dataframe thead th {\n",
       "        text-align: right;\n",
       "    }\n",
       "</style>\n",
       "<table border=\"1\" class=\"dataframe\">\n",
       "  <thead>\n",
       "    <tr style=\"text-align: right;\">\n",
       "      <th></th>\n",
       "      <th>user_id</th>\n",
       "      <th>item_id</th>\n",
       "      <th>rating</th>\n",
       "      <th>datetime</th>\n",
       "      <th>lag</th>\n",
       "      <th>week</th>\n",
       "      <th>corr</th>\n",
       "    </tr>\n",
       "  </thead>\n",
       "  <tbody>\n",
       "    <tr>\n",
       "      <th>100409</th>\n",
       "      <td>0</td>\n",
       "      <td>2994</td>\n",
       "      <td>3</td>\n",
       "      <td>2000-11-30 23:49:23</td>\n",
       "      <td>0</td>\n",
       "      <td>0</td>\n",
       "      <td>1.00</td>\n",
       "    </tr>\n",
       "    <tr>\n",
       "      <th>100411</th>\n",
       "      <td>0</td>\n",
       "      <td>929</td>\n",
       "      <td>4</td>\n",
       "      <td>2000-11-30 23:52:33</td>\n",
       "      <td>0</td>\n",
       "      <td>0</td>\n",
       "      <td>1.00</td>\n",
       "    </tr>\n",
       "    <tr>\n",
       "      <th>100412</th>\n",
       "      <td>0</td>\n",
       "      <td>567</td>\n",
       "      <td>4</td>\n",
       "      <td>2000-11-30 23:51:54</td>\n",
       "      <td>0</td>\n",
       "      <td>0</td>\n",
       "      <td>1.00</td>\n",
       "    </tr>\n",
       "    <tr>\n",
       "      <th>100415</th>\n",
       "      <td>0</td>\n",
       "      <td>3005</td>\n",
       "      <td>1</td>\n",
       "      <td>2000-11-30 23:58:06</td>\n",
       "      <td>0</td>\n",
       "      <td>0</td>\n",
       "      <td>1.00</td>\n",
       "    </tr>\n",
       "    <tr>\n",
       "      <th>100416</th>\n",
       "      <td>0</td>\n",
       "      <td>3006</td>\n",
       "      <td>4</td>\n",
       "      <td>2000-11-30 23:57:50</td>\n",
       "      <td>0</td>\n",
       "      <td>0</td>\n",
       "      <td>1.00</td>\n",
       "    </tr>\n",
       "    <tr>\n",
       "      <th>...</th>\n",
       "      <td>...</td>\n",
       "      <td>...</td>\n",
       "      <td>...</td>\n",
       "      <td>...</td>\n",
       "      <td>...</td>\n",
       "      <td>...</td>\n",
       "      <td>...</td>\n",
       "    </tr>\n",
       "    <tr>\n",
       "      <th>1000204</th>\n",
       "      <td>5364</td>\n",
       "      <td>814</td>\n",
       "      <td>1</td>\n",
       "      <td>2000-04-26 02:35:41</td>\n",
       "      <td>218</td>\n",
       "      <td>31</td>\n",
       "      <td>0.69</td>\n",
       "    </tr>\n",
       "    <tr>\n",
       "      <th>1000205</th>\n",
       "      <td>5364</td>\n",
       "      <td>817</td>\n",
       "      <td>5</td>\n",
       "      <td>2000-04-25 23:21:27</td>\n",
       "      <td>219</td>\n",
       "      <td>31</td>\n",
       "      <td>0.69</td>\n",
       "    </tr>\n",
       "    <tr>\n",
       "      <th>1000206</th>\n",
       "      <td>5364</td>\n",
       "      <td>478</td>\n",
       "      <td>5</td>\n",
       "      <td>2000-04-25 23:19:06</td>\n",
       "      <td>219</td>\n",
       "      <td>31</td>\n",
       "      <td>0.69</td>\n",
       "    </tr>\n",
       "    <tr>\n",
       "      <th>1000207</th>\n",
       "      <td>5364</td>\n",
       "      <td>819</td>\n",
       "      <td>4</td>\n",
       "      <td>2000-04-26 02:20:48</td>\n",
       "      <td>218</td>\n",
       "      <td>31</td>\n",
       "      <td>0.69</td>\n",
       "    </tr>\n",
       "    <tr>\n",
       "      <th>1000208</th>\n",
       "      <td>5364</td>\n",
       "      <td>820</td>\n",
       "      <td>4</td>\n",
       "      <td>2000-04-26 02:19:29</td>\n",
       "      <td>218</td>\n",
       "      <td>31</td>\n",
       "      <td>0.69</td>\n",
       "    </tr>\n",
       "  </tbody>\n",
       "</table>\n",
       "<p>787420 rows × 7 columns</p>\n",
       "</div>"
      ],
      "text/plain": [
       "         user_id  item_id  rating            datetime  lag  week  corr\n",
       "100409         0     2994       3 2000-11-30 23:49:23    0     0  1.00\n",
       "100411         0      929       4 2000-11-30 23:52:33    0     0  1.00\n",
       "100412         0      567       4 2000-11-30 23:51:54    0     0  1.00\n",
       "100415         0     3005       1 2000-11-30 23:58:06    0     0  1.00\n",
       "100416         0     3006       4 2000-11-30 23:57:50    0     0  1.00\n",
       "...          ...      ...     ...                 ...  ...   ...   ...\n",
       "1000204     5364      814       1 2000-04-26 02:35:41  218    31  0.69\n",
       "1000205     5364      817       5 2000-04-25 23:21:27  219    31  0.69\n",
       "1000206     5364      478       5 2000-04-25 23:19:06  219    31  0.69\n",
       "1000207     5364      819       4 2000-04-26 02:20:48  218    31  0.69\n",
       "1000208     5364      820       4 2000-04-26 02:19:29  218    31  0.69\n",
       "\n",
       "[787420 rows x 7 columns]"
      ]
     },
     "execution_count": 158,
     "metadata": {},
     "output_type": "execute_result"
    }
   ],
   "source": [
    "df_train_time = df_train.copy()\n",
    "max_date = df_train_time[\"datetime\"].max()\n",
    "df_train_time[\"lag\"] = (max_date - df_train_time[\"datetime\"]).dt.days\n",
    "df_train_time[\"week\"] = (df_train_time[\"lag\"] // 7)\n",
    "alpha = 0.01\n",
    "df_train_time[\"corr\"] = 1 - df_train_time[\"week\"] * alpha\n",
    "\n",
    "df_train_time"
   ]
  },
  {
   "cell_type": "code",
   "execution_count": 159,
   "id": "88174e78",
   "metadata": {},
   "outputs": [],
   "source": [
    "from scipy.sparse import coo_array\n",
    "\n",
    "def df_to_time_coo(df: pd.DataFrame) -> coo_array:\n",
    "\n",
    "    users = df['user_id'].astype('category').cat.codes\n",
    "    items = df['item_id'].astype('category').cat.codes\n",
    "\n",
    "    return coo_array((df['corr'], (users, items)))\n",
    "\n",
    "coo_time = df_to_time_coo(df_train_time)"
   ]
  },
  {
   "cell_type": "code",
   "execution_count": 163,
   "id": "a17bd954",
   "metadata": {},
   "outputs": [],
   "source": [
    "interactions_bin_4 = coo_interactions.copy()\n",
    "interactions_bin_4.data = np.where(interactions_bin_4.data >= 4, 1, -1)\n",
    "interactions_bin_4.data = interactions_bin_4.data * coo_time.data"
   ]
  },
  {
   "cell_type": "code",
   "execution_count": 164,
   "id": "0f2923cc",
   "metadata": {},
   "outputs": [
    {
     "name": "stderr",
     "output_type": "stream",
     "text": [
      "[I 2025-03-02 20:42:22,675] A new study created in memory with name: no-name-e444be1c-d876-449e-b2d7-b38dc4227c9c\n",
      "[I 2025-03-02 20:42:24,822] Trial 0 finished with value: 0.49116088737377556 and parameters: {'n_singular_values': 30}. Best is trial 0 with value: 0.49116088737377556.\n",
      "[I 2025-03-02 20:42:25,287] Trial 1 finished with value: 0.495330222046683 and parameters: {'n_singular_values': 11}. Best is trial 1 with value: 0.495330222046683.\n",
      "[I 2025-03-02 20:42:25,348] Trial 5 finished with value: 0.4525648169412598 and parameters: {'n_singular_values': 2}. Best is trial 1 with value: 0.495330222046683.\n",
      "[I 2025-03-02 20:42:25,461] Trial 3 finished with value: 0.49386317314889366 and parameters: {'n_singular_values': 9}. Best is trial 1 with value: 0.495330222046683.\n",
      "[I 2025-03-02 20:42:26,286] Trial 2 finished with value: 0.492905217377786 and parameters: {'n_singular_values': 23}. Best is trial 1 with value: 0.495330222046683.\n",
      "[I 2025-03-02 20:42:26,489] Trial 7 finished with value: 0.4955281637097797 and parameters: {'n_singular_values': 12}. Best is trial 7 with value: 0.4955281637097797.\n",
      "[I 2025-03-02 20:42:27,027] Trial 6 finished with value: 0.4981647847351889 and parameters: {'n_singular_values': 14}. Best is trial 6 with value: 0.4981647847351889.\n",
      "[I 2025-03-02 20:42:28,216] Trial 4 finished with value: 0.48795826141253346 and parameters: {'n_singular_values': 41}. Best is trial 6 with value: 0.4981647847351889.\n",
      "[I 2025-03-02 20:42:28,780] Trial 8 finished with value: 0.4911163986838198 and parameters: {'n_singular_values': 25}. Best is trial 6 with value: 0.4981647847351889.\n",
      "[I 2025-03-02 20:42:30,418] Trial 9 finished with value: 0.4861757428159397 and parameters: {'n_singular_values': 49}. Best is trial 6 with value: 0.4981647847351889.\n",
      "[I 2025-03-02 20:42:30,539] Trial 10 finished with value: 0.4952356595102427 and parameters: {'n_singular_values': 10}. Best is trial 6 with value: 0.4981647847351889.\n",
      "[I 2025-03-02 20:42:31,209] Trial 11 finished with value: 0.4926900584055054 and parameters: {'n_singular_values': 21}. Best is trial 6 with value: 0.4981647847351889.\n",
      "[I 2025-03-02 20:42:31,357] Trial 12 finished with value: 0.49287057729745865 and parameters: {'n_singular_values': 8}. Best is trial 6 with value: 0.4981647847351889.\n",
      "[I 2025-03-02 20:42:31,895] Trial 13 finished with value: 0.49520255531506624 and parameters: {'n_singular_values': 20}. Best is trial 6 with value: 0.4981647847351889.\n",
      "[I 2025-03-02 20:42:33,436] Trial 14 finished with value: 0.4890596028975946 and parameters: {'n_singular_values': 45}. Best is trial 6 with value: 0.4981647847351889.\n",
      "[I 2025-03-02 20:42:34,680] Trial 15 finished with value: 0.4890596028975946 and parameters: {'n_singular_values': 45}. Best is trial 6 with value: 0.4981647847351889.\n",
      "[I 2025-03-02 20:42:35,559] Trial 16 finished with value: 0.4909111933401042 and parameters: {'n_singular_values': 33}. Best is trial 6 with value: 0.4981647847351889.\n",
      "[I 2025-03-02 20:42:36,110] Trial 17 finished with value: 0.49658765476832056 and parameters: {'n_singular_values': 18}. Best is trial 6 with value: 0.4981647847351889.\n",
      "[I 2025-03-02 20:42:36,693] Trial 18 finished with value: 0.49964987941507727 and parameters: {'n_singular_values': 16}. Best is trial 18 with value: 0.49964987941507727.\n",
      "[I 2025-03-02 20:42:37,135] Trial 19 finished with value: 0.49964987941507727 and parameters: {'n_singular_values': 16}. Best is trial 18 with value: 0.49964987941507727.\n",
      "[I 2025-03-02 20:42:37,509] Trial 20 finished with value: 0.4976437251067638 and parameters: {'n_singular_values': 17}. Best is trial 18 with value: 0.49964987941507727.\n",
      "[I 2025-03-02 20:42:38,112] Trial 21 finished with value: 0.49964987941507727 and parameters: {'n_singular_values': 16}. Best is trial 18 with value: 0.49964987941507727.\n",
      "[I 2025-03-02 20:42:38,716] Trial 22 finished with value: 0.49964987941507727 and parameters: {'n_singular_values': 16}. Best is trial 18 with value: 0.49964987941507727.\n",
      "[I 2025-03-02 20:42:39,143] Trial 23 finished with value: 0.49964987941507727 and parameters: {'n_singular_values': 16}. Best is trial 18 with value: 0.49964987941507727.\n",
      "[I 2025-03-02 20:42:39,402] Trial 24 finished with value: 0.49864314005994576 and parameters: {'n_singular_values': 15}. Best is trial 18 with value: 0.49964987941507727.\n",
      "[I 2025-03-02 20:42:40,032] Trial 25 finished with value: 0.4976437251067638 and parameters: {'n_singular_values': 17}. Best is trial 18 with value: 0.49964987941507727.\n",
      "[I 2025-03-02 20:42:40,752] Trial 27 finished with value: 0.4525648169412598 and parameters: {'n_singular_values': 2}. Best is trial 18 with value: 0.49964987941507727.\n",
      "[I 2025-03-02 20:42:40,936] Trial 26 finished with value: 0.49964987941507727 and parameters: {'n_singular_values': 16}. Best is trial 18 with value: 0.49964987941507727.\n",
      "[I 2025-03-02 20:42:41,015] Trial 28 finished with value: 0.4525648169412598 and parameters: {'n_singular_values': 2}. Best is trial 18 with value: 0.49964987941507727.\n",
      "[I 2025-03-02 20:42:41,163] Trial 29 finished with value: 0.46836335669527 and parameters: {'n_singular_values': 3}. Best is trial 18 with value: 0.49964987941507727.\n"
     ]
    },
    {
     "name": "stdout",
     "output_type": "stream",
     "text": [
      "Лучшее значение: 0.49964987941507727\n",
      "Лучшие параметры: {'n_singular_values': 16}\n"
     ]
    }
   ],
   "source": [
    "study = optuna.create_study(direction=\"maximize\")\n",
    "study.optimize(lambda trial: objective_svd(trial, interactions_bin_4, test_result), n_trials=30, n_jobs=-1)\n",
    "\n",
    "print(f\"Лучшее значение: {study.best_trial.value}\")\n",
    "print(f\"Лучшие параметры: {study.best_params}\")\n",
    "\n",
    "recs = make_svd_recommendations(interactions_bin_4, **study.best_params)\n",
    "result(\"svd_4\", recs, test_result)\n"
   ]
  },
  {
   "cell_type": "code",
   "execution_count": 165,
   "id": "2faf47df",
   "metadata": {},
   "outputs": [
    {
     "name": "stderr",
     "output_type": "stream",
     "text": [
      "[I 2025-03-02 20:42:45,778] A new study created in memory with name: no-name-29b2a140-8486-4679-9a10-0314aaf99c8c\n"
     ]
    },
    {
     "data": {
      "application/vnd.jupyter.widget-view+json": {
       "model_id": "6beb58ada57c4279992a2f34eac98efc",
       "version_major": 2,
       "version_minor": 0
      },
      "text/plain": [
       "  0%|          | 0/15 [00:00<?, ?it/s]"
      ]
     },
     "metadata": {},
     "output_type": "display_data"
    },
    {
     "data": {
      "application/vnd.jupyter.widget-view+json": {
       "model_id": "5f50b4212c2a4a7884b067e89da6ddf8",
       "version_major": 2,
       "version_minor": 0
      },
      "text/plain": [
       "  0%|          | 0/15 [00:00<?, ?it/s]"
      ]
     },
     "metadata": {},
     "output_type": "display_data"
    },
    {
     "data": {
      "application/vnd.jupyter.widget-view+json": {
       "model_id": "54918a6c9aa0499984b04abff10d7663",
       "version_major": 2,
       "version_minor": 0
      },
      "text/plain": [
       "  0%|          | 0/15 [00:00<?, ?it/s]"
      ]
     },
     "metadata": {},
     "output_type": "display_data"
    },
    {
     "data": {
      "application/vnd.jupyter.widget-view+json": {
       "model_id": "a21df02f4f6f41bfa20c81532a666676",
       "version_major": 2,
       "version_minor": 0
      },
      "text/plain": [
       "  0%|          | 0/15 [00:00<?, ?it/s]"
      ]
     },
     "metadata": {},
     "output_type": "display_data"
    },
    {
     "data": {
      "application/vnd.jupyter.widget-view+json": {
       "model_id": "7c34651f1d9c470484db0d5b13ebead3",
       "version_major": 2,
       "version_minor": 0
      },
      "text/plain": [
       "  0%|          | 0/15 [00:00<?, ?it/s]"
      ]
     },
     "metadata": {},
     "output_type": "display_data"
    },
    {
     "data": {
      "application/vnd.jupyter.widget-view+json": {
       "model_id": "0579593503124ac6a7ac57dc92712e45",
       "version_major": 2,
       "version_minor": 0
      },
      "text/plain": [
       "  0%|          | 0/15 [00:00<?, ?it/s]"
      ]
     },
     "metadata": {},
     "output_type": "display_data"
    },
    {
     "data": {
      "application/vnd.jupyter.widget-view+json": {
       "model_id": "fb2f831151f849939445da589dab6889",
       "version_major": 2,
       "version_minor": 0
      },
      "text/plain": [
       "  0%|          | 0/15 [00:00<?, ?it/s]"
      ]
     },
     "metadata": {},
     "output_type": "display_data"
    },
    {
     "data": {
      "application/vnd.jupyter.widget-view+json": {
       "model_id": "a4652280b9c7402186f0526aad41884f",
       "version_major": 2,
       "version_minor": 0
      },
      "text/plain": [
       "  0%|          | 0/15 [00:00<?, ?it/s]"
      ]
     },
     "metadata": {},
     "output_type": "display_data"
    },
    {
     "name": "stderr",
     "output_type": "stream",
     "text": [
      "[I 2025-03-02 20:43:02,668] Trial 6 finished with value: 0.20692610095117694 and parameters: {'factors': 34, 'alpha': 0.013591449852754863, 'regularization': 0.7446182449785352}. Best is trial 6 with value: 0.20692610095117694.\n"
     ]
    },
    {
     "data": {
      "application/vnd.jupyter.widget-view+json": {
       "model_id": "6fec9d5c0a6e4a7dbedfc701c0a6ab4b",
       "version_major": 2,
       "version_minor": 0
      },
      "text/plain": [
       "  0%|          | 0/15 [00:00<?, ?it/s]"
      ]
     },
     "metadata": {},
     "output_type": "display_data"
    },
    {
     "name": "stderr",
     "output_type": "stream",
     "text": [
      "[I 2025-03-02 20:43:05,074] Trial 3 finished with value: 0.47865769336051944 and parameters: {'factors': 17, 'alpha': 0.0729350554210966, 'regularization': 0.8227213044712453}. Best is trial 3 with value: 0.47865769336051944.\n",
      "[I 2025-03-02 20:43:05,102] Trial 2 finished with value: 0.2259241086903077 and parameters: {'factors': 36, 'alpha': 0.010179886071740807, 'regularization': 0.15150279344198495}. Best is trial 3 with value: 0.47865769336051944.\n"
     ]
    },
    {
     "data": {
      "application/vnd.jupyter.widget-view+json": {
       "model_id": "5f6be3a814e24969bac2fdbd133edd15",
       "version_major": 2,
       "version_minor": 0
      },
      "text/plain": [
       "  0%|          | 0/15 [00:00<?, ?it/s]"
      ]
     },
     "metadata": {},
     "output_type": "display_data"
    },
    {
     "data": {
      "application/vnd.jupyter.widget-view+json": {
       "model_id": "ff815877066f474a846fd800584e72cc",
       "version_major": 2,
       "version_minor": 0
      },
      "text/plain": [
       "  0%|          | 0/15 [00:00<?, ?it/s]"
      ]
     },
     "metadata": {},
     "output_type": "display_data"
    },
    {
     "name": "stderr",
     "output_type": "stream",
     "text": [
      "[I 2025-03-02 20:43:06,079] Trial 1 finished with value: 0.4793242581081892 and parameters: {'factors': 39, 'alpha': 0.10425694808314215, 'regularization': 1.7279762023376175}. Best is trial 1 with value: 0.4793242581081892.\n",
      "[I 2025-03-02 20:43:06,257] Trial 0 finished with value: 0.1317147299242384 and parameters: {'factors': 50, 'alpha': 0.014452800673447808, 'regularization': 2.2267277741528164}. Best is trial 1 with value: 0.4793242581081892.\n"
     ]
    },
    {
     "data": {
      "application/vnd.jupyter.widget-view+json": {
       "model_id": "e3b9a05c93014250a1c3855280fffe87",
       "version_major": 2,
       "version_minor": 0
      },
      "text/plain": [
       "  0%|          | 0/15 [00:00<?, ?it/s]"
      ]
     },
     "metadata": {},
     "output_type": "display_data"
    },
    {
     "data": {
      "application/vnd.jupyter.widget-view+json": {
       "model_id": "b02ad28ca60a4723a3bfee4e289a4196",
       "version_major": 2,
       "version_minor": 0
      },
      "text/plain": [
       "  0%|          | 0/15 [00:00<?, ?it/s]"
      ]
     },
     "metadata": {},
     "output_type": "display_data"
    },
    {
     "name": "stderr",
     "output_type": "stream",
     "text": [
      "[I 2025-03-02 20:43:07,770] Trial 5 finished with value: 0.47020800509213645 and parameters: {'factors': 34, 'alpha': 0.22173035927158402, 'regularization': 0.17770972133781482}. Best is trial 1 with value: 0.4793242581081892.\n",
      "[I 2025-03-02 20:43:07,930] Trial 7 finished with value: 0.48369642418266456 and parameters: {'factors': 28, 'alpha': 0.05695571116319507, 'regularization': 0.3464135793591991}. Best is trial 7 with value: 0.48369642418266456.\n"
     ]
    },
    {
     "data": {
      "application/vnd.jupyter.widget-view+json": {
       "model_id": "ae29a55b128c4ae7ae91b9a7c1176b0c",
       "version_major": 2,
       "version_minor": 0
      },
      "text/plain": [
       "  0%|          | 0/15 [00:00<?, ?it/s]"
      ]
     },
     "metadata": {},
     "output_type": "display_data"
    },
    {
     "data": {
      "application/vnd.jupyter.widget-view+json": {
       "model_id": "98d867e0f19b4aeebddeec1bf41451b3",
       "version_major": 2,
       "version_minor": 0
      },
      "text/plain": [
       "  0%|          | 0/15 [00:00<?, ?it/s]"
      ]
     },
     "metadata": {},
     "output_type": "display_data"
    },
    {
     "name": "stderr",
     "output_type": "stream",
     "text": [
      "[I 2025-03-02 20:43:10,112] Trial 4 finished with value: 0.49154520065716645 and parameters: {'factors': 27, 'alpha': 0.3299389498629684, 'regularization': 1.0242043735922026}. Best is trial 4 with value: 0.49154520065716645.\n"
     ]
    },
    {
     "data": {
      "application/vnd.jupyter.widget-view+json": {
       "model_id": "20b4f056a1db487bbff7afd0376faa37",
       "version_major": 2,
       "version_minor": 0
      },
      "text/plain": [
       "  0%|          | 0/15 [00:00<?, ?it/s]"
      ]
     },
     "metadata": {},
     "output_type": "display_data"
    },
    {
     "name": "stderr",
     "output_type": "stream",
     "text": [
      "[I 2025-03-02 20:43:23,912] Trial 8 finished with value: 0.47335483959627317 and parameters: {'factors': 35, 'alpha': 0.278321037475535, 'regularization': 0.17416030735284513}. Best is trial 4 with value: 0.49154520065716645.\n"
     ]
    },
    {
     "data": {
      "application/vnd.jupyter.widget-view+json": {
       "model_id": "70f3cd3cff7642eaa9a9672d4df9930c",
       "version_major": 2,
       "version_minor": 0
      },
      "text/plain": [
       "  0%|          | 0/15 [00:00<?, ?it/s]"
      ]
     },
     "metadata": {},
     "output_type": "display_data"
    },
    {
     "name": "stderr",
     "output_type": "stream",
     "text": [
      "[I 2025-03-02 20:43:24,367] Trial 9 finished with value: 0.18009184578155357 and parameters: {'factors': 26, 'alpha': 0.05394743607274043, 'regularization': 3.4873747331564253}. Best is trial 4 with value: 0.49154520065716645.\n"
     ]
    },
    {
     "data": {
      "application/vnd.jupyter.widget-view+json": {
       "model_id": "8b3689c8586a49a3a9ae7c32f317c826",
       "version_major": 2,
       "version_minor": 0
      },
      "text/plain": [
       "  0%|          | 0/15 [00:00<?, ?it/s]"
      ]
     },
     "metadata": {},
     "output_type": "display_data"
    },
    {
     "name": "stderr",
     "output_type": "stream",
     "text": [
      "[I 2025-03-02 20:43:24,608] Trial 11 finished with value: 0.4941167933216444 and parameters: {'factors': 25, 'alpha': 0.3846453704730248, 'regularization': 0.18835299313141457}. Best is trial 11 with value: 0.4941167933216444.\n"
     ]
    },
    {
     "data": {
      "application/vnd.jupyter.widget-view+json": {
       "model_id": "3f8fd2cc578e4793834d702553107712",
       "version_major": 2,
       "version_minor": 0
      },
      "text/plain": [
       "  0%|          | 0/15 [00:00<?, ?it/s]"
      ]
     },
     "metadata": {},
     "output_type": "display_data"
    },
    {
     "name": "stderr",
     "output_type": "stream",
     "text": [
      "[I 2025-03-02 20:43:25,997] Trial 10 finished with value: 0.17407310790395136 and parameters: {'factors': 45, 'alpha': 0.01552510250868177, 'regularization': 2.759544379251672}. Best is trial 11 with value: 0.4941167933216444.\n"
     ]
    },
    {
     "data": {
      "application/vnd.jupyter.widget-view+json": {
       "model_id": "d550384844db4a16980efb7778f710f9",
       "version_major": 2,
       "version_minor": 0
      },
      "text/plain": [
       "  0%|          | 0/15 [00:00<?, ?it/s]"
      ]
     },
     "metadata": {},
     "output_type": "display_data"
    },
    {
     "name": "stderr",
     "output_type": "stream",
     "text": [
      "[I 2025-03-02 20:43:28,151] Trial 14 finished with value: 0.48330851532123675 and parameters: {'factors': 48, 'alpha': 0.04323994949405213, 'regularization': 0.4411986190431653}. Best is trial 11 with value: 0.4941167933216444.\n",
      "[I 2025-03-02 20:43:28,328] Trial 13 finished with value: 0.13685757153495606 and parameters: {'factors': 50, 'alpha': 0.03093181821949273, 'regularization': 2.036909356857268}. Best is trial 11 with value: 0.4941167933216444.\n"
     ]
    },
    {
     "data": {
      "application/vnd.jupyter.widget-view+json": {
       "model_id": "5fd5cc2a1f9342cb8a9b7c5edd752854",
       "version_major": 2,
       "version_minor": 0
      },
      "text/plain": [
       "  0%|          | 0/15 [00:00<?, ?it/s]"
      ]
     },
     "metadata": {},
     "output_type": "display_data"
    },
    {
     "data": {
      "application/vnd.jupyter.widget-view+json": {
       "model_id": "2cb7fa340df94a3db482fb743e6d56e0",
       "version_major": 2,
       "version_minor": 0
      },
      "text/plain": [
       "  0%|          | 0/15 [00:00<?, ?it/s]"
      ]
     },
     "metadata": {},
     "output_type": "display_data"
    },
    {
     "name": "stderr",
     "output_type": "stream",
     "text": [
      "[I 2025-03-02 20:43:30,211] Trial 12 finished with value: 0.49209296456556495 and parameters: {'factors': 42, 'alpha': 0.5519506962141654, 'regularization': 0.3577897114054202}. Best is trial 11 with value: 0.4941167933216444.\n"
     ]
    },
    {
     "data": {
      "application/vnd.jupyter.widget-view+json": {
       "model_id": "fdac3c93f3f34c9c8edcf3ca7f9daee0",
       "version_major": 2,
       "version_minor": 0
      },
      "text/plain": [
       "  0%|          | 0/15 [00:00<?, ?it/s]"
      ]
     },
     "metadata": {},
     "output_type": "display_data"
    },
    {
     "name": "stderr",
     "output_type": "stream",
     "text": [
      "[I 2025-03-02 20:43:32,018] Trial 15 finished with value: 0.5110769056985063 and parameters: {'factors': 26, 'alpha': 0.8287412481619634, 'regularization': 0.2799381622785725}. Best is trial 15 with value: 0.5110769056985063.\n"
     ]
    },
    {
     "data": {
      "application/vnd.jupyter.widget-view+json": {
       "model_id": "96e6b1d664194b00b9f7674f5487438f",
       "version_major": 2,
       "version_minor": 0
      },
      "text/plain": [
       "  0%|          | 0/15 [00:00<?, ?it/s]"
      ]
     },
     "metadata": {},
     "output_type": "display_data"
    },
    {
     "name": "stderr",
     "output_type": "stream",
     "text": [
      "[I 2025-03-02 20:43:46,162] Trial 17 finished with value: 0.5193002964657133 and parameters: {'factors': 14, 'alpha': 0.9877614964450373, 'regularization': 4.992295302272988}. Best is trial 17 with value: 0.5193002964657133.\n",
      "[I 2025-03-02 20:43:46,190] Trial 16 finished with value: 0.45505194152357104 and parameters: {'factors': 30, 'alpha': 0.016687325760090053, 'regularization': 0.17594730844020048}. Best is trial 17 with value: 0.5193002964657133.\n",
      "[I 2025-03-02 20:43:46,201] Trial 19 finished with value: 0.5157058281388043 and parameters: {'factors': 21, 'alpha': 0.9868038711913054, 'regularization': 0.4028683411928977}. Best is trial 17 with value: 0.5193002964657133.\n"
     ]
    },
    {
     "data": {
      "application/vnd.jupyter.widget-view+json": {
       "model_id": "562b737e6a9e4d86baba6287e97bdf8b",
       "version_major": 2,
       "version_minor": 0
      },
      "text/plain": [
       "  0%|          | 0/15 [00:00<?, ?it/s]"
      ]
     },
     "metadata": {},
     "output_type": "display_data"
    },
    {
     "data": {
      "application/vnd.jupyter.widget-view+json": {
       "model_id": "aff7af1eaa43425ea88c08bd1400fa1c",
       "version_major": 2,
       "version_minor": 0
      },
      "text/plain": [
       "  0%|          | 0/15 [00:00<?, ?it/s]"
      ]
     },
     "metadata": {},
     "output_type": "display_data"
    },
    {
     "data": {
      "application/vnd.jupyter.widget-view+json": {
       "model_id": "f9f5f5a0b9dc491c95dbb1197096a2ed",
       "version_major": 2,
       "version_minor": 0
      },
      "text/plain": [
       "  0%|          | 0/15 [00:00<?, ?it/s]"
      ]
     },
     "metadata": {},
     "output_type": "display_data"
    },
    {
     "name": "stderr",
     "output_type": "stream",
     "text": [
      "[I 2025-03-02 20:43:46,756] Trial 18 finished with value: 0.5154433588517268 and parameters: {'factors': 19, 'alpha': 0.9614490599556087, 'regularization': 0.39174954976789966}. Best is trial 17 with value: 0.5193002964657133.\n"
     ]
    },
    {
     "data": {
      "application/vnd.jupyter.widget-view+json": {
       "model_id": "6e0936ebe1ec45788b0e3ed811368111",
       "version_major": 2,
       "version_minor": 0
      },
      "text/plain": [
       "  0%|          | 0/15 [00:00<?, ?it/s]"
      ]
     },
     "metadata": {},
     "output_type": "display_data"
    },
    {
     "name": "stderr",
     "output_type": "stream",
     "text": [
      "[I 2025-03-02 20:43:50,265] Trial 21 finished with value: 0.5158637055148027 and parameters: {'factors': 21, 'alpha': 0.9235934533250391, 'regularization': 1.2667371243978272}. Best is trial 17 with value: 0.5193002964657133.\n"
     ]
    },
    {
     "data": {
      "application/vnd.jupyter.widget-view+json": {
       "model_id": "749f05ba0afa4994a545f19847e38fea",
       "version_major": 2,
       "version_minor": 0
      },
      "text/plain": [
       "  0%|          | 0/15 [00:00<?, ?it/s]"
      ]
     },
     "metadata": {},
     "output_type": "display_data"
    },
    {
     "name": "stderr",
     "output_type": "stream",
     "text": [
      "[I 2025-03-02 20:43:51,124] Trial 20 finished with value: 0.5131544001793505 and parameters: {'factors': 20, 'alpha': 0.8238709070254209, 'regularization': 1.1095167000342583}. Best is trial 17 with value: 0.5193002964657133.\n"
     ]
    },
    {
     "data": {
      "application/vnd.jupyter.widget-view+json": {
       "model_id": "c36a05f3444b4408907aff4869a9efa8",
       "version_major": 2,
       "version_minor": 0
      },
      "text/plain": [
       "  0%|          | 0/15 [00:00<?, ?it/s]"
      ]
     },
     "metadata": {},
     "output_type": "display_data"
    },
    {
     "name": "stderr",
     "output_type": "stream",
     "text": [
      "[I 2025-03-02 20:43:52,528] Trial 22 finished with value: 0.5147157565321703 and parameters: {'factors': 20, 'alpha': 0.9964555755519539, 'regularization': 0.10054585794294482}. Best is trial 17 with value: 0.5193002964657133.\n",
      "[I 2025-03-02 20:43:54,255] Trial 23 finished with value: 0.5146197564603203 and parameters: {'factors': 20, 'alpha': 0.8584263242607956, 'regularization': 0.10175947416483674}. Best is trial 17 with value: 0.5193002964657133.\n",
      "[I 2025-03-02 20:44:04,498] Trial 25 finished with value: 0.5239380775172723 and parameters: {'factors': 10, 'alpha': 0.9718995952093528, 'regularization': 1.2163625649252656}. Best is trial 25 with value: 0.5239380775172723.\n",
      "[I 2025-03-02 20:44:04,669] Trial 24 finished with value: 0.5198742060594638 and parameters: {'factors': 12, 'alpha': 0.9908422026924799, 'regularization': 0.10533432091896963}. Best is trial 25 with value: 0.5239380775172723.\n",
      "[I 2025-03-02 20:44:06,768] Trial 26 finished with value: 0.5244663035083635 and parameters: {'factors': 10, 'alpha': 0.941980958409459, 'regularization': 4.984619318392864}. Best is trial 26 with value: 0.5244663035083635.\n",
      "[I 2025-03-02 20:44:07,056] Trial 27 finished with value: 0.4820876498615185 and parameters: {'factors': 11, 'alpha': 0.1454251326359344, 'regularization': 4.587384126656617}. Best is trial 26 with value: 0.5244663035083635.\n",
      "[I 2025-03-02 20:44:07,467] Trial 29 finished with value: 0.5208316818341652 and parameters: {'factors': 10, 'alpha': 0.5234120881235552, 'regularization': 4.800198589018753}. Best is trial 26 with value: 0.5244663035083635.\n",
      "[I 2025-03-02 20:44:07,874] Trial 28 finished with value: 0.518543068374815 and parameters: {'factors': 11, 'alpha': 0.6111364033076244, 'regularization': 4.666963536080443}. Best is trial 26 with value: 0.5244663035083635.\n"
     ]
    },
    {
     "name": "stdout",
     "output_type": "stream",
     "text": [
      "Лучшее значение: 0.5244663035083635\n",
      "Лучшие параметры: {'factors': 10, 'alpha': 0.941980958409459, 'regularization': 4.984619318392864}\n"
     ]
    },
    {
     "data": {
      "application/vnd.jupyter.widget-view+json": {
       "model_id": "f5357d8b8461440e85d2974b2c18bdad",
       "version_major": 2,
       "version_minor": 0
      },
      "text/plain": [
       "  0%|          | 0/15 [00:00<?, ?it/s]"
      ]
     },
     "metadata": {},
     "output_type": "display_data"
    }
   ],
   "source": [
    "study = optuna.create_study(direction=\"maximize\")\n",
    "study.optimize(lambda trial: objective_als(trial, interactions_bin_4, test_result), n_trials=30, n_jobs=-1)\n",
    "\n",
    "print(f\"Лучшее значение: {study.best_trial.value}\")\n",
    "print(f\"Лучшие параметры: {study.best_params}\")\n",
    "\n",
    "recs = make_als_recommendations(interactions_bin_4, **study.best_params)\n",
    "result(\"als_4\", recs, test_result)"
   ]
  },
  {
   "cell_type": "markdown",
   "id": "e4eded6e",
   "metadata": {},
   "source": [
    "5. Придумайте свой вариант(опционально)  \n",
    "Добавим сглаживание по времени на исходные рейтинги"
   ]
  },
  {
   "cell_type": "code",
   "execution_count": 166,
   "id": "377a32f3",
   "metadata": {},
   "outputs": [],
   "source": [
    "interactions_bin_5 = coo_interactions.copy()\n",
    "interactions_bin_5.data = interactions_bin_5.data * coo_time.data"
   ]
  },
  {
   "cell_type": "code",
   "execution_count": 167,
   "id": "49ca928f",
   "metadata": {},
   "outputs": [
    {
     "name": "stderr",
     "output_type": "stream",
     "text": [
      "[I 2025-03-02 20:44:46,617] A new study created in memory with name: no-name-28ebff0f-e942-4dcd-b67f-be5e0f4ae648\n",
      "[I 2025-03-02 20:44:48,320] Trial 0 finished with value: 0.5108900758774935 and parameters: {'n_singular_values': 22}. Best is trial 0 with value: 0.5108900758774935.\n",
      "[I 2025-03-02 20:44:49,855] Trial 1 finished with value: 0.5035694464167291 and parameters: {'n_singular_values': 49}. Best is trial 0 with value: 0.5108900758774935.\n",
      "[I 2025-03-02 20:44:50,892] Trial 5 finished with value: 0.506482977375844 and parameters: {'n_singular_values': 40}. Best is trial 0 with value: 0.5108900758774935.\n",
      "[I 2025-03-02 20:44:50,950] Trial 3 finished with value: 0.5101608754004485 and parameters: {'n_singular_values': 18}. Best is trial 0 with value: 0.5108900758774935.\n",
      "[I 2025-03-02 20:44:52,529] Trial 2 finished with value: 0.5049588787545727 and parameters: {'n_singular_values': 47}. Best is trial 0 with value: 0.5108900758774935.\n",
      "[I 2025-03-02 20:44:53,587] Trial 4 finished with value: 0.5061005291206733 and parameters: {'n_singular_values': 42}. Best is trial 0 with value: 0.5108900758774935.\n",
      "[I 2025-03-02 20:44:54,542] Trial 7 finished with value: 0.5041895464364333 and parameters: {'n_singular_values': 45}. Best is trial 0 with value: 0.5108900758774935.\n",
      "[I 2025-03-02 20:44:55,476] Trial 8 finished with value: 0.5182489540850514 and parameters: {'n_singular_values': 10}. Best is trial 8 with value: 0.5182489540850514.\n",
      "[I 2025-03-02 20:44:55,495] Trial 6 finished with value: 0.506482977375844 and parameters: {'n_singular_values': 40}. Best is trial 8 with value: 0.5182489540850514.\n",
      "[I 2025-03-02 20:44:56,404] Trial 9 finished with value: 0.5091073905673901 and parameters: {'n_singular_values': 32}. Best is trial 8 with value: 0.5182489540850514.\n",
      "[I 2025-03-02 20:44:56,858] Trial 10 finished with value: 0.511329062577464 and parameters: {'n_singular_values': 26}. Best is trial 8 with value: 0.5182489540850514.\n",
      "[I 2025-03-02 20:44:58,104] Trial 11 finished with value: 0.5041758653113932 and parameters: {'n_singular_values': 48}. Best is trial 8 with value: 0.5182489540850514.\n",
      "[I 2025-03-02 20:44:58,446] Trial 12 finished with value: 0.5142147158816964 and parameters: {'n_singular_values': 14}. Best is trial 8 with value: 0.5182489540850514.\n",
      "[I 2025-03-02 20:44:59,779] Trial 13 finished with value: 0.5067416655085647 and parameters: {'n_singular_values': 37}. Best is trial 8 with value: 0.5182489540850514.\n",
      "[I 2025-03-02 20:45:00,866] Trial 14 finished with value: 0.5065933211675929 and parameters: {'n_singular_values': 35}. Best is trial 8 with value: 0.5182489540850514.\n",
      "[I 2025-03-02 20:45:01,409] Trial 16 finished with value: 0.4832957068544611 and parameters: {'n_singular_values': 1}. Best is trial 8 with value: 0.5182489540850514.\n",
      "[I 2025-03-02 20:45:01,701] Trial 15 finished with value: 0.5086630346902666 and parameters: {'n_singular_values': 30}. Best is trial 8 with value: 0.5182489540850514.\n",
      "[I 2025-03-02 20:45:01,828] Trial 17 finished with value: 0.51862370617165 and parameters: {'n_singular_values': 5}. Best is trial 17 with value: 0.51862370617165.\n",
      "[I 2025-03-02 20:45:01,923] Trial 18 finished with value: 0.51862370617165 and parameters: {'n_singular_values': 5}. Best is trial 17 with value: 0.51862370617165.\n",
      "[I 2025-03-02 20:45:02,131] Trial 19 finished with value: 0.51862370617165 and parameters: {'n_singular_values': 5}. Best is trial 17 with value: 0.51862370617165.\n",
      "[I 2025-03-02 20:45:02,395] Trial 20 finished with value: 0.5257173760416223 and parameters: {'n_singular_values': 6}. Best is trial 20 with value: 0.5257173760416223.\n",
      "[I 2025-03-02 20:45:02,710] Trial 21 finished with value: 0.51862370617165 and parameters: {'n_singular_values': 5}. Best is trial 20 with value: 0.5257173760416223.\n",
      "[I 2025-03-02 20:45:02,823] Trial 22 finished with value: 0.5136712050174033 and parameters: {'n_singular_values': 4}. Best is trial 20 with value: 0.5257173760416223.\n",
      "[I 2025-03-02 20:45:03,184] Trial 23 finished with value: 0.5182489540850514 and parameters: {'n_singular_values': 10}. Best is trial 20 with value: 0.5257173760416223.\n",
      "[I 2025-03-02 20:45:04,256] Trial 26 finished with value: 0.5035628204534885 and parameters: {'n_singular_values': 3}. Best is trial 20 with value: 0.5257173760416223.\n",
      "[I 2025-03-02 20:45:04,305] Trial 24 finished with value: 0.5182489540850514 and parameters: {'n_singular_values': 10}. Best is trial 20 with value: 0.5257173760416223.\n",
      "[I 2025-03-02 20:45:04,536] Trial 27 finished with value: 0.5210933970587621 and parameters: {'n_singular_values': 8}. Best is trial 20 with value: 0.5257173760416223.\n",
      "[I 2025-03-02 20:45:04,767] Trial 25 finished with value: 0.51862370617165 and parameters: {'n_singular_values': 5}. Best is trial 20 with value: 0.5257173760416223.\n",
      "[I 2025-03-02 20:45:05,100] Trial 28 finished with value: 0.5233171148263236 and parameters: {'n_singular_values': 9}. Best is trial 20 with value: 0.5257173760416223.\n",
      "[I 2025-03-02 20:45:05,338] Trial 29 finished with value: 0.5152229596429202 and parameters: {'n_singular_values': 11}. Best is trial 20 with value: 0.5257173760416223.\n"
     ]
    },
    {
     "name": "stdout",
     "output_type": "stream",
     "text": [
      "Лучшее значение: 0.5257173760416223\n",
      "Лучшие параметры: {'n_singular_values': 6}\n"
     ]
    }
   ],
   "source": [
    "study = optuna.create_study(direction=\"maximize\")\n",
    "study.optimize(lambda trial: objective_svd(trial, interactions_bin_5, test_result), n_trials=30, n_jobs=-1)\n",
    "\n",
    "print(f\"Лучшее значение: {study.best_trial.value}\")\n",
    "print(f\"Лучшие параметры: {study.best_params}\")\n",
    "\n",
    "recs = make_svd_recommendations(interactions_bin_5, **study.best_params)\n",
    "result(\"svd_5\", recs, test_result)\n"
   ]
  },
  {
   "cell_type": "code",
   "execution_count": 168,
   "id": "990c273c",
   "metadata": {},
   "outputs": [
    {
     "name": "stderr",
     "output_type": "stream",
     "text": [
      "[I 2025-03-02 20:45:09,927] A new study created in memory with name: no-name-2917346a-41aa-4d45-a7c8-b756c2871c0d\n"
     ]
    },
    {
     "data": {
      "application/vnd.jupyter.widget-view+json": {
       "model_id": "01eb0029576f4ed2bdf56ac90211039f",
       "version_major": 2,
       "version_minor": 0
      },
      "text/plain": [
       "  0%|          | 0/15 [00:00<?, ?it/s]"
      ]
     },
     "metadata": {},
     "output_type": "display_data"
    },
    {
     "data": {
      "application/vnd.jupyter.widget-view+json": {
       "model_id": "ad5db57c3bbe4723afd7b2b14e334158",
       "version_major": 2,
       "version_minor": 0
      },
      "text/plain": [
       "  0%|          | 0/15 [00:00<?, ?it/s]"
      ]
     },
     "metadata": {},
     "output_type": "display_data"
    },
    {
     "data": {
      "application/vnd.jupyter.widget-view+json": {
       "model_id": "0f2a41d7360a4d909b5e11260419332d",
       "version_major": 2,
       "version_minor": 0
      },
      "text/plain": [
       "  0%|          | 0/15 [00:00<?, ?it/s]"
      ]
     },
     "metadata": {},
     "output_type": "display_data"
    },
    {
     "data": {
      "application/vnd.jupyter.widget-view+json": {
       "model_id": "31f9a2518943454eabd31eea2e148c97",
       "version_major": 2,
       "version_minor": 0
      },
      "text/plain": [
       "  0%|          | 0/15 [00:00<?, ?it/s]"
      ]
     },
     "metadata": {},
     "output_type": "display_data"
    },
    {
     "data": {
      "application/vnd.jupyter.widget-view+json": {
       "model_id": "3548d65c5b064fa59e0fa78b5e598cd7",
       "version_major": 2,
       "version_minor": 0
      },
      "text/plain": [
       "  0%|          | 0/15 [00:00<?, ?it/s]"
      ]
     },
     "metadata": {},
     "output_type": "display_data"
    },
    {
     "data": {
      "application/vnd.jupyter.widget-view+json": {
       "model_id": "069fb83990af41b7b548e897b26e8368",
       "version_major": 2,
       "version_minor": 0
      },
      "text/plain": [
       "  0%|          | 0/15 [00:00<?, ?it/s]"
      ]
     },
     "metadata": {},
     "output_type": "display_data"
    },
    {
     "data": {
      "application/vnd.jupyter.widget-view+json": {
       "model_id": "155e3197f5584cb4bf39dea046e1ca8a",
       "version_major": 2,
       "version_minor": 0
      },
      "text/plain": [
       "  0%|          | 0/15 [00:00<?, ?it/s]"
      ]
     },
     "metadata": {},
     "output_type": "display_data"
    },
    {
     "data": {
      "application/vnd.jupyter.widget-view+json": {
       "model_id": "53797160f403479fb77bdd37f05e025d",
       "version_major": 2,
       "version_minor": 0
      },
      "text/plain": [
       "  0%|          | 0/15 [00:00<?, ?it/s]"
      ]
     },
     "metadata": {},
     "output_type": "display_data"
    },
    {
     "name": "stderr",
     "output_type": "stream",
     "text": [
      "[I 2025-03-02 20:45:26,897] Trial 6 finished with value: 0.5075621010937895 and parameters: {'factors': 13, 'alpha': 0.6106879173836675, 'regularization': 0.1178046146976382}. Best is trial 6 with value: 0.5075621010937895.\n"
     ]
    },
    {
     "data": {
      "application/vnd.jupyter.widget-view+json": {
       "model_id": "37ec24474b7a4763bdb6a1771cdb1630",
       "version_major": 2,
       "version_minor": 0
      },
      "text/plain": [
       "  0%|          | 0/15 [00:00<?, ?it/s]"
      ]
     },
     "metadata": {},
     "output_type": "display_data"
    },
    {
     "name": "stderr",
     "output_type": "stream",
     "text": [
      "[I 2025-03-02 20:45:27,826] Trial 2 finished with value: 0.5022828248085063 and parameters: {'factors': 25, 'alpha': 0.06988039946219378, 'regularization': 0.9718631925050477}. Best is trial 6 with value: 0.5075621010937895.\n"
     ]
    },
    {
     "data": {
      "application/vnd.jupyter.widget-view+json": {
       "model_id": "cd0aefb08da84e0684032249e9dcd4ab",
       "version_major": 2,
       "version_minor": 0
      },
      "text/plain": [
       "  0%|          | 0/15 [00:00<?, ?it/s]"
      ]
     },
     "metadata": {},
     "output_type": "display_data"
    },
    {
     "name": "stderr",
     "output_type": "stream",
     "text": [
      "[I 2025-03-02 20:45:28,048] Trial 3 finished with value: 0.47218484008673645 and parameters: {'factors': 13, 'alpha': 0.0830559077228545, 'regularization': 4.099100442352673}. Best is trial 6 with value: 0.5075621010937895.\n"
     ]
    },
    {
     "data": {
      "application/vnd.jupyter.widget-view+json": {
       "model_id": "ef65ccac803e4eaa94251498b34ee36f",
       "version_major": 2,
       "version_minor": 0
      },
      "text/plain": [
       "  0%|          | 0/15 [00:00<?, ?it/s]"
      ]
     },
     "metadata": {},
     "output_type": "display_data"
    },
    {
     "name": "stderr",
     "output_type": "stream",
     "text": [
      "[I 2025-03-02 20:45:28,624] Trial 0 finished with value: 0.48851014261341164 and parameters: {'factors': 10, 'alpha': 0.01801068836450369, 'regularization': 0.9498764753815395}. Best is trial 6 with value: 0.5075621010937895.\n"
     ]
    },
    {
     "data": {
      "application/vnd.jupyter.widget-view+json": {
       "model_id": "66d197fa91dd42cd857561951c5a41d1",
       "version_major": 2,
       "version_minor": 0
      },
      "text/plain": [
       "  0%|          | 0/15 [00:00<?, ?it/s]"
      ]
     },
     "metadata": {},
     "output_type": "display_data"
    },
    {
     "name": "stderr",
     "output_type": "stream",
     "text": [
      "[I 2025-03-02 20:45:30,552] Trial 7 finished with value: 0.5001923471777832 and parameters: {'factors': 19, 'alpha': 0.8902798532243323, 'regularization': 1.7850088505793118}. Best is trial 6 with value: 0.5075621010937895.\n"
     ]
    },
    {
     "data": {
      "application/vnd.jupyter.widget-view+json": {
       "model_id": "9342ed27182642258970cb4c4bf10259",
       "version_major": 2,
       "version_minor": 0
      },
      "text/plain": [
       "  0%|          | 0/15 [00:00<?, ?it/s]"
      ]
     },
     "metadata": {},
     "output_type": "display_data"
    },
    {
     "name": "stderr",
     "output_type": "stream",
     "text": [
      "[I 2025-03-02 20:45:31,172] Trial 5 finished with value: 0.4979372643595633 and parameters: {'factors': 30, 'alpha': 0.719415932377092, 'regularization': 0.18760424291996358}. Best is trial 6 with value: 0.5075621010937895.\n"
     ]
    },
    {
     "data": {
      "application/vnd.jupyter.widget-view+json": {
       "model_id": "be1e6888768e4f20af13dc2db056bb8c",
       "version_major": 2,
       "version_minor": 0
      },
      "text/plain": [
       "  0%|          | 0/15 [00:00<?, ?it/s]"
      ]
     },
     "metadata": {},
     "output_type": "display_data"
    },
    {
     "name": "stderr",
     "output_type": "stream",
     "text": [
      "[I 2025-03-02 20:45:32,168] Trial 1 finished with value: 0.5029420675495181 and parameters: {'factors': 25, 'alpha': 0.47576412169446175, 'regularization': 0.11174785051045533}. Best is trial 6 with value: 0.5075621010937895.\n"
     ]
    },
    {
     "data": {
      "application/vnd.jupyter.widget-view+json": {
       "model_id": "9127702517a74f8dbd6852bdbdf03297",
       "version_major": 2,
       "version_minor": 0
      },
      "text/plain": [
       "  0%|          | 0/15 [00:00<?, ?it/s]"
      ]
     },
     "metadata": {},
     "output_type": "display_data"
    },
    {
     "name": "stderr",
     "output_type": "stream",
     "text": [
      "[I 2025-03-02 20:45:35,577] Trial 4 finished with value: 0.4802787262870675 and parameters: {'factors': 50, 'alpha': 0.08502819788847542, 'regularization': 0.95127277105073}. Best is trial 6 with value: 0.5075621010937895.\n"
     ]
    },
    {
     "data": {
      "application/vnd.jupyter.widget-view+json": {
       "model_id": "ba51bf505246496ca271d202ebb9a335",
       "version_major": 2,
       "version_minor": 0
      },
      "text/plain": [
       "  0%|          | 0/15 [00:00<?, ?it/s]"
      ]
     },
     "metadata": {},
     "output_type": "display_data"
    },
    {
     "name": "stderr",
     "output_type": "stream",
     "text": [
      "[I 2025-03-02 20:45:47,746] Trial 10 finished with value: 0.49662444073602674 and parameters: {'factors': 39, 'alpha': 0.8048161365918314, 'regularization': 0.42391831781692757}. Best is trial 6 with value: 0.5075621010937895.\n"
     ]
    },
    {
     "data": {
      "application/vnd.jupyter.widget-view+json": {
       "model_id": "5d4ca3175fcc4818b1f4488799fb9d43",
       "version_major": 2,
       "version_minor": 0
      },
      "text/plain": [
       "  0%|          | 0/15 [00:00<?, ?it/s]"
      ]
     },
     "metadata": {},
     "output_type": "display_data"
    },
    {
     "name": "stderr",
     "output_type": "stream",
     "text": [
      "[I 2025-03-02 20:45:48,111] Trial 9 finished with value: 0.47697457545029576 and parameters: {'factors': 21, 'alpha': 0.046662306404255886, 'regularization': 0.23246005700102115}. Best is trial 6 with value: 0.5075621010937895.\n"
     ]
    },
    {
     "data": {
      "application/vnd.jupyter.widget-view+json": {
       "model_id": "f8bf8188df434e718b39ed442a938fa4",
       "version_major": 2,
       "version_minor": 0
      },
      "text/plain": [
       "  0%|          | 0/15 [00:00<?, ?it/s]"
      ]
     },
     "metadata": {},
     "output_type": "display_data"
    },
    {
     "name": "stderr",
     "output_type": "stream",
     "text": [
      "[I 2025-03-02 20:45:49,788] Trial 12 finished with value: 0.49655033521171443 and parameters: {'factors': 12, 'alpha': 0.08769605531446892, 'regularization': 3.5280446829034586}. Best is trial 6 with value: 0.5075621010937895.\n"
     ]
    },
    {
     "data": {
      "application/vnd.jupyter.widget-view+json": {
       "model_id": "f34d9c4f0cd249b7956586fa76ad968d",
       "version_major": 2,
       "version_minor": 0
      },
      "text/plain": [
       "  0%|          | 0/15 [00:00<?, ?it/s]"
      ]
     },
     "metadata": {},
     "output_type": "display_data"
    },
    {
     "name": "stderr",
     "output_type": "stream",
     "text": [
      "[I 2025-03-02 20:45:50,232] Trial 14 finished with value: 0.4832957068544611 and parameters: {'factors': 11, 'alpha': 0.029144556434722038, 'regularization': 1.7904107344345936}. Best is trial 6 with value: 0.5075621010937895.\n"
     ]
    },
    {
     "data": {
      "application/vnd.jupyter.widget-view+json": {
       "model_id": "dca2be71c6c44d389f16e1a88b8805c8",
       "version_major": 2,
       "version_minor": 0
      },
      "text/plain": [
       "  0%|          | 0/15 [00:00<?, ?it/s]"
      ]
     },
     "metadata": {},
     "output_type": "display_data"
    },
    {
     "name": "stderr",
     "output_type": "stream",
     "text": [
      "[I 2025-03-02 20:45:51,073] Trial 11 finished with value: 0.45375525000645656 and parameters: {'factors': 45, 'alpha': 0.06836355746984481, 'regularization': 0.1705603228035316}. Best is trial 6 with value: 0.5075621010937895.\n"
     ]
    },
    {
     "data": {
      "application/vnd.jupyter.widget-view+json": {
       "model_id": "31994f7bffe641bebe5fa4db08a6f943",
       "version_major": 2,
       "version_minor": 0
      },
      "text/plain": [
       "  0%|          | 0/15 [00:00<?, ?it/s]"
      ]
     },
     "metadata": {},
     "output_type": "display_data"
    },
    {
     "name": "stderr",
     "output_type": "stream",
     "text": [
      "[I 2025-03-02 20:45:51,529] Trial 8 finished with value: 0.46469945871321505 and parameters: {'factors': 37, 'alpha': 0.0781308549600031, 'regularization': 0.21377086960084304}. Best is trial 6 with value: 0.5075621010937895.\n"
     ]
    },
    {
     "data": {
      "application/vnd.jupyter.widget-view+json": {
       "model_id": "033e6505e17d4c87902b242e18a37aba",
       "version_major": 2,
       "version_minor": 0
      },
      "text/plain": [
       "  0%|          | 0/15 [00:00<?, ?it/s]"
      ]
     },
     "metadata": {},
     "output_type": "display_data"
    },
    {
     "name": "stderr",
     "output_type": "stream",
     "text": [
      "[I 2025-03-02 20:45:52,523] Trial 13 finished with value: 0.495457300143444 and parameters: {'factors': 46, 'alpha': 0.40415397929374824, 'regularization': 0.42708429295179323}. Best is trial 6 with value: 0.5075621010937895.\n"
     ]
    },
    {
     "data": {
      "application/vnd.jupyter.widget-view+json": {
       "model_id": "31d911e9c79c4100aafd900216c45a06",
       "version_major": 2,
       "version_minor": 0
      },
      "text/plain": [
       "  0%|          | 0/15 [00:00<?, ?it/s]"
      ]
     },
     "metadata": {},
     "output_type": "display_data"
    },
    {
     "name": "stderr",
     "output_type": "stream",
     "text": [
      "[I 2025-03-02 20:45:58,758] Trial 15 finished with value: 0.4746078286184286 and parameters: {'factors': 40, 'alpha': 0.05077095327142531, 'regularization': 1.551208935190556}. Best is trial 6 with value: 0.5075621010937895.\n"
     ]
    },
    {
     "data": {
      "application/vnd.jupyter.widget-view+json": {
       "model_id": "eff20aa0d26f43359a249917bb9a9709",
       "version_major": 2,
       "version_minor": 0
      },
      "text/plain": [
       "  0%|          | 0/15 [00:00<?, ?it/s]"
      ]
     },
     "metadata": {},
     "output_type": "display_data"
    },
    {
     "name": "stderr",
     "output_type": "stream",
     "text": [
      "[I 2025-03-02 20:46:07,043] Trial 16 finished with value: 0.5053433680785168 and parameters: {'factors': 15, 'alpha': 0.47684002069093306, 'regularization': 0.8998879068519126}. Best is trial 6 with value: 0.5075621010937895.\n"
     ]
    },
    {
     "data": {
      "application/vnd.jupyter.widget-view+json": {
       "model_id": "4a047d6c03b849dcb926e9106563368c",
       "version_major": 2,
       "version_minor": 0
      },
      "text/plain": [
       "  0%|          | 0/15 [00:00<?, ?it/s]"
      ]
     },
     "metadata": {},
     "output_type": "display_data"
    },
    {
     "name": "stderr",
     "output_type": "stream",
     "text": [
      "[I 2025-03-02 20:46:09,916] Trial 17 finished with value: 0.4853197706851902 and parameters: {'factors': 39, 'alpha': 0.21840904789267163, 'regularization': 0.36322088003329056}. Best is trial 6 with value: 0.5075621010937895.\n"
     ]
    },
    {
     "data": {
      "application/vnd.jupyter.widget-view+json": {
       "model_id": "8216d1ad90a741cbabf34095e4064d40",
       "version_major": 2,
       "version_minor": 0
      },
      "text/plain": [
       "  0%|          | 0/15 [00:00<?, ?it/s]"
      ]
     },
     "metadata": {},
     "output_type": "display_data"
    },
    {
     "name": "stderr",
     "output_type": "stream",
     "text": [
      "[I 2025-03-02 20:46:11,314] Trial 19 finished with value: 0.49521977948660123 and parameters: {'factors': 37, 'alpha': 0.2937103038863392, 'regularization': 0.12742731447021133}. Best is trial 6 with value: 0.5075621010937895.\n"
     ]
    },
    {
     "data": {
      "application/vnd.jupyter.widget-view+json": {
       "model_id": "7024cf6d66e14725a94a3bcb9af4879b",
       "version_major": 2,
       "version_minor": 0
      },
      "text/plain": [
       "  0%|          | 0/15 [00:00<?, ?it/s]"
      ]
     },
     "metadata": {},
     "output_type": "display_data"
    },
    {
     "name": "stderr",
     "output_type": "stream",
     "text": [
      "[I 2025-03-02 20:46:12,095] Trial 22 finished with value: 0.4981353597706278 and parameters: {'factors': 19, 'alpha': 0.23386356740903935, 'regularization': 0.11408837666112741}. Best is trial 6 with value: 0.5075621010937895.\n"
     ]
    },
    {
     "data": {
      "application/vnd.jupyter.widget-view+json": {
       "model_id": "14312740ed1a465e8bf6872d82092215",
       "version_major": 2,
       "version_minor": 0
      },
      "text/plain": [
       "  0%|          | 0/15 [00:00<?, ?it/s]"
      ]
     },
     "metadata": {},
     "output_type": "display_data"
    },
    {
     "name": "stderr",
     "output_type": "stream",
     "text": [
      "[I 2025-03-02 20:46:12,825] Trial 21 finished with value: 0.4983152887394425 and parameters: {'factors': 19, 'alpha': 0.26559965274335123, 'regularization': 0.1026845109902056}. Best is trial 6 with value: 0.5075621010937895.\n"
     ]
    },
    {
     "data": {
      "application/vnd.jupyter.widget-view+json": {
       "model_id": "e9983dabca3342c59e0f2ce248488e1d",
       "version_major": 2,
       "version_minor": 0
      },
      "text/plain": [
       "  0%|          | 0/15 [00:00<?, ?it/s]"
      ]
     },
     "metadata": {},
     "output_type": "display_data"
    },
    {
     "name": "stderr",
     "output_type": "stream",
     "text": [
      "[I 2025-03-02 20:46:14,576] Trial 18 finished with value: 0.4926416129200997 and parameters: {'factors': 37, 'alpha': 0.29120005592860837, 'regularization': 0.11505955915071701}. Best is trial 6 with value: 0.5075621010937895.\n"
     ]
    },
    {
     "data": {
      "application/vnd.jupyter.widget-view+json": {
       "model_id": "0953dd8e664a41bd95eeae60860edabf",
       "version_major": 2,
       "version_minor": 0
      },
      "text/plain": [
       "  0%|          | 0/15 [00:00<?, ?it/s]"
      ]
     },
     "metadata": {},
     "output_type": "display_data"
    },
    {
     "name": "stderr",
     "output_type": "stream",
     "text": [
      "[I 2025-03-02 20:46:15,346] Trial 20 finished with value: 0.49339627080769144 and parameters: {'factors': 35, 'alpha': 0.25810586937263535, 'regularization': 0.3258377794693238}. Best is trial 6 with value: 0.5075621010937895.\n",
      "[I 2025-03-02 20:46:19,519] Trial 23 finished with value: 0.4992669186830909 and parameters: {'factors': 18, 'alpha': 0.24437695905705487, 'regularization': 0.11484870169885238}. Best is trial 6 with value: 0.5075621010937895.\n",
      "[I 2025-03-02 20:46:25,781] Trial 25 finished with value: 0.4964988642285846 and parameters: {'factors': 17, 'alpha': 0.18769017758621204, 'regularization': 0.5398353589035646}. Best is trial 6 with value: 0.5075621010937895.\n",
      "[I 2025-03-02 20:46:25,983] Trial 24 finished with value: 0.49456573512838015 and parameters: {'factors': 18, 'alpha': 0.17683101182153663, 'regularization': 0.500442545013699}. Best is trial 6 with value: 0.5075621010937895.\n",
      "[I 2025-03-02 20:46:27,043] Trial 27 finished with value: 0.4978956386776576 and parameters: {'factors': 14, 'alpha': 0.1808322698708454, 'regularization': 0.6056683502101434}. Best is trial 6 with value: 0.5075621010937895.\n",
      "[I 2025-03-02 20:46:28,151] Trial 28 finished with value: 0.5018957716374094 and parameters: {'factors': 28, 'alpha': 0.4754503191650211, 'regularization': 0.6019357430235317}. Best is trial 6 with value: 0.5075621010937895.\n",
      "[I 2025-03-02 20:46:28,366] Trial 29 finished with value: 0.5021547505068273 and parameters: {'factors': 27, 'alpha': 0.5300791524138361, 'regularization': 0.5810169027391291}. Best is trial 6 with value: 0.5075621010937895.\n",
      "[I 2025-03-02 20:46:28,438] Trial 26 finished with value: 0.4951509405354398 and parameters: {'factors': 17, 'alpha': 0.17945502836644442, 'regularization': 0.6209121115272206}. Best is trial 6 with value: 0.5075621010937895.\n"
     ]
    },
    {
     "name": "stdout",
     "output_type": "stream",
     "text": [
      "Лучшее значение: 0.5075621010937895\n",
      "Лучшие параметры: {'factors': 13, 'alpha': 0.6106879173836675, 'regularization': 0.1178046146976382}\n"
     ]
    },
    {
     "data": {
      "application/vnd.jupyter.widget-view+json": {
       "model_id": "dd4065d3f1ef49b1aa3e0275e668dbbd",
       "version_major": 2,
       "version_minor": 0
      },
      "text/plain": [
       "  0%|          | 0/15 [00:00<?, ?it/s]"
      ]
     },
     "metadata": {},
     "output_type": "display_data"
    }
   ],
   "source": [
    "study = optuna.create_study(direction=\"maximize\")\n",
    "study.optimize(lambda trial: objective_als(trial, interactions_bin_5, test_result), n_trials=30, n_jobs=-1)\n",
    "\n",
    "print(f\"Лучшее значение: {study.best_trial.value}\")\n",
    "print(f\"Лучшие параметры: {study.best_params}\")\n",
    "\n",
    "recs = make_als_recommendations(interactions_bin_5, **study.best_params)\n",
    "result(\"als_5\", recs, test_result)"
   ]
  },
  {
   "cell_type": "code",
   "execution_count": 169,
   "id": "00dba8f5",
   "metadata": {},
   "outputs": [
    {
     "data": {
      "text/html": [
       "<div>\n",
       "<style scoped>\n",
       "    .dataframe tbody tr th:only-of-type {\n",
       "        vertical-align: middle;\n",
       "    }\n",
       "\n",
       "    .dataframe tbody tr th {\n",
       "        vertical-align: top;\n",
       "    }\n",
       "\n",
       "    .dataframe thead th {\n",
       "        text-align: right;\n",
       "    }\n",
       "</style>\n",
       "<table border=\"1\" class=\"dataframe\">\n",
       "  <thead>\n",
       "    <tr style=\"text-align: right;\">\n",
       "      <th></th>\n",
       "      <th>user_id</th>\n",
       "      <th>item_ratings</th>\n",
       "      <th>optuna_svd</th>\n",
       "      <th>svd_base</th>\n",
       "      <th>optuna_als</th>\n",
       "      <th>als_base</th>\n",
       "      <th>svd_1</th>\n",
       "      <th>als_1</th>\n",
       "      <th>svd_2</th>\n",
       "      <th>als_2</th>\n",
       "      <th>svd_3</th>\n",
       "      <th>als_3</th>\n",
       "      <th>svd_4</th>\n",
       "      <th>als_4</th>\n",
       "      <th>svd_5</th>\n",
       "      <th>als_5</th>\n",
       "    </tr>\n",
       "  </thead>\n",
       "  <tbody>\n",
       "    <tr>\n",
       "      <th>0</th>\n",
       "      <td>0</td>\n",
       "      <td>{959: 2, 2992: 3, 3004: 3, 1242: 3, 2251: 3, 9...</td>\n",
       "      <td>0.676244</td>\n",
       "      <td>0.645899</td>\n",
       "      <td>0.476259</td>\n",
       "      <td>0.681705</td>\n",
       "      <td>0.641329</td>\n",
       "      <td>0.395872</td>\n",
       "      <td>0.662146</td>\n",
       "      <td>0.658802</td>\n",
       "      <td>0.362572</td>\n",
       "      <td>0.653839</td>\n",
       "      <td>0.365966</td>\n",
       "      <td>0.683492</td>\n",
       "      <td>0.462672</td>\n",
       "      <td>0.685227</td>\n",
       "    </tr>\n",
       "    <tr>\n",
       "      <th>1</th>\n",
       "      <td>1</td>\n",
       "      <td>{3005: 3, 2346: 3, 2490: 3, 2742: 3, 2747: 3, ...</td>\n",
       "      <td>0.896725</td>\n",
       "      <td>0.922113</td>\n",
       "      <td>0.884724</td>\n",
       "      <td>0.915020</td>\n",
       "      <td>0.910930</td>\n",
       "      <td>0.894766</td>\n",
       "      <td>0.906946</td>\n",
       "      <td>0.896067</td>\n",
       "      <td>0.870578</td>\n",
       "      <td>0.878459</td>\n",
       "      <td>0.876842</td>\n",
       "      <td>0.894996</td>\n",
       "      <td>0.911647</td>\n",
       "      <td>0.901830</td>\n",
       "    </tr>\n",
       "    <tr>\n",
       "      <th>2</th>\n",
       "      <td>3</td>\n",
       "      <td>{2995: 1, 839: 1, 1848: 3, 2780: 3, 961: 4, 92...</td>\n",
       "      <td>0.000000</td>\n",
       "      <td>0.000000</td>\n",
       "      <td>0.203795</td>\n",
       "      <td>0.188732</td>\n",
       "      <td>0.000000</td>\n",
       "      <td>0.000000</td>\n",
       "      <td>0.209753</td>\n",
       "      <td>0.156021</td>\n",
       "      <td>0.286395</td>\n",
       "      <td>0.157732</td>\n",
       "      <td>0.273757</td>\n",
       "      <td>0.151517</td>\n",
       "      <td>0.000000</td>\n",
       "      <td>0.187902</td>\n",
       "    </tr>\n",
       "    <tr>\n",
       "      <th>3</th>\n",
       "      <td>4</td>\n",
       "      <td>{580: 5, 665: 5, 666: 5, 1203: 5, 510: 5, 2097...</td>\n",
       "      <td>0.434631</td>\n",
       "      <td>0.476432</td>\n",
       "      <td>0.378857</td>\n",
       "      <td>0.501301</td>\n",
       "      <td>0.492133</td>\n",
       "      <td>0.441820</td>\n",
       "      <td>0.552162</td>\n",
       "      <td>0.440461</td>\n",
       "      <td>0.453202</td>\n",
       "      <td>0.424037</td>\n",
       "      <td>0.451781</td>\n",
       "      <td>0.412844</td>\n",
       "      <td>0.503193</td>\n",
       "      <td>0.434914</td>\n",
       "    </tr>\n",
       "    <tr>\n",
       "      <th>4</th>\n",
       "      <td>6</td>\n",
       "      <td>{1526: 1, 1536: 1, 742: 1, 162: 1, 525: 1, 113...</td>\n",
       "      <td>0.918703</td>\n",
       "      <td>0.921474</td>\n",
       "      <td>0.891724</td>\n",
       "      <td>0.937018</td>\n",
       "      <td>0.926288</td>\n",
       "      <td>0.902997</td>\n",
       "      <td>0.921391</td>\n",
       "      <td>0.904860</td>\n",
       "      <td>0.904526</td>\n",
       "      <td>0.900100</td>\n",
       "      <td>0.900782</td>\n",
       "      <td>0.900901</td>\n",
       "      <td>0.916734</td>\n",
       "      <td>0.925321</td>\n",
       "    </tr>\n",
       "    <tr>\n",
       "      <th>...</th>\n",
       "      <td>...</td>\n",
       "      <td>...</td>\n",
       "      <td>...</td>\n",
       "      <td>...</td>\n",
       "      <td>...</td>\n",
       "      <td>...</td>\n",
       "      <td>...</td>\n",
       "      <td>...</td>\n",
       "      <td>...</td>\n",
       "      <td>...</td>\n",
       "      <td>...</td>\n",
       "      <td>...</td>\n",
       "      <td>...</td>\n",
       "      <td>...</td>\n",
       "      <td>...</td>\n",
       "      <td>...</td>\n",
       "    </tr>\n",
       "    <tr>\n",
       "      <th>1142</th>\n",
       "      <td>5325</td>\n",
       "      <td>{496: 2, 1084: 2, 2791: 2, 1032: 2, 134: 2, 21...</td>\n",
       "      <td>0.440920</td>\n",
       "      <td>0.435402</td>\n",
       "      <td>0.537495</td>\n",
       "      <td>0.449388</td>\n",
       "      <td>0.518107</td>\n",
       "      <td>0.517782</td>\n",
       "      <td>0.424625</td>\n",
       "      <td>0.406590</td>\n",
       "      <td>0.354817</td>\n",
       "      <td>0.400670</td>\n",
       "      <td>0.362133</td>\n",
       "      <td>0.412802</td>\n",
       "      <td>0.420494</td>\n",
       "      <td>0.634163</td>\n",
       "    </tr>\n",
       "    <tr>\n",
       "      <th>1143</th>\n",
       "      <td>5326</td>\n",
       "      <td>{2394: 2, 2411: 2, 664: 3, 2610: 3, 850: 3, 16...</td>\n",
       "      <td>0.602222</td>\n",
       "      <td>0.611227</td>\n",
       "      <td>0.632784</td>\n",
       "      <td>0.607165</td>\n",
       "      <td>0.560950</td>\n",
       "      <td>0.534399</td>\n",
       "      <td>0.582924</td>\n",
       "      <td>0.604847</td>\n",
       "      <td>0.668776</td>\n",
       "      <td>0.632022</td>\n",
       "      <td>0.668542</td>\n",
       "      <td>0.616281</td>\n",
       "      <td>0.604195</td>\n",
       "      <td>0.589205</td>\n",
       "    </tr>\n",
       "    <tr>\n",
       "      <th>1144</th>\n",
       "      <td>5340</td>\n",
       "      <td>{1111: 1, 2939: 1, 1527: 2, 676: 2, 682: 2, 13...</td>\n",
       "      <td>0.571279</td>\n",
       "      <td>0.562295</td>\n",
       "      <td>0.589100</td>\n",
       "      <td>0.603536</td>\n",
       "      <td>0.610448</td>\n",
       "      <td>0.510082</td>\n",
       "      <td>0.255860</td>\n",
       "      <td>0.492923</td>\n",
       "      <td>0.224678</td>\n",
       "      <td>0.419913</td>\n",
       "      <td>0.220965</td>\n",
       "      <td>0.409504</td>\n",
       "      <td>0.550290</td>\n",
       "      <td>0.578857</td>\n",
       "    </tr>\n",
       "    <tr>\n",
       "      <th>1145</th>\n",
       "      <td>5352</td>\n",
       "      <td>{2279: 4}</td>\n",
       "      <td>0.000000</td>\n",
       "      <td>0.000000</td>\n",
       "      <td>0.000000</td>\n",
       "      <td>0.000000</td>\n",
       "      <td>0.000000</td>\n",
       "      <td>0.000000</td>\n",
       "      <td>0.000000</td>\n",
       "      <td>0.000000</td>\n",
       "      <td>0.000000</td>\n",
       "      <td>0.000000</td>\n",
       "      <td>0.000000</td>\n",
       "      <td>0.000000</td>\n",
       "      <td>0.000000</td>\n",
       "      <td>0.000000</td>\n",
       "    </tr>\n",
       "    <tr>\n",
       "      <th>1146</th>\n",
       "      <td>5364</td>\n",
       "      <td>{2588: 3, 947: 3, 126: 3, 1307: 3, 1532: 4, 19...</td>\n",
       "      <td>0.623344</td>\n",
       "      <td>0.662904</td>\n",
       "      <td>0.657047</td>\n",
       "      <td>0.666415</td>\n",
       "      <td>0.672736</td>\n",
       "      <td>0.719175</td>\n",
       "      <td>0.570996</td>\n",
       "      <td>0.641332</td>\n",
       "      <td>0.585395</td>\n",
       "      <td>0.631395</td>\n",
       "      <td>0.590218</td>\n",
       "      <td>0.627002</td>\n",
       "      <td>0.611300</td>\n",
       "      <td>0.682718</td>\n",
       "    </tr>\n",
       "  </tbody>\n",
       "</table>\n",
       "<p>1147 rows × 16 columns</p>\n",
       "</div>"
      ],
      "text/plain": [
       "      user_id                                       item_ratings  optuna_svd  \\\n",
       "0           0  {959: 2, 2992: 3, 3004: 3, 1242: 3, 2251: 3, 9...    0.676244   \n",
       "1           1  {3005: 3, 2346: 3, 2490: 3, 2742: 3, 2747: 3, ...    0.896725   \n",
       "2           3  {2995: 1, 839: 1, 1848: 3, 2780: 3, 961: 4, 92...    0.000000   \n",
       "3           4  {580: 5, 665: 5, 666: 5, 1203: 5, 510: 5, 2097...    0.434631   \n",
       "4           6  {1526: 1, 1536: 1, 742: 1, 162: 1, 525: 1, 113...    0.918703   \n",
       "...       ...                                                ...         ...   \n",
       "1142     5325  {496: 2, 1084: 2, 2791: 2, 1032: 2, 134: 2, 21...    0.440920   \n",
       "1143     5326  {2394: 2, 2411: 2, 664: 3, 2610: 3, 850: 3, 16...    0.602222   \n",
       "1144     5340  {1111: 1, 2939: 1, 1527: 2, 676: 2, 682: 2, 13...    0.571279   \n",
       "1145     5352                                          {2279: 4}    0.000000   \n",
       "1146     5364  {2588: 3, 947: 3, 126: 3, 1307: 3, 1532: 4, 19...    0.623344   \n",
       "\n",
       "      svd_base  optuna_als  als_base     svd_1     als_1     svd_2     als_2  \\\n",
       "0     0.645899    0.476259  0.681705  0.641329  0.395872  0.662146  0.658802   \n",
       "1     0.922113    0.884724  0.915020  0.910930  0.894766  0.906946  0.896067   \n",
       "2     0.000000    0.203795  0.188732  0.000000  0.000000  0.209753  0.156021   \n",
       "3     0.476432    0.378857  0.501301  0.492133  0.441820  0.552162  0.440461   \n",
       "4     0.921474    0.891724  0.937018  0.926288  0.902997  0.921391  0.904860   \n",
       "...        ...         ...       ...       ...       ...       ...       ...   \n",
       "1142  0.435402    0.537495  0.449388  0.518107  0.517782  0.424625  0.406590   \n",
       "1143  0.611227    0.632784  0.607165  0.560950  0.534399  0.582924  0.604847   \n",
       "1144  0.562295    0.589100  0.603536  0.610448  0.510082  0.255860  0.492923   \n",
       "1145  0.000000    0.000000  0.000000  0.000000  0.000000  0.000000  0.000000   \n",
       "1146  0.662904    0.657047  0.666415  0.672736  0.719175  0.570996  0.641332   \n",
       "\n",
       "         svd_3     als_3     svd_4     als_4     svd_5     als_5  \n",
       "0     0.362572  0.653839  0.365966  0.683492  0.462672  0.685227  \n",
       "1     0.870578  0.878459  0.876842  0.894996  0.911647  0.901830  \n",
       "2     0.286395  0.157732  0.273757  0.151517  0.000000  0.187902  \n",
       "3     0.453202  0.424037  0.451781  0.412844  0.503193  0.434914  \n",
       "4     0.904526  0.900100  0.900782  0.900901  0.916734  0.925321  \n",
       "...        ...       ...       ...       ...       ...       ...  \n",
       "1142  0.354817  0.400670  0.362133  0.412802  0.420494  0.634163  \n",
       "1143  0.668776  0.632022  0.668542  0.616281  0.604195  0.589205  \n",
       "1144  0.224678  0.419913  0.220965  0.409504  0.550290  0.578857  \n",
       "1145  0.000000  0.000000  0.000000  0.000000  0.000000  0.000000  \n",
       "1146  0.585395  0.631395  0.590218  0.627002  0.611300  0.682718  \n",
       "\n",
       "[1147 rows x 16 columns]"
      ]
     },
     "execution_count": 169,
     "metadata": {},
     "output_type": "execute_result"
    }
   ],
   "source": [
    "test_result"
   ]
  },
  {
   "cell_type": "code",
   "execution_count": 170,
   "id": "2077a891",
   "metadata": {},
   "outputs": [
    {
     "name": "stdout",
     "output_type": "stream",
     "text": [
      "optuna_svd          : 0.5152\n",
      "svd_base            : 0.5227\n",
      "optuna_als          : 0.4952\n",
      "als_base            : 0.5139\n",
      "svd_1               : 0.5046\n",
      "als_1               : 0.5050\n",
      "svd_2               : 0.4804\n",
      "als_2               : 0.5157\n",
      "svd_3               : 0.4964\n",
      "als_3               : 0.5191\n",
      "svd_4               : 0.4996\n",
      "als_4               : 0.5256\n",
      "svd_5               : 0.5257\n",
      "als_5               : 0.5075\n"
     ]
    }
   ],
   "source": [
    "ndcs_cols = test_result.columns[2:].to_list()\n",
    "for col in ndcs_cols:\n",
    "    print(f\"{col:20s}: {test_result[col].mean():.4f}\")"
   ]
  },
  {
   "cell_type": "markdown",
   "id": "ee7a03b1-5072-4bc4-ba46-1fc3c989b888",
   "metadata": {},
   "source": [
    "##### Задание 5. iALS на numpy/torch. Давайте реализуем алгоритм iALS на нумпае или торче. Требуется реализовать алгорит, описанный в 4 части [статьи](http://yifanhu.net/PUB/cf.pdf). Обратите внимания на все оптимизации, которые они описывают в статье, чтобы сократить лишние вычисления. Hint: метрики у вашего алгоритма должны быть сравнимы с метриками ALS из библиотеки implicit"
   ]
  },
  {
   "cell_type": "code",
   "execution_count": 171,
   "id": "9fed3656",
   "metadata": {},
   "outputs": [],
   "source": [
    "import numpy as np\n",
    "from scipy.sparse import csr_matrix\n",
    "\n",
    "class iALS:\n",
    "    def __init__(self, n_factors: int = 100, alpha: float = 1.0, reg_coef: float = 0.01, threshold: float = 0.0):\n",
    "        self.n_factors = n_factors\n",
    "        self.alpha = alpha\n",
    "        self.reg_coef = reg_coef\n",
    "        self.threshold = threshold\n",
    "        self.user_factors = None\n",
    "        self.item_factors = None\n",
    "\n",
    "    def fit(self, interactions: np.ndarray, n_iterations: int = 10):\n",
    "        binary_interactions = (interactions > self.threshold).astype(float)\n",
    "        self.interactions = csr_matrix(binary_interactions)\n",
    "        \n",
    "        n_users, n_items = self.interactions.shape\n",
    "\n",
    "        self.user_factors = np.random.rand(n_users, self.n_factors)\n",
    "        self.item_factors = np.random.rand(n_items, self.n_factors)\n",
    "        \n",
    "        I = np.eye(self.n_factors)\n",
    "\n",
    "        for _ in range(n_iterations):\n",
    "            for u in range(n_users):\n",
    "                indices = self.interactions[u].indices\n",
    "                if len(indices) == 0:\n",
    "                    continue\n",
    "                C_u = 1 + self.alpha * interactions[u, indices].flatten()\n",
    "                P_u = np.diag(C_u)  \n",
    "                A = self.item_factors[indices].T @ P_u @ self.item_factors[indices] + self.reg_coef * I\n",
    "                b = self.item_factors[indices].T @ (C_u)\n",
    "                self.user_factors[u] = np.linalg.solve(A, b)\n",
    "            \n",
    "            for i in range(n_items):\n",
    "                indices = self.interactions[:, i].indices\n",
    "                if len(indices) == 0:\n",
    "                    continue\n",
    "                C_i = 1 + self.alpha * interactions[indices, i].flatten()\n",
    "                P_i = np.diag(C_i)\n",
    "                A = self.user_factors[indices].T @ P_i @ self.user_factors[indices] + self.reg_coef * I\n",
    "                b = self.user_factors[indices].T @ (C_i)\n",
    "                self.item_factors[i] = np.linalg.solve(A, b)\n",
    "    \n",
    "    def predict(self, top_k: int = 100):\n",
    "        scores = self.user_factors @ self.item_factors.T\n",
    "        mask = self.interactions.toarray() > 0\n",
    "        scores[mask] = -np.inf\n",
    "        return np.argsort(-scores, axis=1)[:, :top_k]\n"
   ]
  },
  {
   "cell_type": "code",
   "execution_count": 172,
   "id": "dbfb10c8",
   "metadata": {},
   "outputs": [],
   "source": [
    "params = {\n",
    "    'n_factors': 86, \n",
    "    'alpha': 0.13387931599667238, \n",
    "    'reg_coef': 5.188166493454658\n",
    "    }"
   ]
  },
  {
   "cell_type": "code",
   "execution_count": 173,
   "id": "011aa0fb",
   "metadata": {},
   "outputs": [],
   "source": [
    "ials = iALS(**params)\n",
    "ials.fit(interactions)"
   ]
  },
  {
   "cell_type": "code",
   "execution_count": 174,
   "id": "bdef777c",
   "metadata": {},
   "outputs": [],
   "source": [
    "recs_ials = ials.predict()"
   ]
  },
  {
   "cell_type": "code",
   "execution_count": 175,
   "id": "1434459a",
   "metadata": {},
   "outputs": [
    {
     "data": {
      "text/plain": [
       "array([[ 211,  875,  889, ..., 2041, 2674, 2008],\n",
       "       [ 211,  875,  889, ..., 2674, 2008,  812],\n",
       "       [ 510,  449,  875, ..., 2049, 2746,  901],\n",
       "       ...,\n",
       "       [2168,  510,  449, ...,  670, 1022, 1396],\n",
       "       [2168,  510,  449, ...,  901, 2746,  924],\n",
       "       [ 404,  947, 1940, ...,  725, 1194, 2098]])"
      ]
     },
     "execution_count": 175,
     "metadata": {},
     "output_type": "execute_result"
    }
   ],
   "source": [
    "recs_ials"
   ]
  },
  {
   "cell_type": "code",
   "execution_count": 176,
   "id": "70cab9e9",
   "metadata": {},
   "outputs": [],
   "source": [
    "result(\"ials\", recs_ials, test_result)"
   ]
  },
  {
   "cell_type": "code",
   "execution_count": 177,
   "id": "dc56a3f5",
   "metadata": {},
   "outputs": [
    {
     "data": {
      "text/html": [
       "<div>\n",
       "<style scoped>\n",
       "    .dataframe tbody tr th:only-of-type {\n",
       "        vertical-align: middle;\n",
       "    }\n",
       "\n",
       "    .dataframe tbody tr th {\n",
       "        vertical-align: top;\n",
       "    }\n",
       "\n",
       "    .dataframe thead th {\n",
       "        text-align: right;\n",
       "    }\n",
       "</style>\n",
       "<table border=\"1\" class=\"dataframe\">\n",
       "  <thead>\n",
       "    <tr style=\"text-align: right;\">\n",
       "      <th></th>\n",
       "      <th>user_id</th>\n",
       "      <th>item_ratings</th>\n",
       "      <th>optuna_svd</th>\n",
       "      <th>svd_base</th>\n",
       "      <th>optuna_als</th>\n",
       "      <th>als_base</th>\n",
       "      <th>svd_1</th>\n",
       "      <th>als_1</th>\n",
       "      <th>svd_2</th>\n",
       "      <th>als_2</th>\n",
       "      <th>svd_3</th>\n",
       "      <th>als_3</th>\n",
       "      <th>svd_4</th>\n",
       "      <th>als_4</th>\n",
       "      <th>svd_5</th>\n",
       "      <th>als_5</th>\n",
       "      <th>ials</th>\n",
       "    </tr>\n",
       "  </thead>\n",
       "  <tbody>\n",
       "    <tr>\n",
       "      <th>0</th>\n",
       "      <td>0</td>\n",
       "      <td>{959: 2, 2992: 3, 3004: 3, 1242: 3, 2251: 3, 9...</td>\n",
       "      <td>0.676244</td>\n",
       "      <td>0.645899</td>\n",
       "      <td>0.476259</td>\n",
       "      <td>0.681705</td>\n",
       "      <td>0.641329</td>\n",
       "      <td>0.395872</td>\n",
       "      <td>0.662146</td>\n",
       "      <td>0.658802</td>\n",
       "      <td>0.362572</td>\n",
       "      <td>0.653839</td>\n",
       "      <td>0.365966</td>\n",
       "      <td>0.683492</td>\n",
       "      <td>0.462672</td>\n",
       "      <td>0.685227</td>\n",
       "      <td>0.217981</td>\n",
       "    </tr>\n",
       "    <tr>\n",
       "      <th>1</th>\n",
       "      <td>1</td>\n",
       "      <td>{3005: 3, 2346: 3, 2490: 3, 2742: 3, 2747: 3, ...</td>\n",
       "      <td>0.896725</td>\n",
       "      <td>0.922113</td>\n",
       "      <td>0.884724</td>\n",
       "      <td>0.915020</td>\n",
       "      <td>0.910930</td>\n",
       "      <td>0.894766</td>\n",
       "      <td>0.906946</td>\n",
       "      <td>0.896067</td>\n",
       "      <td>0.870578</td>\n",
       "      <td>0.878459</td>\n",
       "      <td>0.876842</td>\n",
       "      <td>0.894996</td>\n",
       "      <td>0.911647</td>\n",
       "      <td>0.901830</td>\n",
       "      <td>0.826085</td>\n",
       "    </tr>\n",
       "    <tr>\n",
       "      <th>2</th>\n",
       "      <td>3</td>\n",
       "      <td>{2995: 1, 839: 1, 1848: 3, 2780: 3, 961: 4, 92...</td>\n",
       "      <td>0.000000</td>\n",
       "      <td>0.000000</td>\n",
       "      <td>0.203795</td>\n",
       "      <td>0.188732</td>\n",
       "      <td>0.000000</td>\n",
       "      <td>0.000000</td>\n",
       "      <td>0.209753</td>\n",
       "      <td>0.156021</td>\n",
       "      <td>0.286395</td>\n",
       "      <td>0.157732</td>\n",
       "      <td>0.273757</td>\n",
       "      <td>0.151517</td>\n",
       "      <td>0.000000</td>\n",
       "      <td>0.187902</td>\n",
       "      <td>0.000000</td>\n",
       "    </tr>\n",
       "    <tr>\n",
       "      <th>3</th>\n",
       "      <td>4</td>\n",
       "      <td>{580: 5, 665: 5, 666: 5, 1203: 5, 510: 5, 2097...</td>\n",
       "      <td>0.434631</td>\n",
       "      <td>0.476432</td>\n",
       "      <td>0.378857</td>\n",
       "      <td>0.501301</td>\n",
       "      <td>0.492133</td>\n",
       "      <td>0.441820</td>\n",
       "      <td>0.552162</td>\n",
       "      <td>0.440461</td>\n",
       "      <td>0.453202</td>\n",
       "      <td>0.424037</td>\n",
       "      <td>0.451781</td>\n",
       "      <td>0.412844</td>\n",
       "      <td>0.503193</td>\n",
       "      <td>0.434914</td>\n",
       "      <td>0.677751</td>\n",
       "    </tr>\n",
       "    <tr>\n",
       "      <th>4</th>\n",
       "      <td>6</td>\n",
       "      <td>{1526: 1, 1536: 1, 742: 1, 162: 1, 525: 1, 113...</td>\n",
       "      <td>0.918703</td>\n",
       "      <td>0.921474</td>\n",
       "      <td>0.891724</td>\n",
       "      <td>0.937018</td>\n",
       "      <td>0.926288</td>\n",
       "      <td>0.902997</td>\n",
       "      <td>0.921391</td>\n",
       "      <td>0.904860</td>\n",
       "      <td>0.904526</td>\n",
       "      <td>0.900100</td>\n",
       "      <td>0.900782</td>\n",
       "      <td>0.900901</td>\n",
       "      <td>0.916734</td>\n",
       "      <td>0.925321</td>\n",
       "      <td>0.906168</td>\n",
       "    </tr>\n",
       "    <tr>\n",
       "      <th>...</th>\n",
       "      <td>...</td>\n",
       "      <td>...</td>\n",
       "      <td>...</td>\n",
       "      <td>...</td>\n",
       "      <td>...</td>\n",
       "      <td>...</td>\n",
       "      <td>...</td>\n",
       "      <td>...</td>\n",
       "      <td>...</td>\n",
       "      <td>...</td>\n",
       "      <td>...</td>\n",
       "      <td>...</td>\n",
       "      <td>...</td>\n",
       "      <td>...</td>\n",
       "      <td>...</td>\n",
       "      <td>...</td>\n",
       "      <td>...</td>\n",
       "    </tr>\n",
       "    <tr>\n",
       "      <th>1142</th>\n",
       "      <td>5325</td>\n",
       "      <td>{496: 2, 1084: 2, 2791: 2, 1032: 2, 134: 2, 21...</td>\n",
       "      <td>0.440920</td>\n",
       "      <td>0.435402</td>\n",
       "      <td>0.537495</td>\n",
       "      <td>0.449388</td>\n",
       "      <td>0.518107</td>\n",
       "      <td>0.517782</td>\n",
       "      <td>0.424625</td>\n",
       "      <td>0.406590</td>\n",
       "      <td>0.354817</td>\n",
       "      <td>0.400670</td>\n",
       "      <td>0.362133</td>\n",
       "      <td>0.412802</td>\n",
       "      <td>0.420494</td>\n",
       "      <td>0.634163</td>\n",
       "      <td>0.349754</td>\n",
       "    </tr>\n",
       "    <tr>\n",
       "      <th>1143</th>\n",
       "      <td>5326</td>\n",
       "      <td>{2394: 2, 2411: 2, 664: 3, 2610: 3, 850: 3, 16...</td>\n",
       "      <td>0.602222</td>\n",
       "      <td>0.611227</td>\n",
       "      <td>0.632784</td>\n",
       "      <td>0.607165</td>\n",
       "      <td>0.560950</td>\n",
       "      <td>0.534399</td>\n",
       "      <td>0.582924</td>\n",
       "      <td>0.604847</td>\n",
       "      <td>0.668776</td>\n",
       "      <td>0.632022</td>\n",
       "      <td>0.668542</td>\n",
       "      <td>0.616281</td>\n",
       "      <td>0.604195</td>\n",
       "      <td>0.589205</td>\n",
       "      <td>0.398457</td>\n",
       "    </tr>\n",
       "    <tr>\n",
       "      <th>1144</th>\n",
       "      <td>5340</td>\n",
       "      <td>{1111: 1, 2939: 1, 1527: 2, 676: 2, 682: 2, 13...</td>\n",
       "      <td>0.571279</td>\n",
       "      <td>0.562295</td>\n",
       "      <td>0.589100</td>\n",
       "      <td>0.603536</td>\n",
       "      <td>0.610448</td>\n",
       "      <td>0.510082</td>\n",
       "      <td>0.255860</td>\n",
       "      <td>0.492923</td>\n",
       "      <td>0.224678</td>\n",
       "      <td>0.419913</td>\n",
       "      <td>0.220965</td>\n",
       "      <td>0.409504</td>\n",
       "      <td>0.550290</td>\n",
       "      <td>0.578857</td>\n",
       "      <td>0.366318</td>\n",
       "    </tr>\n",
       "    <tr>\n",
       "      <th>1145</th>\n",
       "      <td>5352</td>\n",
       "      <td>{2279: 4}</td>\n",
       "      <td>0.000000</td>\n",
       "      <td>0.000000</td>\n",
       "      <td>0.000000</td>\n",
       "      <td>0.000000</td>\n",
       "      <td>0.000000</td>\n",
       "      <td>0.000000</td>\n",
       "      <td>0.000000</td>\n",
       "      <td>0.000000</td>\n",
       "      <td>0.000000</td>\n",
       "      <td>0.000000</td>\n",
       "      <td>0.000000</td>\n",
       "      <td>0.000000</td>\n",
       "      <td>0.000000</td>\n",
       "      <td>0.000000</td>\n",
       "      <td>0.000000</td>\n",
       "    </tr>\n",
       "    <tr>\n",
       "      <th>1146</th>\n",
       "      <td>5364</td>\n",
       "      <td>{2588: 3, 947: 3, 126: 3, 1307: 3, 1532: 4, 19...</td>\n",
       "      <td>0.623344</td>\n",
       "      <td>0.662904</td>\n",
       "      <td>0.657047</td>\n",
       "      <td>0.666415</td>\n",
       "      <td>0.672736</td>\n",
       "      <td>0.719175</td>\n",
       "      <td>0.570996</td>\n",
       "      <td>0.641332</td>\n",
       "      <td>0.585395</td>\n",
       "      <td>0.631395</td>\n",
       "      <td>0.590218</td>\n",
       "      <td>0.627002</td>\n",
       "      <td>0.611300</td>\n",
       "      <td>0.682718</td>\n",
       "      <td>0.562504</td>\n",
       "    </tr>\n",
       "  </tbody>\n",
       "</table>\n",
       "<p>1147 rows × 17 columns</p>\n",
       "</div>"
      ],
      "text/plain": [
       "      user_id                                       item_ratings  optuna_svd  \\\n",
       "0           0  {959: 2, 2992: 3, 3004: 3, 1242: 3, 2251: 3, 9...    0.676244   \n",
       "1           1  {3005: 3, 2346: 3, 2490: 3, 2742: 3, 2747: 3, ...    0.896725   \n",
       "2           3  {2995: 1, 839: 1, 1848: 3, 2780: 3, 961: 4, 92...    0.000000   \n",
       "3           4  {580: 5, 665: 5, 666: 5, 1203: 5, 510: 5, 2097...    0.434631   \n",
       "4           6  {1526: 1, 1536: 1, 742: 1, 162: 1, 525: 1, 113...    0.918703   \n",
       "...       ...                                                ...         ...   \n",
       "1142     5325  {496: 2, 1084: 2, 2791: 2, 1032: 2, 134: 2, 21...    0.440920   \n",
       "1143     5326  {2394: 2, 2411: 2, 664: 3, 2610: 3, 850: 3, 16...    0.602222   \n",
       "1144     5340  {1111: 1, 2939: 1, 1527: 2, 676: 2, 682: 2, 13...    0.571279   \n",
       "1145     5352                                          {2279: 4}    0.000000   \n",
       "1146     5364  {2588: 3, 947: 3, 126: 3, 1307: 3, 1532: 4, 19...    0.623344   \n",
       "\n",
       "      svd_base  optuna_als  als_base     svd_1     als_1     svd_2     als_2  \\\n",
       "0     0.645899    0.476259  0.681705  0.641329  0.395872  0.662146  0.658802   \n",
       "1     0.922113    0.884724  0.915020  0.910930  0.894766  0.906946  0.896067   \n",
       "2     0.000000    0.203795  0.188732  0.000000  0.000000  0.209753  0.156021   \n",
       "3     0.476432    0.378857  0.501301  0.492133  0.441820  0.552162  0.440461   \n",
       "4     0.921474    0.891724  0.937018  0.926288  0.902997  0.921391  0.904860   \n",
       "...        ...         ...       ...       ...       ...       ...       ...   \n",
       "1142  0.435402    0.537495  0.449388  0.518107  0.517782  0.424625  0.406590   \n",
       "1143  0.611227    0.632784  0.607165  0.560950  0.534399  0.582924  0.604847   \n",
       "1144  0.562295    0.589100  0.603536  0.610448  0.510082  0.255860  0.492923   \n",
       "1145  0.000000    0.000000  0.000000  0.000000  0.000000  0.000000  0.000000   \n",
       "1146  0.662904    0.657047  0.666415  0.672736  0.719175  0.570996  0.641332   \n",
       "\n",
       "         svd_3     als_3     svd_4     als_4     svd_5     als_5      ials  \n",
       "0     0.362572  0.653839  0.365966  0.683492  0.462672  0.685227  0.217981  \n",
       "1     0.870578  0.878459  0.876842  0.894996  0.911647  0.901830  0.826085  \n",
       "2     0.286395  0.157732  0.273757  0.151517  0.000000  0.187902  0.000000  \n",
       "3     0.453202  0.424037  0.451781  0.412844  0.503193  0.434914  0.677751  \n",
       "4     0.904526  0.900100  0.900782  0.900901  0.916734  0.925321  0.906168  \n",
       "...        ...       ...       ...       ...       ...       ...       ...  \n",
       "1142  0.354817  0.400670  0.362133  0.412802  0.420494  0.634163  0.349754  \n",
       "1143  0.668776  0.632022  0.668542  0.616281  0.604195  0.589205  0.398457  \n",
       "1144  0.224678  0.419913  0.220965  0.409504  0.550290  0.578857  0.366318  \n",
       "1145  0.000000  0.000000  0.000000  0.000000  0.000000  0.000000  0.000000  \n",
       "1146  0.585395  0.631395  0.590218  0.627002  0.611300  0.682718  0.562504  \n",
       "\n",
       "[1147 rows x 17 columns]"
      ]
     },
     "execution_count": 177,
     "metadata": {},
     "output_type": "execute_result"
    }
   ],
   "source": [
    "test_result"
   ]
  },
  {
   "cell_type": "code",
   "execution_count": 178,
   "id": "2d1cb94b",
   "metadata": {},
   "outputs": [
    {
     "name": "stdout",
     "output_type": "stream",
     "text": [
      "optuna_svd          : 0.5152\n",
      "svd_base            : 0.5227\n",
      "optuna_als          : 0.4952\n",
      "als_base            : 0.5139\n",
      "svd_1               : 0.5046\n",
      "als_1               : 0.5050\n",
      "svd_2               : 0.4804\n",
      "als_2               : 0.5157\n",
      "svd_3               : 0.4964\n",
      "als_3               : 0.5191\n",
      "svd_4               : 0.4996\n",
      "als_4               : 0.5256\n",
      "svd_5               : 0.5257\n",
      "als_5               : 0.5075\n",
      "ials                : 0.4844\n"
     ]
    }
   ],
   "source": [
    "ndcs_cols = test_result.columns[2:].to_list()\n",
    "for col in ndcs_cols:\n",
    "    print(f\"{col:20s}: {test_result[col].mean():.4f}\")"
   ]
  }
 ],
 "metadata": {
  "kernelspec": {
   "display_name": "Python 3",
   "language": "python",
   "name": "python3"
  },
  "language_info": {
   "codemirror_mode": {
    "name": "ipython",
    "version": 3
   },
   "file_extension": ".py",
   "mimetype": "text/x-python",
   "name": "python",
   "nbconvert_exporter": "python",
   "pygments_lexer": "ipython3",
   "version": "3.12.1"
  }
 },
 "nbformat": 4,
 "nbformat_minor": 5
}
